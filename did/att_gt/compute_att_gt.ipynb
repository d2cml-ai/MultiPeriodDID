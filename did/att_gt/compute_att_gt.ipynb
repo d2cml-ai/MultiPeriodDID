{
 "cells": [
  {
   "cell_type": "code",
   "execution_count": 5,
   "metadata": {},
   "outputs": [],
   "source": [
    "from pre_process_did import pre_process_did\n",
    "import pandas as pd, numpy as np\n",
    "from drdid import drdid, reg_did\n",
    "from compute_attgt import panel2cs2\n",
    "import statsmodels.api as sm\n",
    "import patsy \n",
    "fml = patsy.dmatrices\n",
    "\n",
    "lm = sm.WLS\n",
    "n_x = np.newaxis\n",
    "qr_solver = np.linalg.pinv"
   ]
  },
  {
   "cell_type": "code",
   "execution_count": 6,
   "metadata": {},
   "outputs": [
    {
     "data": {
      "text/html": [
       "<div>\n",
       "<style scoped>\n",
       "    .dataframe tbody tr th:only-of-type {\n",
       "        vertical-align: middle;\n",
       "    }\n",
       "\n",
       "    .dataframe tbody tr th {\n",
       "        vertical-align: top;\n",
       "    }\n",
       "\n",
       "    .dataframe thead th {\n",
       "        text-align: right;\n",
       "    }\n",
       "</style>\n",
       "<table border=\"1\" class=\"dataframe\">\n",
       "  <thead>\n",
       "    <tr style=\"text-align: right;\">\n",
       "      <th></th>\n",
       "      <th>Unnamed: 0</th>\n",
       "      <th>G</th>\n",
       "      <th>X</th>\n",
       "      <th>id</th>\n",
       "      <th>period</th>\n",
       "      <th>Y</th>\n",
       "    </tr>\n",
       "  </thead>\n",
       "  <tbody>\n",
       "    <tr>\n",
       "      <th>0</th>\n",
       "      <td>1</td>\n",
       "      <td>4</td>\n",
       "      <td>-0.876233</td>\n",
       "      <td>1</td>\n",
       "      <td>1</td>\n",
       "      <td>3.248701</td>\n",
       "    </tr>\n",
       "    <tr>\n",
       "      <th>1</th>\n",
       "      <td>2</td>\n",
       "      <td>4</td>\n",
       "      <td>-0.876233</td>\n",
       "      <td>1</td>\n",
       "      <td>2</td>\n",
       "      <td>2.266837</td>\n",
       "    </tr>\n",
       "    <tr>\n",
       "      <th>2</th>\n",
       "      <td>3</td>\n",
       "      <td>4</td>\n",
       "      <td>-0.876233</td>\n",
       "      <td>1</td>\n",
       "      <td>3</td>\n",
       "      <td>3.990885</td>\n",
       "    </tr>\n",
       "    <tr>\n",
       "      <th>3</th>\n",
       "      <td>4</td>\n",
       "      <td>4</td>\n",
       "      <td>-0.876233</td>\n",
       "      <td>1</td>\n",
       "      <td>4</td>\n",
       "      <td>4.653489</td>\n",
       "    </tr>\n",
       "    <tr>\n",
       "      <th>4</th>\n",
       "      <td>5</td>\n",
       "      <td>4</td>\n",
       "      <td>0.974974</td>\n",
       "      <td>2</td>\n",
       "      <td>1</td>\n",
       "      <td>5.880457</td>\n",
       "    </tr>\n",
       "  </tbody>\n",
       "</table>\n",
       "</div>"
      ],
      "text/plain": [
       "   Unnamed: 0  G         X  id  period         Y\n",
       "0           1  4 -0.876233   1       1  3.248701\n",
       "1           2  4 -0.876233   1       2  2.266837\n",
       "2           3  4 -0.876233   1       3  3.990885\n",
       "3           4  4 -0.876233   1       4  4.653489\n",
       "4           5  4  0.974974   2       1  5.880457"
      ]
     },
     "execution_count": 6,
     "metadata": {},
     "output_type": "execute_result"
    }
   ],
   "source": [
    "data = pd.read_csv(\"../../data/sim_data.csv\")\n",
    "data.head()"
   ]
  },
  {
   "cell_type": "code",
   "execution_count": 7,
   "metadata": {},
   "outputs": [
    {
     "data": {
      "text/plain": [
       "dict_keys(['yname', 'tname', 'idname', 'gname', 'xformla', 'data', 'tlist', 'glist', 'n', 'nG', 'nT', 'control_group', 'anticipation', 'weights_name', 'panel', 'true_rep_cross_section', 'clustervar'])"
      ]
     },
     "execution_count": 7,
     "metadata": {},
     "output_type": "execute_result"
    }
   ],
   "source": [
    "yname = \"Y\"\n",
    "tname = \"period\"\n",
    "idname = \"id\"\n",
    "gname = \"G\"\n",
    "data = data\n",
    "xformla = \"Y~X\"\n",
    "dp = pre_process_did(idname=idname, yname=yname, tname=tname, gname=gname, data = data, xformla= xformla)\n",
    "\n",
    "dp.keys()"
   ]
  },
  {
   "cell_type": "code",
   "execution_count": 8,
   "metadata": {},
   "outputs": [],
   "source": [
    "from compute_attgt import  compute_att_gt"
   ]
  },
  {
   "cell_type": "code",
   "execution_count": 10,
   "metadata": {},
   "outputs": [
    {
     "name": "stdout",
     "output_type": "stream",
     "text": [
      "[0.10768167926179448]\n",
      "[0.10768167926179448, -0.2512301135435509]\n",
      "[0.10768167926179448, -0.2512301135435509, -1.439661425578744]\n",
      "[0.10768167926179448, -0.2512301135435509, -1.439661425578744, 0.10768167926179448]\n",
      "[0.10768167926179448, -0.2512301135435509, -1.439661425578744, 0.10768167926179448, -0.2512301135435509]\n",
      "[0.10768167926179448, -0.2512301135435509, -1.439661425578744, 0.10768167926179448, -0.2512301135435509, -1.439661425578744]\n",
      "[0.10768167926179448, -0.2512301135435509, -1.439661425578744, 0.10768167926179448, -0.2512301135435509, -1.439661425578744, 0.10768167926179448]\n",
      "[0.10768167926179448, -0.2512301135435509, -1.439661425578744, 0.10768167926179448, -0.2512301135435509, -1.439661425578744, 0.10768167926179448, -0.2512301135435509]\n",
      "[0.10768167926179448, -0.2512301135435509, -1.439661425578744, 0.10768167926179448, -0.2512301135435509, -1.439661425578744, 0.10768167926179448, -0.2512301135435509, -1.439661425578744]\n"
     ]
    },
    {
     "data": {
      "text/plain": [
       "3"
      ]
     },
     "execution_count": 10,
     "metadata": {},
     "output_type": "execute_result"
    }
   ],
   "source": [
    "op, inf = compute_att_gt(dp)"
   ]
  },
  {
   "cell_type": "code",
   "execution_count": 10,
   "metadata": {},
   "outputs": [
    {
     "data": {
      "text/plain": [
       "23"
      ]
     },
     "execution_count": 10,
     "metadata": {},
     "output_type": "execute_result"
    }
   ],
   "source": [
    "\n",
    "23"
   ]
  },
  {
   "cell_type": "code",
   "execution_count": 32,
   "metadata": {},
   "outputs": [],
   "source": [
    "####### compute att_gt params\n",
    "est_method = \"reg\"\n",
    "base_period = \"varying\"\n",
    "\n",
    "\n",
    "yname = dp['yname']\n",
    "tname = dp['tname']\n",
    "idname = dp['idname']\n",
    "xformla = dp['xformla']\n",
    "data = dp['data']\n",
    "weights_name = dp['weights_name']\n",
    "# base_period = dp['base_period']\n",
    "panel = dp['panel']\n",
    "true_rep_cross_section = dp['true_rep_cross_section']\n",
    "control_group = dp['control_group']\n",
    "anticipation = dp['anticipation']\n",
    "gname = dp['gname']\n",
    "n = dp['n']\n",
    "nT = dp['nT']\n",
    "nG = dp['nG']\n",
    "tlist = dp['tlist']\n",
    "glist = dp['glist']"
   ]
  },
  {
   "cell_type": "code",
   "execution_count": 33,
   "metadata": {},
   "outputs": [],
   "source": [
    "tlist_len, tfac = len(tlist), 0\n",
    "if base_period != 'universal':\n",
    "  tlist_len, tfact = tlist_len - 1, 1\n",
    "\n",
    "inf_func = []\n",
    "\n",
    "att_est, group, year, post_array = [], [], [], []\n",
    "\n",
    "never_treated = control_group == 'nevertreated'\n",
    "if never_treated:\n",
    "  data = data.assign(C = 1 * (data[gname] == 0))\n",
    "data = data.assign(y_main = data[yname])"
   ]
  },
  {
   "cell_type": "code",
   "execution_count": 34,
   "metadata": {},
   "outputs": [
    {
     "data": {
      "text/plain": [
       "(2, 1)"
      ]
     },
     "execution_count": 34,
     "metadata": {},
     "output_type": "execute_result"
    }
   ],
   "source": [
    "g, t = glist[0], tlist[0]"
   ]
  },
  {
   "cell_type": "code",
   "execution_count": 35,
   "metadata": {},
   "outputs": [],
   "source": [
    "# for _, g, in enumerate(glist)\n",
    "data = data.assign(G_m = 1 * (data[gname] == g))\n",
    "# sum(data.G)"
   ]
  },
  {
   "cell_type": "code",
   "execution_count": 36,
   "metadata": {},
   "outputs": [],
   "source": [
    "# for _, t, in enumerate(glist)\n",
    "pret = t\n",
    "tn = tlist[t + tfac]\n",
    "if base_period == 'universal' or g < tn:\n",
    "  try:\n",
    "    pret = np.where(tlist + anticipation < g)[0][-1]\n",
    "  except:\n",
    "    raise f\"There are no pre-treatment periods for the group first treated at {g}\\nUnits from this group are dropped\"\n",
    "    # break\n",
    "def add_att_data(att = 0, pst = 0, inf_f = []):\n",
    "  inf_func.append(inf_f)\n",
    "  att_est.append(att)\n",
    "  group.append(g)\n",
    "  year.append(tn)\n",
    "  post_array.append(pst)\n",
    "\n",
    "if base_period == 'universal':\n",
    "  if pret == tn:\n",
    "    add_att_data()\n",
    "\n",
    "if not never_treated:\n",
    "  n1 = data[gname] == 0\n",
    "  n2 = (data[gname] > (tlist[np.max([t, pret]) + tfac]) + anticipation)\n",
    "  n3 = np.where(data[gname] != glist[g], True, False)\n",
    "  row_eval = n1 | n2 & n3\n",
    "  data = data.assign(C = 1 * row_eval)\n",
    "\n",
    "post_treat = 1 * (g <= tn)"
   ]
  },
  {
   "cell_type": "code",
   "execution_count": 37,
   "metadata": {},
   "outputs": [],
   "source": [
    "disdat = data[(data[tname] == tn) | (data[tname] == pret)]"
   ]
  },
  {
   "attachments": {},
   "cell_type": "markdown",
   "metadata": {},
   "source": [
    "# panel: True"
   ]
  },
  {
   "cell_type": "code",
   "execution_count": 38,
   "metadata": {},
   "outputs": [],
   "source": [
    "disdat = panel2cs2(data=disdat, yname=yname, idname=idname, tname=tname)"
   ]
  },
  {
   "cell_type": "code",
   "execution_count": 39,
   "metadata": {},
   "outputs": [],
   "source": [
    "disdat = disdat.dropna()\n",
    "n = len(disdat)\n",
    "dis_idx = np.array(disdat.G_m == 1) | np.array(disdat.C == 1)\n",
    "disdat = disdat.loc[dis_idx, :]\n",
    "n1 = len(disdat)\n",
    "G = disdat.G_m\n",
    "C = disdat.C\n",
    "w = disdat.w"
   ]
  },
  {
   "cell_type": "code",
   "execution_count": 40,
   "metadata": {},
   "outputs": [],
   "source": [
    "ypre = disdat.y0 if tn > pret else disdat.y1\n",
    "ypost = disdat.y0 if tn < pret else disdat.y1\n",
    "_, covariates = fml(xformla, data = disdat, return_type = 'dataframe')\n",
    "\n",
    "G, C, w, ypre = map(np.array, [G, C, w, ypre])\n",
    "ypost, covariates = map(np.array, [ypost, covariates])"
   ]
  },
  {
   "cell_type": "code",
   "execution_count": 41,
   "metadata": {},
   "outputs": [],
   "source": [
    "#todo: https://github.com/bcallaway11/did/blob/master/R/compute.att_gt.R\n",
    "# 192 - 224"
   ]
  },
  {
   "cell_type": "code",
   "execution_count": 42,
   "metadata": {},
   "outputs": [],
   "source": [
    "est_method = 'reg'\n",
    "\n",
    "if callable(est_method):\n",
    "  est_att_f = est_method\n",
    "elif est_method == \"reg\":\n",
    "  est_att_f = reg_did.reg_did_panel\n",
    "elif est_method == \"dr\":\n",
    "  est_att_f = drdid.drdid_panel\n",
    "\n",
    "att_gt, att_inf_func = est_att_f(ypost, ypre, G, i_weights=w, covariates=covariates)\n",
    "\n",
    "inf_zeros = np.zeros(n)\n",
    "att_inf = n / n1 * att_inf_func\n",
    "inf_zeros[dis_idx] = att_inf\n",
    "\n",
    "add_att_data(att_gt, inf_f=inf_zeros)"
   ]
  },
  {
   "attachments": {},
   "cell_type": "markdown",
   "metadata": {},
   "source": [
    "## reg did panel"
   ]
  },
  {
   "cell_type": "code",
   "execution_count": 245,
   "metadata": {},
   "outputs": [],
   "source": [
    "y1, y0 = ypost, ypre\n",
    "D = G\n",
    "i_weights = w"
   ]
  },
  {
   "cell_type": "code",
   "execution_count": 282,
   "metadata": {},
   "outputs": [
    {
     "data": {
      "text/plain": [
       "0.837332770155919"
      ]
     },
     "execution_count": 282,
     "metadata": {},
     "output_type": "execute_result"
    }
   ],
   "source": [
    "delta_y = y1 - y0\n",
    "rows = D == 0\n",
    "int_cov = covariates\n",
    "reg_coef = lm(delta_y[rows], int_cov[rows], weights=i_weights[rows]).fit().params\n",
    "out_delta = np.dot(reg_coef, int_cov.T)\n",
    "w_treat = i_weights * D\n",
    "w_cont = w_treat.copy()\n",
    "\n",
    "reg_att_treat = w_treat * delta_y\n",
    "reg_att_cont = w_cont * out_delta\n",
    "\n",
    "eta_treat = np.mean(reg_att_treat) / np.mean(w_treat)\n",
    "eta_cont = np.mean(reg_att_cont) / np.mean(w_cont)\n",
    "\n",
    "reg_att = eta_treat - eta_cont\n",
    "reg_att"
   ]
  },
  {
   "cell_type": "code",
   "execution_count": 251,
   "metadata": {},
   "outputs": [],
   "source": [
    "def asy_lin_wols(d, post, y, out_y, int_cov = int_cov):\n",
    "  weigths_ols = i_weights * d * post\n",
    "  # weigths_ols_pre\n",
    "  wols_x = weigths_ols[:, n_x] * int_cov\n",
    "  wols_ex = (weigths_ols * (y - out_y))[:, n_x] * int_cov\n",
    "  cr = np.dot(wols_x.T, int_cov) / n\n",
    "  xpx_inv = qr_solver(cr)\n",
    "  asy_lin_rep_ols = np.dot(wols_ex, xpx_inv)\n",
    "  return asy_lin_rep_ols"
   ]
  },
  {
   "cell_type": "code",
   "execution_count": 283,
   "metadata": {},
   "outputs": [
    {
     "data": {
      "text/plain": [
       "array([-2.47239908, -2.34905375,  5.9761538 ,  4.01019489, -0.2709215 ,\n",
       "        1.76844196,  0.45809651, -2.63050527,  1.6478091 , -2.77303879,\n",
       "        3.18030929, -4.77950291, -1.76558425, -6.52585739,  4.37503106,\n",
       "        1.34167738,  3.19051877, -0.56803193,  7.90396666,  1.14035725,\n",
       "       -2.24059544, -6.15819975, -3.33022934,  4.31986568,  3.62003099,\n",
       "        3.66897074, -0.66277015, -0.90081119, -6.72471533, -5.02026978,\n",
       "       -5.15355753,  9.82110117, -2.09648189])"
      ]
     },
     "execution_count": 283,
     "metadata": {},
     "output_type": "execute_result"
    }
   ],
   "source": [
    "d = 1 - D\n",
    "post = 1\n",
    "\n",
    "asy_lin_rep_ols = asy_lin_wols(d, post, delta_y, out_delta)\n",
    "inf_treat = (reg_att_treat - w_treat * eta_treat) / np.mean(w_treat)\n",
    "inf_cont_1 = (reg_att_cont - w_cont * eta_cont)\n",
    "\n",
    "M1 = np.mean(w_cont[:, n_x] * int_cov, axis = 0)\n",
    "inf_cont_2 = np.dot(asy_lin_rep_ols, M1)\n",
    "inf_control = (inf_cont_1 + inf_cont_2) / np.mean(w_cont)\n",
    "\n",
    "reg_att_inf_func = inf_treat - inf_control\n",
    "reg_att_inf_func"
   ]
  },
  {
   "cell_type": "code",
   "execution_count": 68,
   "metadata": {},
   "outputs": [],
   "source": []
  },
  {
   "attachments": {},
   "cell_type": "markdown",
   "metadata": {},
   "source": [
    "# panel: False"
   ]
  },
  {
   "cell_type": "code",
   "execution_count": 83,
   "metadata": {},
   "outputs": [],
   "source": [
    "right_ids = np.array(disdat.query('(G_m == 1) or (C == 1)').rowid)\n",
    "dis_idx = (data['rowid'].isin(right_ids)) &\\\n",
    "   ((data[tname] == tn) |\\\n",
    "    (data[tname] == pret))\n",
    "\n",
    "disdat = data.loc[dis_idx]\n",
    "\n",
    "G = disdat.G_m\n",
    "C = disdat.C\n",
    "Y = disdat[yname]\n",
    "post = 1 * (disdat[tname] == tn)\n",
    "w = disdat.w\n",
    "\n",
    "G, C, Y, post, w = map(np.array, [G, C, Y, post, w])\n",
    "\n",
    "n1 = sum(G + C)"
   ]
  },
  {
   "cell_type": "code",
   "execution_count": 84,
   "metadata": {},
   "outputs": [],
   "source": [
    "skip_this_att_gt = False\n",
    "if np.sum(G * post) == 0:\n",
    "  raise f\"No units in group {g} in time period {tn}\"\n",
    "  skip_this_att_gt = True \n",
    "\n",
    "if np.sum(G * (1 - post)) == 0:\n",
    "  raise f\"No units in group {g} in time period {t}\"\n",
    "  skip_this_att_gt = True \n",
    "\n",
    "if np.sum(C * post) == 0:\n",
    "  raise f\"No available control units for group {g} in time period {tn}\"\n",
    "  skip_this_att_gt = True \n",
    "\n",
    "if np.sum(C * (1 - post)) == 0:\n",
    "  raise f\"No available control units for group {g} in time period {t}\"\n",
    "  skip_this_att_gt = True \n",
    "\n",
    "if skip_this_att_gt:\n",
    "  add_att_data()\n"
   ]
  },
  {
   "cell_type": "code",
   "execution_count": 85,
   "metadata": {},
   "outputs": [],
   "source": [
    "\n",
    "_, covariates = fml(xformla, data = disdat, return_type = 'dataframe')\n",
    "covariates = np.array(covariates)"
   ]
  },
  {
   "attachments": {},
   "cell_type": "markdown",
   "metadata": {},
   "source": [
    "### Drdid rc"
   ]
  },
  {
   "attachments": {},
   "cell_type": "markdown",
   "metadata": {},
   "source": [
    "<!-- pip install git+https://github.com/d2cml-ai/drdid -->"
   ]
  },
  {
   "cell_type": "code",
   "execution_count": 86,
   "metadata": {},
   "outputs": [],
   "source": [
    "est_method = 'dr'\n",
    "\n",
    "if callable(est_method):\n",
    "  est_att_f = est_method\n",
    "elif est_method == \"reg\":\n",
    "  est_att_f = reg_did.reg_did_rc\n",
    "elif est_method == \"dr\":\n",
    "  est_att_f = drdid.drdid_rc\n",
    "att_gt, att_inf_func = est_att_f(y=Y, post=post, D = G, i_weights=w, covariates=covariates)\n"
   ]
  },
  {
   "cell_type": "code",
   "execution_count": 87,
   "metadata": {},
   "outputs": [
    {
     "name": "stdout",
     "output_type": "stream",
     "text": [
      "end panel = false\n"
     ]
    }
   ],
   "source": [
    "inf_func_df = pd.DataFrame(\n",
    "  {\n",
    "    \"inf_func\": att_inf_func,\n",
    "    \"right_ids\": right_ids\n",
    "  }\n",
    ")\n",
    "inf_zeros = np.zeros(n)\n",
    "aggte_infffuc = inf_func_df.groupby('right_ids').inf_func.sum()\n",
    "dis_idx1 = np.isin(data['rowid'].unique(), aggte_infffuc.index)\n",
    "inf_zeros[dis_idx1] = np.array(aggte_infffuc)\n",
    "\n",
    "add_att_data(att_gt, pst = post_treat, inf_f=inf_zeros)\n",
    "print(\"end panel = false\")\n",
    "## End panel false"
   ]
  },
  {
   "cell_type": "code",
   "execution_count": 88,
   "metadata": {},
   "outputs": [
    {
     "data": {
      "text/plain": [
       "({'att': [0.8363102379527425], 'group': [2], 'year': [2], 'post ': [1]},\n",
       " array([[ 0.        ,  0.        ,  0.        , -4.89334027,  0.        ,\n",
       "          0.        ,  0.        ,  0.        ,  0.        ,  0.        ,\n",
       "          0.        ,  0.        ,  0.        ,  0.        ,  0.        ,\n",
       "          0.        ,  0.        ,  0.        ,  0.        ,  0.        ,\n",
       "          0.        , -4.62458585, 11.93163138,  0.        ,  7.86864698,\n",
       "          0.        ,  0.        ,  0.        ,  0.        ,  0.        ,\n",
       "         -0.57533679,  0.        ,  0.        ,  0.        ,  0.        ,\n",
       "          0.        ,  0.        ,  3.52902342,  0.        ,  0.        ,\n",
       "          0.93231109, -5.24811098,  3.11064293,  0.        ,  0.        ,\n",
       "         -5.46879965,  0.        ,  0.        ,  0.        ,  0.        ,\n",
       "          0.        ,  0.        ,  6.47418615, -9.56550338,  0.        ,\n",
       "          0.        ,  0.        ,  0.        , -3.4888134 ,  0.        ,\n",
       "         -5.33278969,  3.37429364,  1.03832362,  2.87290774, -0.44711695,\n",
       "          6.96392396,  0.78159554, -1.83720401, -4.91411643, -2.73274399,\n",
       "          3.47235223,  2.77369032,  3.03338765, -0.52053657, -0.75528716,\n",
       "         -5.49304441, -4.06053652, -4.5285257 ,  8.04853344, -1.71905835]]))"
      ]
     },
     "execution_count": 88,
     "metadata": {},
     "output_type": "execute_result"
    }
   ],
   "source": [
    "# data Struct\n",
    "output = {\n",
    "  \"att\" : att_est,\n",
    "  'group': group ,\n",
    "  'year': year,\n",
    "  'post ': post_array\n",
    "}\n",
    "output, np.array(inf_func)\n"
   ]
  },
  {
   "cell_type": "code",
   "execution_count": null,
   "metadata": {},
   "outputs": [],
   "source": []
  },
  {
   "cell_type": "code",
   "execution_count": 89,
   "metadata": {},
   "outputs": [
    {
     "name": "stderr",
     "output_type": "stream",
     "text": [
      "C:\\Users\\Jhon\\AppData\\Local\\Temp\\ipykernel_7100\\467515111.py:3: DeprecationWarning: elementwise comparison failed; this will raise an error in the future.\n",
      "  if np.all(covariates[:, 0] == int_cov):\n"
     ]
    },
    {
     "ename": "ValueError",
     "evalue": "all the input array dimensions except for the concatenation axis must match exactly, but along dimension 0, the array at index 0 has size 80 and the array at index 1 has size 66",
     "output_type": "error",
     "traceback": [
      "\u001b[1;31m---------------------------------------------------------------------------\u001b[0m",
      "\u001b[1;31mValueError\u001b[0m                                Traceback (most recent call last)",
      "Cell \u001b[1;32mIn[89], line 6\u001b[0m\n\u001b[0;32m      4\u001b[0m   int_cov \u001b[39m=\u001b[39m covariates\n\u001b[0;32m      5\u001b[0m \u001b[39melse\u001b[39;00m:\n\u001b[1;32m----> 6\u001b[0m   int_cov \u001b[39m=\u001b[39m np\u001b[39m.\u001b[39;49mconcatenate((np\u001b[39m.\u001b[39;49mones((n, \u001b[39m1\u001b[39;49m)), covariates), axis\u001b[39m=\u001b[39;49m\u001b[39m1\u001b[39;49m)\n",
      "File \u001b[1;32m<__array_function__ internals>:200\u001b[0m, in \u001b[0;36mconcatenate\u001b[1;34m(*args, **kwargs)\u001b[0m\n",
      "\u001b[1;31mValueError\u001b[0m: all the input array dimensions except for the concatenation axis must match exactly, but along dimension 0, the array at index 0 has size 80 and the array at index 1 has size 66"
     ]
    }
   ],
   "source": [
    "int_cov = np.ones(n)\n",
    "if covariates is not None:\n",
    "  if np.all(covariates[:, 0] == int_cov):\n",
    "    int_cov = covariates\n",
    "  else:\n",
    "    int_cov = np.concatenate((np.ones((n, 1)), covariates), axis=1)"
   ]
  },
  {
   "cell_type": "code",
   "execution_count": null,
   "metadata": {},
   "outputs": [],
   "source": [
    "pscore_tr = glm(D, int_cov, family=binomial, freq_weights=i_weights)\\\n",
    "  .fit()\n",
    "ps_fit = pscore_tr.fittedvalues\n",
    "ps_fit = np.minimum(ps_fit, 1 - 1e-16)\n",
    "\n",
    "def reg_out_y(d, p, y = y, int_cov = int_cov, wg = i_weights):\n",
    "  rows_ = (D == d) & (post == p)\n",
    "  reg_cont = lm(y[rows_], int_cov[rows_], weights=wg[rows_])\\\n",
    "    .fit().params\n",
    "  out_y = np.dot(reg_cont, int_cov.T)\n",
    "  return out_y\n",
    "\n",
    "\n",
    "out_y_cont_pre = reg_out_y(d = 0, p = 0)\n",
    "out_y_cont_post = reg_out_y(d = 0, p = 1)\n",
    "out_y_cont = post * out_y_cont_post + (1 - post) * out_y_cont_pre \n",
    "\n",
    "\n",
    "out_y_treat_pre = reg_out_y(d = 1, p = 0)\n",
    "out_y_treat_post = reg_out_y(d = 1, p = 1)\n",
    "\n",
    "w_treat_pre = i_weights * D * (1 - post)\n",
    "w_treat_post = i_weights * D * post\n",
    "rest_cont = i_weights * ps_fit * (1 - D) \n",
    "w_cont_pre = rest_cont * (1 - post) / (1 - ps_fit)\n",
    "w_cont_post = rest_cont * post / (1 - ps_fit)\n",
    "\n",
    "\n",
    "w_d = i_weights * D\n",
    "w_dt1 = w_d * post\n",
    "w_dt0 = w_d * (1 - post)\n",
    "\n",
    "def eta_treat(a, b = out_y_cont, y = y):\n",
    "  return a * (y - b) / np.mean(a)\n",
    "\n",
    "eta_treat_pre = eta_treat(w_treat_pre)\n",
    "eta_treat_post = eta_treat(w_treat_post)\n",
    "eta_cont_pre = eta_treat(w_cont_pre)\n",
    "eta_cont_post = eta_treat(w_cont_post)\n",
    "\n",
    "eta_d_post = eta_treat(w_d, out_y_cont_post, out_y_treat_post)\n",
    "eta_d_pre = eta_treat(w_d, out_y_cont_pre, out_y_treat_pre)\n",
    "eta_dt1_post = eta_treat(w_dt1, out_y_cont_post, out_y_treat_post)\n",
    "eta_dt0_pre = eta_treat(w_dt0, out_y_cont_pre, out_y_treat_pre)\n",
    "\n",
    "att_treat_pre = np.mean(eta_treat_pre)\n",
    "att_treat_post = np.mean(eta_treat_post)\n",
    "att_cont_pre = np.mean(eta_cont_pre)\n",
    "att_cont_post = np.mean(eta_cont_post)\n",
    "\n",
    "att_d_post = np.mean(eta_d_post)\n",
    "att_dt1_post = np.mean(eta_dt1_post)\n",
    "att_d_pre = np.mean(eta_d_pre)\n",
    "att_dt0_pre = np.mean(eta_dt0_pre)\n",
    "\n",
    "\n",
    "dr_att = (att_treat_post - att_treat_pre) - \\\n",
    "  (att_cont_post - att_cont_pre) -\\\n",
    "  (att_d_post - att_dt1_post) -\\\n",
    "  (att_d_pre - att_dt0_pre)"
   ]
  },
  {
   "cell_type": "code",
   "execution_count": null,
   "metadata": {},
   "outputs": [],
   "source": [
    "def asy_lin_wols(d, post, out_y, int_cov = int_cov):\n",
    "  weigths_ols = i_weights * d * post\n",
    "  # weigths_ols_pre\n",
    "  wols_x = weigths_ols[:, n_x] * int_cov\n",
    "  wols_ex = (weigths_ols * (y - out_y))[:, n_x] * int_cov\n",
    "  cr = np.dot(wols_x.T, int_cov) / n\n",
    "  xpx_inv = qr_solver(cr)\n",
    "  asy_lin_rep_ols = np.dot(wols_ex, xpx_inv)\n",
    "  return asy_lin_rep_ols\n",
    "\n",
    "asy_lin_rep_ols_pre = asy_lin_wols((1 - D), (1 - post), out_y_cont_pre)\n",
    "asy_lin_rep_ols_post = asy_lin_wols((1 - D), post, out_y_cont_post)\n",
    "\n",
    "asy_lin_rep_ols_pre_treat = asy_lin_wols(\n",
    "  D, (1 - post), out_y_treat_pre\n",
    ")\n",
    "asy_lin_rep_ols_post_treat = asy_lin_wols(D, post, out_y_treat_post)\n"
   ]
  },
  {
   "cell_type": "code",
   "execution_count": null,
   "metadata": {},
   "outputs": [],
   "source": [
    "score_ps = (i_weights * (D - ps_fit))[:, n_x] * int_cov\n",
    "hessian_ps = pscore_tr.cov_params() * n \n",
    "asy_lin_rep_ps = np.dot(score_ps, hessian_ps)\n",
    "\n",
    "inf_treat_pre = eta_treat_pre - w_treat_pre * att_treat_pre\\\n",
    "  / mean(w_treat_pre)\n",
    "inf_treat_post = eta_treat_post - w_treat_post * att_treat_post\\\n",
    "  / mean(w_treat_post)\n",
    "\n",
    "M1_post = np.mean((w_treat_post * post)[:, n_x] * int_cov, axis=0) / np.mean(w_treat_post)\n",
    "M1_pre = np.mean((w_treat_pre * (1 - post))[:, n_x] * int_cov, axis=0) / np.mean(w_treat_pre)\n"
   ]
  },
  {
   "cell_type": "code",
   "execution_count": null,
   "metadata": {},
   "outputs": [],
   "source": [
    "inf_treat_or_post = np.dot(asy_lin_rep_ols_post, M1_post)\n",
    "inf_treat_or_pre = np.dot(asy_lin_rep_ols_pre, M1_pre)\n",
    "inf_treat_or = inf_treat_or_post - inf_treat_or_pre\n",
    "\n",
    "inf_treat = inf_treat_post - inf_treat_pre + inf_treat_or\n",
    "\n",
    "inf_cont_pre = eta_cont_pre - w_cont_pre * att_cont_pre / np.mean(w_cont_pre)\n",
    "inf_cont_post = eta_cont_post - w_cont_post * att_cont_post / np.mean(w_cont_post)\n"
   ]
  },
  {
   "cell_type": "code",
   "execution_count": null,
   "metadata": {},
   "outputs": [],
   "source": [
    "\n",
    "M2_pre = np.mean(\n",
    "  ((w_cont_pre * (y - out_y_cont - att_cont_pre))[:, n_x] * int_cov), \n",
    "  axis=0\n",
    ") / np.mean(w_cont_pre)\n",
    "M2_post = np.mean(\n",
    "  ((w_cont_post * (y - out_y_cont - att_cont_post))[:, n_x] * int_cov),\n",
    "  axis=0\n",
    ") / np.mean(w_cont_post)\n",
    "\n",
    "inf_cont_ps = np.dot(asy_lin_rep_ps, M2_post - M2_pre)"
   ]
  },
  {
   "cell_type": "code",
   "execution_count": null,
   "metadata": {},
   "outputs": [
    {
     "data": {
      "text/plain": [
       "0.8363102379527425"
      ]
     },
     "execution_count": 23,
     "metadata": {},
     "output_type": "execute_result"
    }
   ],
   "source": [
    "M3_post = np.mean(\n",
    "  (w_cont_post * post)[:, n_x] * int_cov, axis=0\n",
    ") / np.mean(w_cont_post)\n",
    "M3_pre = np.mean(\n",
    "  (w_cont_pre * (1 - post))[:, n_x] * int_cov, axis=0\n",
    ") / np.mean(w_cont_pre)\n",
    "\n",
    "inf_cont_or_post = np.dot(asy_lin_rep_ols_post, M3_post)\n",
    "inf_cont_or_pre = np.dot(asy_lin_rep_ols_pre, M3_pre)\n",
    "inf_cont_or = inf_cont_or_post - inf_cont_or_pre\n",
    "\n",
    "inf_cont = inf_cont_post - inf_cont_pre + inf_cont_ps + inf_cont_or\n",
    "\n",
    "dr_att_inf_func1 = inf_treat - inf_cont\n",
    "\n",
    "def inf_eff_f(a, b, c):\n",
    "  return a - b * c / np.mean(b)\n",
    "\n",
    "inf_eff1 = inf_eff_f(eta_d_post, w_d, att_d_post)\n",
    "inf_eff2 = inf_eff_f(eta_dt1_post, w_dt1, att_dt1_post)\n",
    "inf_eff3 = inf_eff_f(eta_d_pre, w_d, att_d_pre)\n",
    "inf_eff4 = inf_eff_f(eta_dt0_pre, w_dt0, att_dt0_pre)\n",
    "inf_eff = inf_eff1 - inf_eff2 - (inf_eff3 - inf_eff4)\n",
    "\n",
    "def mom_f(a, b, int_cov = int_cov):\n",
    "  left = a / np.mean(a) - b / np.mean(b)\n",
    "  return np.mean(left[:, n_x] * int_cov, axis=0) \n",
    "\n",
    "mom_post = mom_f(w_d, w_dt1)\n",
    "mom_pre = mom_f(w_d, w_dt0)\n",
    "\n",
    "inf_or_post = np.dot(\n",
    "  asy_lin_rep_ols_post_treat - asy_lin_rep_ols_post, \n",
    "  mom_post\n",
    ")\n",
    "inf_or_pre = np.dot(\n",
    "  asy_lin_rep_ols_pre_treat - asy_lin_rep_ols_pre, \n",
    "  mom_pre\n",
    ")\n",
    "inf_or = inf_or_post - inf_or_pre\n",
    "dr_att_inf_func = dr_att_inf_func1 + inf_eff + inf_or\n",
    "dr_att"
   ]
  }
 ],
 "metadata": {
  "kernelspec": {
   "display_name": "Python 3",
   "language": "python",
   "name": "python3"
  },
  "language_info": {
   "codemirror_mode": {
    "name": "ipython",
    "version": 3
   },
   "file_extension": ".py",
   "mimetype": "text/x-python",
   "name": "python",
   "nbconvert_exporter": "python",
   "pygments_lexer": "ipython3",
   "version": "3.8.10"
  },
  "orig_nbformat": 4
 },
 "nbformat": 4,
 "nbformat_minor": 2
}
