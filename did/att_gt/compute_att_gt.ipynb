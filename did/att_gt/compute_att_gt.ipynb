{
 "cells": [
  {
   "cell_type": "code",
   "execution_count": 5,
   "metadata": {},
   "outputs": [],
   "source": [
    "from pre_process_did import pre_process_did\n",
    "import pandas as pd, numpy as np\n",
    "from drdid import drdid, reg_did\n",
    "from compute_attgt import panel2cs2\n",
    "import statsmodels.api as sm\n",
    "import patsy \n",
    "fml = patsy.dmatrices\n",
    "\n",
    "lm = sm.WLS\n",
    "n_x = np.newaxis\n",
    "qr_solver = np.linalg.pinv\n",
    "\n",
    "# from ..aggte.mboot import mboot\n",
    "from compute_attgt import compute_att_gt"
   ]
  },
  {
   "cell_type": "code",
   "execution_count": 7,
   "metadata": {},
   "outputs": [
    {
     "data": {
      "text/html": [
       "<div>\n",
       "<style scoped>\n",
       "    .dataframe tbody tr th:only-of-type {\n",
       "        vertical-align: middle;\n",
       "    }\n",
       "\n",
       "    .dataframe tbody tr th {\n",
       "        vertical-align: top;\n",
       "    }\n",
       "\n",
       "    .dataframe thead th {\n",
       "        text-align: right;\n",
       "    }\n",
       "</style>\n",
       "<table border=\"1\" class=\"dataframe\">\n",
       "  <thead>\n",
       "    <tr style=\"text-align: right;\">\n",
       "      <th></th>\n",
       "      <th>Unnamed: 0</th>\n",
       "      <th>G</th>\n",
       "      <th>X</th>\n",
       "      <th>id</th>\n",
       "      <th>period</th>\n",
       "      <th>Y</th>\n",
       "    </tr>\n",
       "  </thead>\n",
       "  <tbody>\n",
       "    <tr>\n",
       "      <th>0</th>\n",
       "      <td>1</td>\n",
       "      <td>4</td>\n",
       "      <td>-0.876233</td>\n",
       "      <td>1</td>\n",
       "      <td>1</td>\n",
       "      <td>3.248701</td>\n",
       "    </tr>\n",
       "    <tr>\n",
       "      <th>1</th>\n",
       "      <td>2</td>\n",
       "      <td>4</td>\n",
       "      <td>-0.876233</td>\n",
       "      <td>1</td>\n",
       "      <td>2</td>\n",
       "      <td>2.266837</td>\n",
       "    </tr>\n",
       "    <tr>\n",
       "      <th>2</th>\n",
       "      <td>3</td>\n",
       "      <td>4</td>\n",
       "      <td>-0.876233</td>\n",
       "      <td>1</td>\n",
       "      <td>3</td>\n",
       "      <td>3.990885</td>\n",
       "    </tr>\n",
       "    <tr>\n",
       "      <th>3</th>\n",
       "      <td>4</td>\n",
       "      <td>4</td>\n",
       "      <td>-0.876233</td>\n",
       "      <td>1</td>\n",
       "      <td>4</td>\n",
       "      <td>4.653489</td>\n",
       "    </tr>\n",
       "    <tr>\n",
       "      <th>4</th>\n",
       "      <td>5</td>\n",
       "      <td>4</td>\n",
       "      <td>0.974974</td>\n",
       "      <td>2</td>\n",
       "      <td>1</td>\n",
       "      <td>5.880457</td>\n",
       "    </tr>\n",
       "  </tbody>\n",
       "</table>\n",
       "</div>"
      ],
      "text/plain": [
       "   Unnamed: 0  G         X  id  period         Y\n",
       "0           1  4 -0.876233   1       1  3.248701\n",
       "1           2  4 -0.876233   1       2  2.266837\n",
       "2           3  4 -0.876233   1       3  3.990885\n",
       "3           4  4 -0.876233   1       4  4.653489\n",
       "4           5  4  0.974974   2       1  5.880457"
      ]
     },
     "execution_count": 7,
     "metadata": {},
     "output_type": "execute_result"
    }
   ],
   "source": [
    "data = pd.read_csv(\"../../data/sim_data.csv\")\n",
    "data.head()"
   ]
  },
  {
   "cell_type": "code",
   "execution_count": 8,
   "metadata": {},
   "outputs": [
    {
     "data": {
      "text/plain": [
       "dict_keys(['yname', 'tname', 'idname', 'gname', 'xformla', 'data', 'tlist', 'glist', 'n', 'nG', 'nT', 'control_group', 'anticipation', 'weights_name', 'panel', 'true_rep_cross_section', 'clustervar'])"
      ]
     },
     "execution_count": 8,
     "metadata": {},
     "output_type": "execute_result"
    }
   ],
   "source": [
    "yname = \"Y\"\n",
    "tname = \"period\"\n",
    "idname = \"id\"\n",
    "gname = \"G\"\n",
    "data = data\n",
    "xformla = \"Y~X\"\n",
    "dp = pre_process_did(idname=idname, yname=yname, tname=tname, gname=gname, data = data, xformla= xformla)\n",
    "\n",
    "dp.keys()"
   ]
  },
  {
   "cell_type": "code",
   "execution_count": 9,
   "metadata": {},
   "outputs": [],
   "source": [
    "from compute_attgt import  compute_att_gt\n",
    "op, inf = compute_att_gt(dp)"
   ]
  },
  {
   "cell_type": "code",
   "execution_count": 22,
   "metadata": {},
   "outputs": [
    {
     "data": {
      "text/plain": [
       "False"
      ]
     },
     "execution_count": 22,
     "metadata": {},
     "output_type": "execute_result"
    }
   ],
   "source": [
    "\n",
    "MP = {\n",
    "  \"DIDparams\": dp,\n",
    "  'n': dp['n'],\n",
    "  'inffunc': {\n",
    "    'inffunc': inf\n",
    "  }\n",
    "} \n",
    "# dp['n']\n",
    "MP\n",
    "dp[\"true_rep_cross_section\"]"
   ]
  },
  {
   "cell_type": "code",
   "execution_count": 33,
   "metadata": {},
   "outputs": [
    {
     "data": {
      "text/plain": [
       "array([0.34778969, 0.4268871 , 0.41376458, 0.37886667, 0.32701394,\n",
       "       0.40092314, 0.46239724, 0.46317022, 0.50349182])"
      ]
     },
     "execution_count": 33,
     "metadata": {},
     "output_type": "execute_result"
    }
   ],
   "source": [
    "V = np.dot(inf, inf.T) / n\n",
    "se = np.sqrt(np.diag(V) / n)\n",
    "eps = np.sqrt(np.finfo(float).eps) * 10\n",
    "se[se <= eps] = np.nan\n",
    "\n",
    "### att_gt params\n",
    "bstrap = True\n",
    "clustervars = None\n",
    "cband = True\n",
    "\n",
    "if (clustervars is not None) & (not bstrap):\n",
    "  print(\"clustering the standard errors requires using the bootstrap, resulting standard errors are NOT accounting for clustering\")\n",
    "\n",
    "\n",
    "zero_na_sd_entry = np.where(np.isnan(se))[0]\n",
    "\n",
    "if bstrap:\n",
    "  # bout <- mboot(inffunc, DIDparams=dp, pl=pl, cores=cores)\n",
    "    # bres <- bout$bres\n",
    "  if len(zero_na_sd_entry) > 0:\n",
    "    # se[-zero_na_sd_entry] <- bout$se[-zero_na_sd_entry]\n",
    "    pass\n",
    "  else:\n",
    "    pass\n",
    "\n",
    "se[se <= eps] = np.nan\n",
    "se"
   ]
  },
  {
   "cell_type": "code",
   "execution_count": 544,
   "metadata": {},
   "outputs": [],
   "source": [
    "####### compute att_gt params\n",
    "est_method = \"dr\"\n",
    "base_period = \"varying\"\n",
    "\n",
    "\n",
    "yname = dp['yname']\n",
    "tname = dp['tname']\n",
    "idname = dp['idname']\n",
    "xformla = dp['xformla']\n",
    "data = dp['data']\n",
    "weights_name = dp['weights_name']\n",
    "# base_period = dp['base_period']\n",
    "panel = dp['panel']\n",
    "true_rep_cross_section = dp['true_rep_cross_section']\n",
    "control_group = dp['control_group']\n",
    "anticipation = dp['anticipation']\n",
    "gname = dp['gname']\n",
    "n = dp['n']\n",
    "nT = dp['nT']\n",
    "nG = dp['nG']\n",
    "tlist = dp['tlist']\n",
    "glist = dp['glist']"
   ]
  },
  {
   "cell_type": "code",
   "execution_count": 545,
   "metadata": {},
   "outputs": [],
   "source": [
    "tlist_len, tfac = len(tlist), 0\n",
    "if base_period != 'universal':\n",
    "  tlist_len = tlist_len - 1\n",
    "  tfac = 1\n",
    "\n",
    "inf_func = []\n",
    "\n",
    "att_est, group, year, post_array = [], [], [], []\n",
    "\n",
    "def add_att_data(att = 0, pst = 0, inf_f = []):\n",
    "  inf_func.append(inf_f)\n",
    "  att_est.append(att)\n",
    "  group.append(g)\n",
    "  year.append(tn)\n",
    "  post_array.append(pst)\n",
    "\n",
    "never_treated = control_group == 'nevertreated'\n",
    "if never_treated:\n",
    "  data = data.assign(C = 1 * (data[gname] == 0))\n",
    "data = data.assign(y_main = data[yname])"
   ]
  },
  {
   "cell_type": "code",
   "execution_count": 546,
   "metadata": {},
   "outputs": [
    {
     "data": {
      "text/plain": [
       "(4, 3)"
      ]
     },
     "execution_count": 546,
     "metadata": {},
     "output_type": "execute_result"
    }
   ],
   "source": [
    "g_i = 2\n",
    "t_i = 2\n",
    "g, t = glist[g_i], tlist[t_i]\n",
    "g, t"
   ]
  },
  {
   "cell_type": "code",
   "execution_count": 547,
   "metadata": {},
   "outputs": [
    {
     "data": {
      "text/plain": [
       "(3, 4)"
      ]
     },
     "execution_count": 547,
     "metadata": {},
     "output_type": "execute_result"
    }
   ],
   "source": [
    "len(glist), len(tlist)"
   ]
  },
  {
   "attachments": {},
   "cell_type": "markdown",
   "metadata": {},
   "source": [
    "### For loop G"
   ]
  },
  {
   "cell_type": "code",
   "execution_count": 548,
   "metadata": {},
   "outputs": [],
   "source": [
    "G_main = (data[gname] == g)\n",
    "# for _, g, in enumerate(glist)\n",
    "data = data.assign(G_m = 1 * G_main)"
   ]
  },
  {
   "attachments": {},
   "cell_type": "markdown",
   "metadata": {},
   "source": [
    "#### for loop T "
   ]
  },
  {
   "cell_type": "code",
   "execution_count": 549,
   "metadata": {},
   "outputs": [
    {
     "data": {
      "text/plain": [
       "(2, 4, 1, (160, 11))"
      ]
     },
     "execution_count": 549,
     "metadata": {},
     "output_type": "execute_result"
    }
   ],
   "source": [
    "\n",
    "# for _, t, in enumerate(glist)\n",
    "pret = t_i\n",
    "tn = tlist[t_i + tfac]\n",
    "if base_period == 'universal' or g < tn:\n",
    "  print(\"here\")\n",
    "  try:\n",
    "    pret = np.where(tlist + anticipation < g)[0][-1]\n",
    "  except:\n",
    "    raise f\"There are no pre-treatment periods for the group first treated at {g}\\nUnits from this group are dropped\"\n",
    "    # break\n",
    "\n",
    "\n",
    "if base_period == 'universal':\n",
    "  if pret == tn:\n",
    "    add_att_data()\n",
    "\n",
    "if not never_treated:\n",
    "  n1 = data[gname] == 0\n",
    "  n2 = (data[gname] > (tlist[np.max([t, pret]) + tfac]) + anticipation)\n",
    "  n3 = np.where(data[gname] != glist[g], True, False)\n",
    "  row_eval = n1 | n2 & n3\n",
    "  data = data.assign(C = 1 * row_eval)\n",
    "\n",
    "post_treat = 1 * (g <= tn)\n",
    "disdat = data[(data[tname] == tn) | (data[tname] == tlist[pret])]\n",
    "pret, tn, post_treat, disdat.shape"
   ]
  },
  {
   "cell_type": "code",
   "execution_count": null,
   "metadata": {},
   "outputs": [],
   "source": []
  },
  {
   "attachments": {},
   "cell_type": "markdown",
   "metadata": {},
   "source": [
    "# panel: True"
   ]
  },
  {
   "cell_type": "code",
   "execution_count": 550,
   "metadata": {},
   "outputs": [],
   "source": [
    "disdat = panel2cs2(data=disdat, yname=yname, idname=idname, tname=tname)"
   ]
  },
  {
   "cell_type": "code",
   "execution_count": 551,
   "metadata": {},
   "outputs": [],
   "source": [
    "disdat = disdat.dropna()\n",
    "n = len(disdat)\n",
    "dis_idx = np.array(disdat.G_m == 1) | np.array(disdat.C == 1)\n",
    "disdat = disdat.loc[dis_idx, :]\n",
    "n1 = len(disdat)\n",
    "G = disdat.G_m\n",
    "C = disdat.C\n",
    "w = disdat.w"
   ]
  },
  {
   "cell_type": "code",
   "execution_count": 552,
   "metadata": {},
   "outputs": [],
   "source": [
    "ypre = disdat.y0 if tn > pret else disdat.y1\n",
    "ypost = disdat.y0 if tn < pret else disdat.y1\n",
    "_, covariates = fml(xformla, data = disdat, return_type = 'dataframe')\n",
    "\n",
    "G, C, w, ypre = map(np.array, [G, C, w, ypre])\n",
    "ypost, covariates = map(np.array, [ypost, covariates])"
   ]
  },
  {
   "cell_type": "code",
   "execution_count": 553,
   "metadata": {},
   "outputs": [],
   "source": [
    "#todo: https://github.com/bcallaway11/did/blob/master/R/compute.att_gt.R\n",
    "# 192 - 224"
   ]
  },
  {
   "cell_type": "code",
   "execution_count": 554,
   "metadata": {},
   "outputs": [],
   "source": [
    "est_method = 'reg'\n",
    "\n",
    "if callable(est_method):\n",
    "  est_att_f = est_method\n",
    "elif est_method == \"reg\":\n",
    "  est_att_f = reg_did.reg_did_panel\n",
    "elif est_method == \"dr\":\n",
    "  est_att_f = drdid.drdid_panel\n",
    "\n",
    "att_gt, att_inf_func = est_att_f(ypost, ypre, G, i_weights=w, covariates=covariates)\n",
    "\n",
    "inf_zeros = np.zeros(n)\n",
    "att_inf = n / n1 * att_inf_func\n",
    "inf_zeros[dis_idx] = att_inf\n",
    "\n",
    "add_att_data(att_gt, inf_f=inf_zeros)"
   ]
  },
  {
   "attachments": {},
   "cell_type": "markdown",
   "metadata": {},
   "source": [
    "## reg did panel"
   ]
  },
  {
   "cell_type": "code",
   "execution_count": 555,
   "metadata": {},
   "outputs": [],
   "source": [
    "y1, y0 = ypost, ypre\n",
    "D = G\n",
    "i_weights = w"
   ]
  },
  {
   "cell_type": "code",
   "execution_count": 556,
   "metadata": {},
   "outputs": [
    {
     "data": {
      "text/plain": [
       "1.4356558918370697"
      ]
     },
     "execution_count": 556,
     "metadata": {},
     "output_type": "execute_result"
    }
   ],
   "source": [
    "delta_y = y1 - y0\n",
    "rows = D == 0\n",
    "int_cov = covariates\n",
    "reg_coef = lm(delta_y[rows], int_cov[rows], weights=i_weights[rows]).fit().params\n",
    "out_delta = np.dot(reg_coef, int_cov.T)\n",
    "w_treat = i_weights * D\n",
    "w_cont = w_treat.copy()\n",
    "\n",
    "reg_att_treat = w_treat * delta_y\n",
    "reg_att_cont = w_cont * out_delta\n",
    "\n",
    "eta_treat = np.mean(reg_att_treat) / np.mean(w_treat)\n",
    "eta_cont = np.mean(reg_att_cont) / np.mean(w_cont)\n",
    "\n",
    "reg_att = eta_treat - eta_cont\n",
    "reg_att"
   ]
  },
  {
   "cell_type": "code",
   "execution_count": 557,
   "metadata": {},
   "outputs": [],
   "source": [
    "def asy_lin_wols(d, post, y, out_y, int_cov = int_cov):\n",
    "  weigths_ols = i_weights * d * post\n",
    "  # weigths_ols_pre\n",
    "  wols_x = weigths_ols[:, n_x] * int_cov\n",
    "  wols_ex = (weigths_ols * (y - out_y))[:, n_x] * int_cov\n",
    "  cr = np.dot(wols_x.T, int_cov) / n\n",
    "  xpx_inv = qr_solver(cr)\n",
    "  asy_lin_rep_ols = np.dot(wols_ex, xpx_inv)\n",
    "  return asy_lin_rep_ols"
   ]
  },
  {
   "cell_type": "code",
   "execution_count": 558,
   "metadata": {},
   "outputs": [
    {
     "data": {
      "text/plain": [
       "array([-1.09771797,  1.27100744,  1.21225699,  1.40133318, -1.71640218,\n",
       "        0.29437419,  2.39402706,  2.72359389, -3.87620441, -1.61023425,\n",
       "       -3.59369111,  0.49710258,  2.63541817,  0.05664299,  3.70033684,\n",
       "        0.5143974 , -5.24655528, -3.19039958,  1.87746232,  2.1704325 ,\n",
       "        6.75331284,  3.68043035, -2.25087799, -4.11849979, -4.48154615,\n",
       "        5.12889684, -3.24129817, -7.32056705, -7.62327415,  0.35877505,\n",
       "       -0.99692526,  5.30770195,  4.55055024, -0.10975528,  0.58788976,\n",
       "        5.25377453,  8.3399879 , -8.87739825, -2.09778414,  9.91329921,\n",
       "       -0.55178127, -4.24149996,  5.6733284 , -5.03025925, -5.02366108])"
      ]
     },
     "execution_count": 558,
     "metadata": {},
     "output_type": "execute_result"
    }
   ],
   "source": [
    "d = 1 - D\n",
    "post = 1\n",
    "\n",
    "asy_lin_rep_ols = asy_lin_wols(d, post, delta_y, out_delta)\n",
    "inf_treat = (reg_att_treat - w_treat * eta_treat) / np.mean(w_treat)\n",
    "inf_cont_1 = (reg_att_cont - w_cont * eta_cont)\n",
    "\n",
    "M1 = np.mean(w_cont[:, n_x] * int_cov, axis = 0)\n",
    "inf_cont_2 = np.dot(asy_lin_rep_ols, M1)\n",
    "inf_control = (inf_cont_1 + inf_cont_2) / np.mean(w_cont)\n",
    "\n",
    "reg_att_inf_func = inf_treat - inf_control\n",
    "reg_att_inf_func"
   ]
  },
  {
   "cell_type": "code",
   "execution_count": null,
   "metadata": {},
   "outputs": [],
   "source": []
  },
  {
   "attachments": {},
   "cell_type": "markdown",
   "metadata": {},
   "source": [
    "# panel: False"
   ]
  },
  {
   "cell_type": "code",
   "execution_count": 564,
   "metadata": {},
   "outputs": [],
   "source": [
    "right_ids = np.array(disdat.query('(G_m == 1) or (C == 1)').rowid)\n",
    "dis_idx = (data['rowid'].isin(right_ids)) &\\\n",
    "   ((data[tname] == tlist[t_i + tfac]) |\\\n",
    "    (data[tname] == tlist[pret]))\n",
    "\n",
    "disdat = data.loc[dis_idx]\n",
    "\n",
    "G = disdat.G_m\n",
    "C = disdat.C\n",
    "Y = disdat[yname]\n",
    "post = 1 * (disdat[tname] == tlist[t_i + tfac])\n",
    "w = disdat.w\n",
    "\n",
    "G, C, Y, post, w = map(np.array, [G, C, Y, post, w])\n",
    "\n",
    "n1 = sum(G + C)\n",
    "# right_ids, n1, w, sum(dis_idx), post"
   ]
  },
  {
   "cell_type": "code",
   "execution_count": 565,
   "metadata": {},
   "outputs": [],
   "source": [
    "skip_this_att_gt = False\n",
    "if np.sum(G * post) == 0:\n",
    "  print(f\"No units in group {g} in time period {tn}\")\n",
    "  skip_this_att_gt = True \n",
    "\n",
    "if np.sum(G * (1 - post)) == 0:\n",
    "  print(f\"No units in group {g} in time period {t}\")\n",
    "  skip_this_att_gt = True \n",
    "\n",
    "if np.sum(C * post) == 0:\n",
    "  print(f\"No available control units for group {g} in time period {tn}\")\n",
    "  skip_this_att_gt = True \n",
    "\n",
    "if np.sum(C * (1 - post)) == 0:\n",
    "  print(f\"No available control units for group {g} in time period {t}\")\n",
    "  skip_this_att_gt = True \n",
    "\n",
    "if skip_this_att_gt:\n",
    "  add_att_data()\n"
   ]
  },
  {
   "cell_type": "code",
   "execution_count": 566,
   "metadata": {},
   "outputs": [],
   "source": [
    "\n",
    "_, covariates = fml(xformla, data = disdat, return_type = 'dataframe')\n",
    "covariates = np.array(covariates)"
   ]
  },
  {
   "attachments": {},
   "cell_type": "markdown",
   "metadata": {},
   "source": [
    "### Drdid rc"
   ]
  },
  {
   "attachments": {},
   "cell_type": "markdown",
   "metadata": {},
   "source": [
    "<!-- pip install git+https://github.com/d2cml-ai/drdid -->"
   ]
  },
  {
   "cell_type": "code",
   "execution_count": 567,
   "metadata": {},
   "outputs": [
    {
     "data": {
      "text/plain": [
       "1.439661425578744"
      ]
     },
     "execution_count": 567,
     "metadata": {},
     "output_type": "execute_result"
    }
   ],
   "source": [
    "est_method = 'dr'\n",
    "\n",
    "if callable(est_method):\n",
    "  est_att_f = est_method\n",
    "elif est_method == \"reg\":\n",
    "  est_att_f = reg_did.reg_did_rc\n",
    "elif est_method == \"dr\":\n",
    "  est_att_f = drdid.drdid_rc\n",
    "att_gt, att_inf_func = est_att_f(y=Y, post=post, D = G, i_weights=w, covariates=covariates)\n",
    "att_gt\n"
   ]
  },
  {
   "cell_type": "code",
   "execution_count": 568,
   "metadata": {},
   "outputs": [
    {
     "data": {
      "text/plain": [
       "array([ -3.63259846,   1.1664611 ,   1.29433975,   1.44833396,\n",
       "        -5.67936218,   7.83384784,  -4.46782381,   6.82872427,\n",
       "        -2.44575645,  -0.64437655,  -1.86260136,   2.54960207,\n",
       "        -3.186556  ,   7.84683507,  -5.47304655,  10.91339322,\n",
       "        -2.4492188 ,  -5.39258055,   3.32673139,  -6.50287041,\n",
       "        -9.16003951,   1.94394126,  -2.63833872,   4.08319751,\n",
       "         4.60359905,   0.60470802,   8.90182018,  -8.3404923 ,\n",
       "        24.50314832, -17.03344469,   4.62041087,  -3.49382355,\n",
       "       -14.07376675,   3.49939693,   1.47956481,  -8.00205126,\n",
       "        -8.55790577,  12.68662483,  10.74334689,  -6.72194936,\n",
       "         5.76600388,   7.74022807,   1.65591968,   5.79757346,\n",
       "         5.55101947, -10.36472024,  -4.44198406,  -4.12655721,\n",
       "        -4.37168124,  -4.31477683,   1.14128205,   4.5711576 ,\n",
       "       -10.21700327,   6.17398764,  -4.06781146,  -4.33627892,\n",
       "         7.8321716 , -15.99859838,  -1.53553919,   2.04897166,\n",
       "       -14.44322043,  13.74179397,   6.02260821,  -0.55475185,\n",
       "         9.48032707,  -4.05511038,  -0.70904553,   0.18010126,\n",
       "        -1.94928366,   2.65896506,   2.25806798,   3.52135673,\n",
       "         4.61876476,   4.41478939, -12.68135923,   2.81048653,\n",
       "        -0.62941585,  -1.57120186,  15.13128405,  -4.16154452,\n",
       "         0.03575361,  -0.68273184,   2.05430888,  -7.01925767,\n",
       "         3.31988723,   4.03149133,   0.08055874,  -5.69765623,\n",
       "        -5.74756022,  -0.08119418])"
      ]
     },
     "execution_count": 568,
     "metadata": {},
     "output_type": "execute_result"
    }
   ],
   "source": [
    "att_inf_func"
   ]
  },
  {
   "cell_type": "code",
   "execution_count": 580,
   "metadata": {},
   "outputs": [
    {
     "name": "stdout",
     "output_type": "stream",
     "text": [
      "2 - 1\n",
      "2 - 2\n",
      "2 - 3\n",
      "2 - 4\n",
      "3 - 1\n",
      "3 - 2\n",
      "3 - 3\n",
      "3 - 4\n",
      "4 - 1\n",
      "4 - 2\n",
      "4 - 3\n",
      "4 - 4\n"
     ]
    }
   ],
   "source": [
    "for gi, g in enumerate(glist):\n",
    "  for t_i, t in enumerate(tlist):\n",
    "    print(f\"{g} - {t}\")"
   ]
  },
  {
   "cell_type": "code",
   "execution_count": 583,
   "metadata": {},
   "outputs": [
    {
     "data": {
      "text/plain": [
       "array([1, 2, 3, 4], dtype=int64)"
      ]
     },
     "execution_count": 583,
     "metadata": {},
     "output_type": "execute_result"
    }
   ],
   "source": [
    "tlist"
   ]
  },
  {
   "cell_type": "code",
   "execution_count": 579,
   "metadata": {},
   "outputs": [],
   "source": [
    "inf_func_df = pd.DataFrame(\n",
    "  {\n",
    "    \"inf_func\": att_inf_func,\n",
    "    \"right_ids\": right_ids\n",
    "  }\n",
    ")\n",
    "len(att_inf_func), len(right_ids)\n",
    "inf_zeros = np.zeros(n)\n",
    "aggte_infffuc = inf_func_df.groupby('right_ids').inf_func.sum()\n",
    "dis_idx1 = np.isin(data['rowid'].unique(), aggte_infffuc.index)\n",
    "inf_zeros[dis_idx1] = np.array(aggte_infffuc)\n",
    "\n",
    "# add_att_data(att_gt, pst = post_treat, inf_f=inf_zeros)\n",
    "# ## End panel false"
   ]
  },
  {
   "cell_type": "code",
   "execution_count": 578,
   "metadata": {},
   "outputs": [
    {
     "data": {
      "text/plain": [
       "({'att': [1.4356558918370697], 'group': [4], 'year': [4], 'post ': [0]},\n",
       " array([ -2.46613736,   2.74267371,   2.15448566,   0.        ,\n",
       "          0.        ,   0.        ,   2.36090046,  -3.090133  ,\n",
       "          0.        ,   0.68700071,   4.66027907,   0.        ,\n",
       "          0.        ,   0.        ,   5.44034667,   0.        ,\n",
       "          0.        ,  -7.84179935,  -3.17613903,   0.        ,\n",
       "          0.        ,   0.        ,   0.        ,  -7.21609825,\n",
       "          0.        ,   0.        ,   1.44485879,   5.20830706,\n",
       "          0.56132788,   7.46970363,   0.        ,   0.        ,\n",
       "          1.12658733, -10.57436982,   0.        ,  -6.52248645,\n",
       "          4.12871906,   0.        ,   0.        ,   0.        ,\n",
       "          0.        ,   0.        ,   0.        ,   4.02139753,\n",
       "         13.50623195,   0.        ,   0.        ,   7.45349314,\n",
       "          0.        ,   0.        ,  -4.81370078,   0.        ,\n",
       "          0.        ,   0.        ,   0.        ,  -8.56854127,\n",
       "          0.        ,   0.        ,   0.        ,  -8.68645808,\n",
       "          5.71243966,  -4.04301563,  -8.40409037,  -8.16642678,\n",
       "          0.51343247,  -0.70142645,   5.46785636,   5.42521669,\n",
       "         -0.52894427,   0.70968141,   5.77942471,   9.03355415,\n",
       "         -9.87087271,  -2.20061771,  10.96973953,  -0.64697823,\n",
       "         -4.96494879,   7.35137856,  -5.61709749,  -5.82875439]))"
      ]
     },
     "execution_count": 578,
     "metadata": {},
     "output_type": "execute_result"
    }
   ],
   "source": [
    "# data Struct\n",
    "output = {\n",
    "  \"att\" : att_est,\n",
    "  'group': group ,\n",
    "  'year': year,\n",
    "  'post ': post_array\n",
    "}\n",
    "output, np.array(inf_zeros)\n"
   ]
  },
  {
   "cell_type": "code",
   "execution_count": null,
   "metadata": {},
   "outputs": [],
   "source": []
  },
  {
   "cell_type": "code",
   "execution_count": 89,
   "metadata": {},
   "outputs": [
    {
     "name": "stderr",
     "output_type": "stream",
     "text": [
      "C:\\Users\\Jhon\\AppData\\Local\\Temp\\ipykernel_7100\\467515111.py:3: DeprecationWarning: elementwise comparison failed; this will raise an error in the future.\n",
      "  if np.all(covariates[:, 0] == int_cov):\n"
     ]
    },
    {
     "ename": "ValueError",
     "evalue": "all the input array dimensions except for the concatenation axis must match exactly, but along dimension 0, the array at index 0 has size 80 and the array at index 1 has size 66",
     "output_type": "error",
     "traceback": [
      "\u001b[1;31m---------------------------------------------------------------------------\u001b[0m",
      "\u001b[1;31mValueError\u001b[0m                                Traceback (most recent call last)",
      "Cell \u001b[1;32mIn[89], line 6\u001b[0m\n\u001b[0;32m      4\u001b[0m   int_cov \u001b[39m=\u001b[39m covariates\n\u001b[0;32m      5\u001b[0m \u001b[39melse\u001b[39;00m:\n\u001b[1;32m----> 6\u001b[0m   int_cov \u001b[39m=\u001b[39m np\u001b[39m.\u001b[39;49mconcatenate((np\u001b[39m.\u001b[39;49mones((n, \u001b[39m1\u001b[39;49m)), covariates), axis\u001b[39m=\u001b[39;49m\u001b[39m1\u001b[39;49m)\n",
      "File \u001b[1;32m<__array_function__ internals>:200\u001b[0m, in \u001b[0;36mconcatenate\u001b[1;34m(*args, **kwargs)\u001b[0m\n",
      "\u001b[1;31mValueError\u001b[0m: all the input array dimensions except for the concatenation axis must match exactly, but along dimension 0, the array at index 0 has size 80 and the array at index 1 has size 66"
     ]
    }
   ],
   "source": [
    "int_cov = np.ones(n)\n",
    "if covariates is not None:\n",
    "  if np.all(covariates[:, 0] == int_cov):\n",
    "    int_cov = covariates\n",
    "  else:\n",
    "    int_cov = np.concatenate((np.ones((n, 1)), covariates), axis=1)"
   ]
  },
  {
   "cell_type": "code",
   "execution_count": null,
   "metadata": {},
   "outputs": [],
   "source": [
    "pscore_tr = glm(D, int_cov, family=binomial, freq_weights=i_weights)\\\n",
    "  .fit()\n",
    "ps_fit = pscore_tr.fittedvalues\n",
    "ps_fit = np.minimum(ps_fit, 1 - 1e-16)\n",
    "\n",
    "def reg_out_y(d, p, y = y, int_cov = int_cov, wg = i_weights):\n",
    "  rows_ = (D == d) & (post == p)\n",
    "  reg_cont = lm(y[rows_], int_cov[rows_], weights=wg[rows_])\\\n",
    "    .fit().params\n",
    "  out_y = np.dot(reg_cont, int_cov.T)\n",
    "  return out_y\n",
    "\n",
    "\n",
    "out_y_cont_pre = reg_out_y(d = 0, p = 0)\n",
    "out_y_cont_post = reg_out_y(d = 0, p = 1)\n",
    "out_y_cont = post * out_y_cont_post + (1 - post) * out_y_cont_pre \n",
    "\n",
    "\n",
    "out_y_treat_pre = reg_out_y(d = 1, p = 0)\n",
    "out_y_treat_post = reg_out_y(d = 1, p = 1)\n",
    "\n",
    "w_treat_pre = i_weights * D * (1 - post)\n",
    "w_treat_post = i_weights * D * post\n",
    "rest_cont = i_weights * ps_fit * (1 - D) \n",
    "w_cont_pre = rest_cont * (1 - post) / (1 - ps_fit)\n",
    "w_cont_post = rest_cont * post / (1 - ps_fit)\n",
    "\n",
    "\n",
    "w_d = i_weights * D\n",
    "w_dt1 = w_d * post\n",
    "w_dt0 = w_d * (1 - post)\n",
    "\n",
    "def eta_treat(a, b = out_y_cont, y = y):\n",
    "  return a * (y - b) / np.mean(a)\n",
    "\n",
    "eta_treat_pre = eta_treat(w_treat_pre)\n",
    "eta_treat_post = eta_treat(w_treat_post)\n",
    "eta_cont_pre = eta_treat(w_cont_pre)\n",
    "eta_cont_post = eta_treat(w_cont_post)\n",
    "\n",
    "eta_d_post = eta_treat(w_d, out_y_cont_post, out_y_treat_post)\n",
    "eta_d_pre = eta_treat(w_d, out_y_cont_pre, out_y_treat_pre)\n",
    "eta_dt1_post = eta_treat(w_dt1, out_y_cont_post, out_y_treat_post)\n",
    "eta_dt0_pre = eta_treat(w_dt0, out_y_cont_pre, out_y_treat_pre)\n",
    "\n",
    "att_treat_pre = np.mean(eta_treat_pre)\n",
    "att_treat_post = np.mean(eta_treat_post)\n",
    "att_cont_pre = np.mean(eta_cont_pre)\n",
    "att_cont_post = np.mean(eta_cont_post)\n",
    "\n",
    "att_d_post = np.mean(eta_d_post)\n",
    "att_dt1_post = np.mean(eta_dt1_post)\n",
    "att_d_pre = np.mean(eta_d_pre)\n",
    "att_dt0_pre = np.mean(eta_dt0_pre)\n",
    "\n",
    "\n",
    "dr_att = (att_treat_post - att_treat_pre) - \\\n",
    "  (att_cont_post - att_cont_pre) -\\\n",
    "  (att_d_post - att_dt1_post) -\\\n",
    "  (att_d_pre - att_dt0_pre)"
   ]
  },
  {
   "cell_type": "code",
   "execution_count": null,
   "metadata": {},
   "outputs": [],
   "source": [
    "def asy_lin_wols(d, post, out_y, int_cov = int_cov):\n",
    "  weigths_ols = i_weights * d * post\n",
    "  # weigths_ols_pre\n",
    "  wols_x = weigths_ols[:, n_x] * int_cov\n",
    "  wols_ex = (weigths_ols * (y - out_y))[:, n_x] * int_cov\n",
    "  cr = np.dot(wols_x.T, int_cov) / n\n",
    "  xpx_inv = qr_solver(cr)\n",
    "  asy_lin_rep_ols = np.dot(wols_ex, xpx_inv)\n",
    "  return asy_lin_rep_ols\n",
    "\n",
    "asy_lin_rep_ols_pre = asy_lin_wols((1 - D), (1 - post), out_y_cont_pre)\n",
    "asy_lin_rep_ols_post = asy_lin_wols((1 - D), post, out_y_cont_post)\n",
    "\n",
    "asy_lin_rep_ols_pre_treat = asy_lin_wols(\n",
    "  D, (1 - post), out_y_treat_pre\n",
    ")\n",
    "asy_lin_rep_ols_post_treat = asy_lin_wols(D, post, out_y_treat_post)\n"
   ]
  },
  {
   "cell_type": "code",
   "execution_count": null,
   "metadata": {},
   "outputs": [],
   "source": [
    "score_ps = (i_weights * (D - ps_fit))[:, n_x] * int_cov\n",
    "hessian_ps = pscore_tr.cov_params() * n \n",
    "asy_lin_rep_ps = np.dot(score_ps, hessian_ps)\n",
    "\n",
    "inf_treat_pre = eta_treat_pre - w_treat_pre * att_treat_pre\\\n",
    "  / mean(w_treat_pre)\n",
    "inf_treat_post = eta_treat_post - w_treat_post * att_treat_post\\\n",
    "  / mean(w_treat_post)\n",
    "\n",
    "M1_post = np.mean((w_treat_post * post)[:, n_x] * int_cov, axis=0) / np.mean(w_treat_post)\n",
    "M1_pre = np.mean((w_treat_pre * (1 - post))[:, n_x] * int_cov, axis=0) / np.mean(w_treat_pre)\n"
   ]
  },
  {
   "cell_type": "code",
   "execution_count": null,
   "metadata": {},
   "outputs": [],
   "source": [
    "inf_treat_or_post = np.dot(asy_lin_rep_ols_post, M1_post)\n",
    "inf_treat_or_pre = np.dot(asy_lin_rep_ols_pre, M1_pre)\n",
    "inf_treat_or = inf_treat_or_post - inf_treat_or_pre\n",
    "\n",
    "inf_treat = inf_treat_post - inf_treat_pre + inf_treat_or\n",
    "\n",
    "inf_cont_pre = eta_cont_pre - w_cont_pre * att_cont_pre / np.mean(w_cont_pre)\n",
    "inf_cont_post = eta_cont_post - w_cont_post * att_cont_post / np.mean(w_cont_post)\n"
   ]
  },
  {
   "cell_type": "code",
   "execution_count": null,
   "metadata": {},
   "outputs": [],
   "source": [
    "\n",
    "M2_pre = np.mean(\n",
    "  ((w_cont_pre * (y - out_y_cont - att_cont_pre))[:, n_x] * int_cov), \n",
    "  axis=0\n",
    ") / np.mean(w_cont_pre)\n",
    "M2_post = np.mean(\n",
    "  ((w_cont_post * (y - out_y_cont - att_cont_post))[:, n_x] * int_cov),\n",
    "  axis=0\n",
    ") / np.mean(w_cont_post)\n",
    "\n",
    "inf_cont_ps = np.dot(asy_lin_rep_ps, M2_post - M2_pre)"
   ]
  },
  {
   "cell_type": "code",
   "execution_count": null,
   "metadata": {},
   "outputs": [
    {
     "data": {
      "text/plain": [
       "0.8363102379527425"
      ]
     },
     "execution_count": 23,
     "metadata": {},
     "output_type": "execute_result"
    }
   ],
   "source": [
    "M3_post = np.mean(\n",
    "  (w_cont_post * post)[:, n_x] * int_cov, axis=0\n",
    ") / np.mean(w_cont_post)\n",
    "M3_pre = np.mean(\n",
    "  (w_cont_pre * (1 - post))[:, n_x] * int_cov, axis=0\n",
    ") / np.mean(w_cont_pre)\n",
    "\n",
    "inf_cont_or_post = np.dot(asy_lin_rep_ols_post, M3_post)\n",
    "inf_cont_or_pre = np.dot(asy_lin_rep_ols_pre, M3_pre)\n",
    "inf_cont_or = inf_cont_or_post - inf_cont_or_pre\n",
    "\n",
    "inf_cont = inf_cont_post - inf_cont_pre + inf_cont_ps + inf_cont_or\n",
    "\n",
    "dr_att_inf_func1 = inf_treat - inf_cont\n",
    "\n",
    "def inf_eff_f(a, b, c):\n",
    "  return a - b * c / np.mean(b)\n",
    "\n",
    "inf_eff1 = inf_eff_f(eta_d_post, w_d, att_d_post)\n",
    "inf_eff2 = inf_eff_f(eta_dt1_post, w_dt1, att_dt1_post)\n",
    "inf_eff3 = inf_eff_f(eta_d_pre, w_d, att_d_pre)\n",
    "inf_eff4 = inf_eff_f(eta_dt0_pre, w_dt0, att_dt0_pre)\n",
    "inf_eff = inf_eff1 - inf_eff2 - (inf_eff3 - inf_eff4)\n",
    "\n",
    "def mom_f(a, b, int_cov = int_cov):\n",
    "  left = a / np.mean(a) - b / np.mean(b)\n",
    "  return np.mean(left[:, n_x] * int_cov, axis=0) \n",
    "\n",
    "mom_post = mom_f(w_d, w_dt1)\n",
    "mom_pre = mom_f(w_d, w_dt0)\n",
    "\n",
    "inf_or_post = np.dot(\n",
    "  asy_lin_rep_ols_post_treat - asy_lin_rep_ols_post, \n",
    "  mom_post\n",
    ")\n",
    "inf_or_pre = np.dot(\n",
    "  asy_lin_rep_ols_pre_treat - asy_lin_rep_ols_pre, \n",
    "  mom_pre\n",
    ")\n",
    "inf_or = inf_or_post - inf_or_pre\n",
    "dr_att_inf_func = dr_att_inf_func1 + inf_eff + inf_or\n",
    "dr_att"
   ]
  }
 ],
 "metadata": {
  "kernelspec": {
   "display_name": "Python 3",
   "language": "python",
   "name": "python3"
  },
  "language_info": {
   "codemirror_mode": {
    "name": "ipython",
    "version": 3
   },
   "file_extension": ".py",
   "mimetype": "text/x-python",
   "name": "python",
   "nbconvert_exporter": "python",
   "pygments_lexer": "ipython3",
   "version": "3.8.10"
  },
  "orig_nbformat": 4
 },
 "nbformat": 4,
 "nbformat_minor": 2
}
