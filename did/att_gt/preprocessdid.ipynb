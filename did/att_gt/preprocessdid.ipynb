{
 "cells": [
  {
   "cell_type": "code",
   "execution_count": 150,
   "metadata": {},
   "outputs": [],
   "source": [
    "from pre_process_did import pre_process_did\n",
    "import pandas as pd, numpy as np\n",
    "import patsy \n",
    "fml = patsy.dmatrices"
   ]
  },
  {
   "cell_type": "code",
   "execution_count": 151,
   "metadata": {},
   "outputs": [],
   "source": [
    "def makeBalancedPanel(data, idname, tname):\n",
    "  data = data.sort_values([idname, tname]).reset_index(drop = True)\n",
    "  nt = len(data[tname].unique())\n",
    "  data = data.groupby(idname)\\\n",
    "    .filter(lambda x: len(x) == nt)\n",
    "  return data"
   ]
  },
  {
   "cell_type": "code",
   "execution_count": 152,
   "metadata": {},
   "outputs": [
    {
     "data": {
      "text/html": [
       "<div>\n",
       "<style scoped>\n",
       "    .dataframe tbody tr th:only-of-type {\n",
       "        vertical-align: middle;\n",
       "    }\n",
       "\n",
       "    .dataframe tbody tr th {\n",
       "        vertical-align: top;\n",
       "    }\n",
       "\n",
       "    .dataframe thead th {\n",
       "        text-align: right;\n",
       "    }\n",
       "</style>\n",
       "<table border=\"1\" class=\"dataframe\">\n",
       "  <thead>\n",
       "    <tr style=\"text-align: right;\">\n",
       "      <th></th>\n",
       "      <th>Unnamed: 0</th>\n",
       "      <th>G</th>\n",
       "      <th>X</th>\n",
       "      <th>id</th>\n",
       "      <th>period</th>\n",
       "      <th>Y</th>\n",
       "    </tr>\n",
       "  </thead>\n",
       "  <tbody>\n",
       "    <tr>\n",
       "      <th>0</th>\n",
       "      <td>1</td>\n",
       "      <td>4</td>\n",
       "      <td>-0.876233</td>\n",
       "      <td>1</td>\n",
       "      <td>1</td>\n",
       "      <td>3.248701</td>\n",
       "    </tr>\n",
       "    <tr>\n",
       "      <th>1</th>\n",
       "      <td>2</td>\n",
       "      <td>4</td>\n",
       "      <td>-0.876233</td>\n",
       "      <td>1</td>\n",
       "      <td>2</td>\n",
       "      <td>2.266837</td>\n",
       "    </tr>\n",
       "    <tr>\n",
       "      <th>2</th>\n",
       "      <td>3</td>\n",
       "      <td>4</td>\n",
       "      <td>-0.876233</td>\n",
       "      <td>1</td>\n",
       "      <td>3</td>\n",
       "      <td>3.990885</td>\n",
       "    </tr>\n",
       "    <tr>\n",
       "      <th>3</th>\n",
       "      <td>4</td>\n",
       "      <td>4</td>\n",
       "      <td>-0.876233</td>\n",
       "      <td>1</td>\n",
       "      <td>4</td>\n",
       "      <td>4.653489</td>\n",
       "    </tr>\n",
       "    <tr>\n",
       "      <th>4</th>\n",
       "      <td>5</td>\n",
       "      <td>4</td>\n",
       "      <td>0.974974</td>\n",
       "      <td>2</td>\n",
       "      <td>1</td>\n",
       "      <td>5.880457</td>\n",
       "    </tr>\n",
       "  </tbody>\n",
       "</table>\n",
       "</div>"
      ],
      "text/plain": [
       "   Unnamed: 0  G         X  id  period         Y\n",
       "0           1  4 -0.876233   1       1  3.248701\n",
       "1           2  4 -0.876233   1       2  2.266837\n",
       "2           3  4 -0.876233   1       3  3.990885\n",
       "3           4  4 -0.876233   1       4  4.653489\n",
       "4           5  4  0.974974   2       1  5.880457"
      ]
     },
     "execution_count": 152,
     "metadata": {},
     "output_type": "execute_result"
    }
   ],
   "source": [
    "data = pd.read_csv(\"../../data/sim_data.csv\")\n",
    "data.head()"
   ]
  },
  {
   "cell_type": "code",
   "execution_count": 153,
   "metadata": {},
   "outputs": [],
   "source": [
    "yname = \"Y\"\n",
    "tname = \"period\"\n",
    "idname = \"id\"\n",
    "gname = \"G\"\n",
    "data = data\n",
    "xformla = \"Y~X\"\n",
    "\n",
    "### Adicional params\n",
    "clustervar = None\n",
    "weights_name = None\n"
   ]
  },
  {
   "cell_type": "code",
   "execution_count": 154,
   "metadata": {},
   "outputs": [],
   "source": [
    "control_group = ['nevertreated', 'notyettreated']\n",
    "anticipation = 0\n",
    "panel = True\n",
    "allow_unbalanced_panel = True"
   ]
  },
  {
   "cell_type": "code",
   "execution_count": 155,
   "metadata": {},
   "outputs": [],
   "source": [
    "n, t = data.shape\n",
    "control_group = control_group[0]"
   ]
  },
  {
   "cell_type": "code",
   "execution_count": 156,
   "metadata": {},
   "outputs": [],
   "source": [
    "\n",
    "columns = [idname, tname, yname, gname]\n",
    "# Columns\n",
    "if clustervar is not None:\n",
    "  columns += [clustervar]\n",
    "if weights_name is not None:\n",
    "  columns += [weights_name]\n",
    "  w = data[weights_name]\n",
    "else:\n",
    "  w = np.ones(n)\n",
    "\n",
    "\n",
    "if xformla is None:\n",
    "  xformla = f'{yname} ~ 1'\n",
    "_, x_cov = fml(xformla, data = data, return_type='dataframe')\n",
    "_, n_cov = x_cov.shape\n",
    "\n",
    "data = pd.concat([data[columns], x_cov], axis=1)\n",
    "data = data.assign(w = w)\n",
    "data = data.dropna()\n",
    "ndiff = n - len(data) \n",
    "if ndiff != 0: \n",
    "  print(f'dropped, {ndiff}, rows from original data due to missing data')\n",
    "\n",
    "tlist = np.sort(data[tname].unique())\n",
    "glist = np.sort(data[gname].unique())\n",
    "\n",
    "asif_nev_treated = data[gname] > np.max(tlist)\n",
    "asif_nev_treated.fillna(False, inplace=True)\n",
    "data.loc[asif_nev_treated, gname] = 0"
   ]
  },
  {
   "cell_type": "code",
   "execution_count": 157,
   "metadata": {},
   "outputs": [],
   "source": [
    "if len(glist[glist == 0]) == 0:\n",
    "  if control_group == \"nevertreated\":\n",
    "    raise ValueError(\"There is no available never-treated group\")\n",
    "  else:\n",
    "    value = np.max(glist) - anticipation\n",
    "    data = data.query(f'{tname} < @value')\n",
    "    tlist = np.sort(data_nona[tname].unique())\n",
    "    glist = np.sort(data_nona[gname].unique())\n",
    "    glist = glist[glist < np.max(glist)]"
   ]
  },
  {
   "cell_type": "code",
   "execution_count": 158,
   "metadata": {},
   "outputs": [],
   "source": [
    "glist = glist[glist > 0]\n",
    "# first prerios \n",
    "fp = tlist[0]\n",
    "glist = glist[glist > fp + anticipation]\n",
    "\n",
    "treated_fp = (data[gname] <= fp) & ~(data[gname] == 0)\n",
    "treated_fp.fillna(False, inplace=True)\n",
    "\n",
    "nfirst_period = np.sum(treated_fp) if panel \\\n",
    "  else len(data.loc[treated_fp, idname].unique())\n",
    "\n",
    "if nfirst_period > 0:\n",
    "  warning_message = f\"Dropped {nfirstperiod} units that were already treated in the first period.\"\n",
    "  print(warning_message)\n",
    "  glist_in = np.append(glist, [0])\n",
    "  data = data.query(f'{gname} in @glist_in')\n",
    "  tlist = np.sort(data_nona[tname].unique())\n",
    "  glist = np.sort(data_nona[gname].unique())\n",
    "  glist = glist[glist > 0]\n",
    "  fp = tlist[0]\n",
    "  glist = glist[glist > fp + anticipation]\n",
    "\n",
    "#todo: idname must be numeric\n",
    "true_rep_cross_section = False\n",
    "if not panel:\n",
    "  true_rep_cross_section = True"
   ]
  },
  {
   "cell_type": "code",
   "execution_count": 159,
   "metadata": {},
   "outputs": [],
   "source": [
    "if panel:\n",
    "  if allow_unbalanced_panel: \n",
    "    panel = False\n",
    "    true_rep_cross_section = False\n",
    "  else:\n",
    "    keepers = data.dropna().index\n",
    "    n = len(data[idname].unique)\n",
    "    print(n)\n",
    "    n_keep = len(data.iloc[keepers, idname].unique())\n",
    "\n",
    "    if len(data.loc[keepers] < len(data)):\n",
    "      print(f\"Dropped {n-n_keep} observations that had missing data.\")\n",
    "      data = data.loc[keepers]\n",
    "    # make balanced data set\n",
    "    n_old = len(data[idname].unique())\n",
    "    data = makeBalancedPanel(data, idname=idname, tname=tname)\n",
    "    n = len(data[idname].unique())\n",
    "    if len(data) == 0:\n",
    "      raise ValueError(\"All observations dropped to convert data to balanced panel. Consider setting `panel=False` and/or revisit 'idname'.\")\n",
    "    if n < n_old:\n",
    "      warnings.warn(f\"Dropped {n_old-n} observations while converting to balanced panel.\")\n",
    "    tn = tlist[0]\n",
    "    n = len(data.query(f'{tname} == @tn'))\n"
   ]
  },
  {
   "cell_type": "code",
   "execution_count": 160,
   "metadata": {},
   "outputs": [],
   "source": [
    "# add rowid\n",
    "if not panel:\n",
    "  keepers = data.dropna().index\n",
    "  ndiff = len(data.loc[keepers]) - len(data)\n",
    "  if len(keepers) == 0:\n",
    "    raise \"All observations dropped due to missing data problems.\"\n",
    "  if ndiff < 0:\n",
    "    mssg = f\"Dropped {ndiff} observations that had missing data.\"\n",
    "    data = data.loc[keepers]\n",
    "  if true_rep_cross_section: \n",
    "    data = data.assign(rowid = range(len(data)))\n",
    "    idname = 'rowid'\n",
    "  else:\n",
    "    r_id = np.array(data[idname])\n",
    "    data = data.assign(rowid = r_id)\n",
    "  \n",
    "  n = len(data[idname].unique())\n",
    "\n",
    "data = data.sort_values([idname, tname])\n"
   ]
  },
  {
   "cell_type": "code",
   "execution_count": 161,
   "metadata": {},
   "outputs": [],
   "source": [
    "if len(glist) == 0:\n",
    "  raise f\"No valid groups. The variable in '{gname}' should be expressed as the time a unit is first treated (0 if never-treated).\"\n",
    "if len(tlist) == 2:\n",
    "  cband = False"
   ]
  },
  {
   "cell_type": "code",
   "execution_count": 162,
   "metadata": {},
   "outputs": [],
   "source": [
    "gsize = data.groupby(data[gname]).size().reset_index(name=\"count\")\n",
    "gsize[\"count\"] /= len(tlist)\n",
    "\n",
    "reqsize = n_cov + 5\n",
    "gsize = gsize[gsize[\"count\"] < reqsize]\n",
    "\n",
    "if len(gsize) > 0:\n",
    "  gpaste = \",\".join(map(str, gsize[gname]))\n",
    "  warnings.warn(f\"Be aware that there are some small groups in your dataset.\\n  Check groups: {gpaste}.\")\n",
    "\n",
    "  if 0 in gsize[gname].tolist() and control_group == \"nevertreated\":\n",
    "    raise \"Never-treated group is too small, try setting control_group='notyettreated'.\"\n",
    "nT, nG = map(len, [tlist, glist])"
   ]
  },
  {
   "cell_type": "code",
   "execution_count": 163,
   "metadata": {},
   "outputs": [
    {
     "data": {
      "text/plain": [
       "{'yname': 'Y',\n",
       " 'tname': 'period',\n",
       " 'idname': 'id',\n",
       " 'gname': 'G',\n",
       " 'xformla': 'Y~X',\n",
       " 'data':       id  period         Y  G  Intercept         X    w  rowid\n",
       " 0      1       1  3.248701  4        1.0 -0.876233  1.0      1\n",
       " 1      1       2  2.266837  4        1.0 -0.876233  1.0      1\n",
       " 2      1       3  3.990885  4        1.0 -0.876233  1.0      1\n",
       " 3      1       4  4.653489  4        1.0 -0.876233  1.0      1\n",
       " 4      2       1  5.880457  4        1.0  0.974974  1.0      2\n",
       " ..   ...     ...       ... ..        ...       ...  ...    ...\n",
       " 315   99       4  4.843891  0        1.0  0.055808  1.0     99\n",
       " 316  100       1 -1.069496  0        1.0  0.666871  1.0    100\n",
       " 317  100       2  1.359492  0        1.0  0.666871  1.0    100\n",
       " 318  100       3  3.421405  0        1.0  0.666871  1.0    100\n",
       " 319  100       4  6.059621  0        1.0  0.666871  1.0    100\n",
       " \n",
       " [320 rows x 8 columns],\n",
       " 'tlist': array([1, 2, 3, 4], dtype=int64),\n",
       " 'glist': array([2, 3, 4], dtype=int64),\n",
       " 'n': 80,\n",
       " 'nG': 3,\n",
       " 'nT': 4,\n",
       " 'control_group': 'nevertreated',\n",
       " 'anticipation': 0,\n",
       " 'weights_name': None,\n",
       " 'panel': False,\n",
       " 'true_rep_cross_section': False}"
      ]
     },
     "execution_count": 163,
     "metadata": {},
     "output_type": "execute_result"
    }
   ],
   "source": [
    "did_params = {\n",
    "  'yname' : yname, 'tname': tname,\n",
    "  'idname' : idname, 'gname': gname,\n",
    "  'xformla': xformla, 'data': data,\n",
    "  'tlist': tlist, 'glist': glist,\n",
    "  'n': n, 'nG': nG, 'nT': nT,\n",
    "  'control_group': control_group, 'anticipation': anticipation,\n",
    "  'weights_name': weights_name, 'panel': panel,\n",
    "  'true_rep_cross_section': true_rep_cross_section\n",
    "}\n",
    "did_params"
   ]
  }
 ],
 "metadata": {
  "kernelspec": {
   "display_name": "Python 3",
   "language": "python",
   "name": "python3"
  },
  "language_info": {
   "codemirror_mode": {
    "name": "ipython",
    "version": 3
   },
   "file_extension": ".py",
   "mimetype": "text/x-python",
   "name": "python",
   "nbconvert_exporter": "python",
   "pygments_lexer": "ipython3",
   "version": "3.8.10"
  },
  "orig_nbformat": 4
 },
 "nbformat": 4,
 "nbformat_minor": 2
}
