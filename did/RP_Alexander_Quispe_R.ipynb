{
 "cells": [
  {
   "attachments": {},
   "cell_type": "markdown",
   "id": "21014135",
   "metadata": {},
   "source": [
    "# Pouliot and Torgovitsky Research Professional Test - Alexander Quispe"
   ]
  },
  {
   "attachments": {},
   "cell_type": "markdown",
   "id": "8651b440",
   "metadata": {},
   "source": [
    "$$Y_i = arg\\max_{ j=0, 1..., J } (\\alpha_j + \\beta*p_j + U_{ij} )$$"
   ]
  },
  {
   "attachments": {},
   "cell_type": "markdown",
   "id": "a53da59b",
   "metadata": {},
   "source": [
    "## 1. Use the following information to solve for $\\beta$ to within three decimal places:\n",
    "\n",
    "j | alpha_j | p_j | P[Y_i = j] \n",
    "--|---------|-----|------------\n",
    "0 | 0 | 0 | 0.427\n",
    "1 | -0.5 | 5 | 0.157\n",
    "2 | 0 | 10 | 0.157\n",
    "3 | 1 | 15 | 0.259\n",
    "\n",
    "\n",
    "In a multinomial logit model, the probabilities of each outcome can be represented as:\n",
    "\n",
    "$$ P[Y_i = j] = exp(alpha_j + \\beta**p_j) / \\sum(exp(alpha_k + \\beta*p_k)) $$\n",
    "\n",
    "for all k, where the sum runs over all possible choices.\n",
    "From the information given, we have four equations:\n",
    "\n",
    "* $$ exp(\\alpha_0 + \\beta*p_0) / \\sum(exp(\\alpha_k + \\beta_k)) = 0.427 $$\n",
    "* $$ exp(\\alpha_1 + \\beta*p_1) / \\sum(exp(\\alpha_k + \\beta_k)) = 0.157 $$\n",
    "* $$ exp(\\alpha_2 + \\beta*p_2) / \\sum(exp(\\alpha_k + \\beta_k)) = 0.157 $$\n",
    "* $$ exp(\\alpha_3 + \\beta*p_3) / \\sum(exp(\\alpha_k + \\beta_k)) = 0.259 $$\n",
    "\n",
    "Using the information in the table above\n",
    "\n",
    "* $$ 1 / (1 + exp(-0.5 + \\beta*5) + exp(\\beta*10) + exp(1 + \\beta**15)) = 0.427  $$\n",
    "* $$ exp(-0.5 + \\beta*5) / (1 + exp(-0.5 + \\beta*5) + exp(\\beta*10) + exp(1 + \\beta*15)) = 0.157 $$\n",
    "* $$ exp(\\beta*10) / (1 + exp(-0.5 + \\beta*5) + exp(\\beta*10) + exp(1 + \\beta*15)) = 0.157 $$\n",
    "* $$ exp(1 + \\beta*15) / (1 + exp(-0.5 + \\beta*5) + exp(\\beta*10) + exp(1 + \\beta*15)) = 0.259 $$\n",
    "\n",
    "We can use these equations to solve for Beta. However, this is a nonlinear equation system and it might not have a simple closed-form solution, so a numerical solution method might be needed."
   ]
  },
  {
   "cell_type": "code",
   "execution_count": 12,
   "id": "06975779",
   "metadata": {
    "vscode": {
     "languageId": "r"
    }
   },
   "outputs": [
    {
     "name": "stdout",
     "output_type": "stream",
     "text": [
      "[1] \"Estimated value of Beta: -0.10002526231193\"\n"
     ]
    }
   ],
   "source": [
    "# install.packages(\"rootSolve\")\n",
    "library(rootSolve)\n",
    "\n",
    "# define the function where we want to find the roots\n",
    "eqn <- function(Beta) {\n",
    "  return (1 / (1 + exp(-0.5 + Beta*5) + exp(Beta*10) + exp(1 + Beta*15)) - 0.427)\n",
    "}\n",
    "\n",
    "# initial guess for Beta\n",
    "Beta_init <- 0\n",
    "\n",
    "sol <- multiroot(eqn, start = Beta_init)\n",
    "Beta <- sol$root[1]\n",
    "print(paste(\"Estimated value of Beta:\", Beta))"
   ]
  },
  {
   "attachments": {},
   "cell_type": "markdown",
   "id": "2bb0a06b",
   "metadata": {},
   "source": [
    "## 2.  Write a function that computes the log-likelihood "
   ]
  },
  {
   "cell_type": "code",
   "execution_count": 13,
   "id": "4c9a877f-d4c4-41e2-a07c-1655fef40951",
   "metadata": {
    "vscode": {
     "languageId": "r"
    }
   },
   "outputs": [
    {
     "name": "stdout",
     "output_type": "stream",
     "text": [
      "[1] -5.904516\n"
     ]
    }
   ],
   "source": [
    "# Define the function that computes the log-likelihood for the entire sample\n",
    "log_likelihood <- function(alpha, Beta, Y, p) {\n",
    "  J <- length(alpha)\n",
    "  n <- length(Y)\n",
    "  logL <- 0\n",
    "  for (i in 1:n) {\n",
    "      rest <- 0\n",
    "      for(j in 1:J){\n",
    "          rest <- rest + sum(exp(alpha[j] + Beta*p[j]))\n",
    "      }\n",
    "    logL <- logL + alpha[i] + Beta*p[i] - log(rest)\n",
    "  }\n",
    "  return(logL)\n",
    "}\n",
    "\n",
    "# Values of alpha, Beta, and p from the table\n",
    "alpha <- c(0, -0.5, 0, 1)\n",
    "Beta <- -0.1  # Beta value found\n",
    "p <- c(0, 5, 10, 15)\n",
    "\n",
    "# Your sample of realizations\n",
    "Y <- c(0, 1, 2, 3)  # This is our sample\n",
    "\n",
    "# Compute the log-likelihood for this sample\n",
    "logL <- log_likelihood(alpha, Beta, Y, p)\n",
    "print(logL)"
   ]
  },
  {
   "attachments": {},
   "cell_type": "markdown",
   "id": "71dc58d5",
   "metadata": {},
   "source": [
    "## 3. Write a function that maximizes the log-likelihood in the previous part.\n",
    "In this example, I'm using the 'Nelder-Mead' method as it's a good general-purpose optimizer, especially when the function we're optimizing is relatively smooth, which is the case for many log-likelihood functions."
   ]
  },
  {
   "cell_type": "code",
   "execution_count": 14,
   "id": "aef442b7-a339-4c44-9610-173f78554917",
   "metadata": {
    "vscode": {
     "languageId": "r"
    }
   },
   "outputs": [
    {
     "name": "stdout",
     "output_type": "stream",
     "text": [
      "[1] \"Optimized alpha:\"\n"
     ]
    },
    {
     "data": {
      "text/html": [
       "<style>\n",
       ".list-inline {list-style: none; margin:0; padding: 0}\n",
       ".list-inline>li {display: inline-block}\n",
       ".list-inline>li:not(:last-child)::after {content: \"\\00b7\"; padding: 0 .5ex}\n",
       "</style>\n",
       "<ol class=list-inline><li>-0.509438512010376</li><li>-0.2207901803004</li><li>0.0685582625214819</li><li>0.357396302057347</li></ol>\n"
      ],
      "text/latex": [
       "\\begin{enumerate*}\n",
       "\\item -0.509438512010376\n",
       "\\item -0.2207901803004\n",
       "\\item 0.0685582625214819\n",
       "\\item 0.357396302057347\n",
       "\\end{enumerate*}\n"
      ],
      "text/markdown": [
       "1. -0.509438512010376\n",
       "2. -0.2207901803004\n",
       "3. 0.0685582625214819\n",
       "4. 0.357396302057347\n",
       "\n",
       "\n"
      ],
      "text/plain": [
       "[1] -0.50943851 -0.22079018  0.06855826  0.35739630"
      ]
     },
     "metadata": {},
     "output_type": "display_data"
    },
    {
     "name": "stdout",
     "output_type": "stream",
     "text": [
      "[1] \"Optimized beta:\"\n"
     ]
    },
    {
     "data": {
      "text/html": [
       "-0.0577985244965928"
      ],
      "text/latex": [
       "-0.0577985244965928"
      ],
      "text/markdown": [
       "-0.0577985244965928"
      ],
      "text/plain": [
       "[1] -0.05779852"
      ]
     },
     "metadata": {},
     "output_type": "display_data"
    }
   ],
   "source": [
    "# Your sample of realizations\n",
    "Y_p = 1:4  # replace this with your actual data\n",
    "\n",
    "# Values of p from the table\n",
    "p_p = c(0, 5, 10, 15)\n",
    "Beta = 4\n",
    "\n",
    "# Initial guess for alpha and Beta\n",
    "params_init = c(0, -0.5, 0, 1, 0.0)  # The first four values are for alpha and the last for beta\n",
    "\n",
    "neg_log_likelihood <- function(params, Y = Y_p, p = p_p) {\n",
    "  alpha <- params[-length(params)]  # all but the last entry\n",
    "  Beta <- params[length(params)]  # the last entry\n",
    "  J <- length(alpha)\n",
    "  n <- length(Y)\n",
    "  logL <- 0\n",
    "  for (i in 1:n) {\n",
    "    inner_sum <- 0\n",
    "    for (j in 1:J) {\n",
    "      inner_sum <- inner_sum + exp(alpha[j] + Beta*p[j])\n",
    "    }\n",
    "    logL <- logL + alpha[Y[i]] + Beta*p[Y[i]] - log(inner_sum)\n",
    "  }\n",
    "  return(-logL)  # we return the negative log-likelihood\n",
    "}\n",
    "\n",
    "res <- optim(params_init, fn = neg_log_likelihood,  method = \"Nelder-Mead\")\n",
    "alpha <- res$par[1:length(Y)]\n",
    "beta_opt <- res$par[length(params_init)]\n",
    "print(paste(\"Optimized alpha:\"))\n",
    "alpha\n",
    "print(paste(\"Optimized beta:\"))\n",
    "beta_opt"
   ]
  },
  {
   "attachments": {},
   "cell_type": "markdown",
   "id": "ebb0a89f",
   "metadata": {},
   "source": [
    "### explain why you used the package **optim: General-purpose Optimization**\n",
    "* **Robustness**: The log-likelihood function may not be globally concave, and might have multiple local maxima. The optimization algorithms implemented in scipy.optimize.minimize are capable of handling such non-convex problems.\n",
    "\n",
    "* **Numerical Methods**: Real-world econometric applications often involve complex models for which analytical solutions are not available, requiring the use of numerical methods. scipy.optimize.minimize uses numerical optimization algorithms, making it a useful tool for such applications.\n",
    "\n",
    "* **Scalability**: The task of optimizing the log-likelihood function may become computationally demanding as the size of the dataset (number of observations) increases. The algorithms in scipy.optimize.minimize are designed to handle large-scale problems efficiently."
   ]
  },
  {
   "attachments": {},
   "cell_type": "markdown",
   "id": "76a11d2f",
   "metadata": {},
   "source": [
    "## 4. Construct an estimator $\\theta$"
   ]
  },
  {
   "cell_type": "code",
   "execution_count": 15,
   "id": "f51e5a21",
   "metadata": {
    "vscode": {
     "languageId": "r"
    }
   },
   "outputs": [
    {
     "name": "stdout",
     "output_type": "stream",
     "text": [
      "theta_hat: 0.00053648 \n"
     ]
    }
   ],
   "source": [
    "# Define the function that calculates theta_hat\n",
    "calculate_theta_hat <- function(alpha_hat, Beta_hat, p) {\n",
    "  J <- length(alpha_hat)\n",
    "  \n",
    "  # Calculate utilities for all choices\n",
    "  utilities <- sapply(1:J, function(j) alpha_hat[j] + Beta_hat * p[j])\n",
    "  \n",
    "  # Utility for choice 1 with altered price p1 (p1=3)\n",
    "  utility_1_altered <- alpha_hat[2] + 3 * Beta_hat  # Adjust the index if necessary\n",
    "  \n",
    "  # Calculate the probabilities for each choice\n",
    "  probabilities <- exp(utilities)\n",
    "  probabilities[2] <- exp(utility_1_altered)  # replace with altered utility for choice 1\n",
    "  \n",
    "  # Normalize the probabilities so they sum to 1\n",
    "  probabilities <- probabilities / sum(probabilities)\n",
    "  \n",
    "  # theta_hat is the probability for choice 1\n",
    "  theta_hat <- probabilities[2]  # Adjust the index if necessary\n",
    "  \n",
    "  return(theta_hat)\n",
    "}\n",
    "\n",
    "# Let's use some estimated parameters alpha_hat and Beta_hat for demonstration\n",
    "alpha_hat <- c(0, -0.5, 0, 1)\n",
    "Beta_hat <- 0.5\n",
    "\n",
    "# Values of p from the table\n",
    "p <- c(0, 5, 10, 15)\n",
    "\n",
    "theta_hat <- calculate_theta_hat(alpha_hat, Beta_hat, p)\n",
    "\n",
    "cat(\"theta_hat:\", format(theta_hat, digits = 5), \"\\n\")\n"
   ]
  },
  {
   "attachments": {},
   "cell_type": "markdown",
   "id": "d5098976",
   "metadata": {},
   "source": [
    "## Provide an economic interpretation of $\\theta$\n",
    "\n",
    "* In this excercise, θ represents the probability that a specific option, in this case option 1, would provide the highest utility for an individual given a specific alteration (the price of option 1 being 3 instead of 5).\n",
    "\n",
    "* Economically, this can be interpreted as the likelihood of a consumer preferring and therefore choosing option 1 over all other available options when the price of option 1 is reduced. Essentially, θ represents the shift in consumer preference when the price of option 1 changes.\n",
    "\n",
    "* The term \"utility\" here represents the satisfaction or benefit a consumer receives from choosing a specific option. The factors $α_j$ and $β*p_j$ in the utility calculation represent the characteristics of each choice $j$ and their influence on the consumer's decision. The parameter $α_j$ captures the inherent preference for choice $j$ (the \"intercept\" term), and $β*p_j$ reflects how the price of choice $j$ influences its utility (with $β$ being the price sensitivity).\n",
    "\n",
    "* $U_ij$ represents unobserved factors that could also influence the consumer's decision. The use of a standard type I extreme value distribution for U_ij is a standard assumption in discrete choice models and leads to the logit form for the choice probabilities.\n",
    "\n",
    "* In summary, the estimation of θ reflects an analysis of consumer choice behavior under a specific scenario (price alteration of choice 1) based on the given utility model. The implications of the estimated θ could be used for various economic applications such as market prediction, pricing strategy, demand estimation, policy design, etc."
   ]
  },
  {
   "attachments": {},
   "cell_type": "markdown",
   "id": "0dcf4605",
   "metadata": {},
   "source": [
    "## 5. Montecarlo Simulation"
   ]
  },
  {
   "cell_type": "code",
   "execution_count": 16,
   "id": "214efd44-71a4-4bc4-b45e-d2370167d7f5",
   "metadata": {
    "vscode": {
     "languageId": "r"
    }
   },
   "outputs": [],
   "source": [
    "library(tidyverse)"
   ]
  },
  {
   "cell_type": "code",
   "execution_count": 17,
   "id": "cd9f563b",
   "metadata": {
    "scrolled": true,
    "vscode": {
     "languageId": "r"
    }
   },
   "outputs": [
    {
     "data": {
      "text/html": [
       "<table class=\"dataframe\">\n",
       "<caption>A tibble: 5000 × 3</caption>\n",
       "<thead>\n",
       "\t<tr><th scope=col>beta_hat</th><th scope=col>theta_hat</th><th scope=col>n</th></tr>\n",
       "\t<tr><th scope=col>&lt;dbl&gt;</th><th scope=col>&lt;dbl&gt;</th><th scope=col>&lt;chr&gt;</th></tr>\n",
       "</thead>\n",
       "<tbody>\n",
       "\t<tr><td>-0.8462573</td><td>0.4799976</td><td>n =  50</td></tr>\n",
       "\t<tr><td>-0.8482505</td><td>0.3800309</td><td>n =  50</td></tr>\n",
       "\t<tr><td>-0.9081915</td><td>0.2799987</td><td>n =  50</td></tr>\n",
       "\t<tr><td>-0.8799594</td><td>0.4999987</td><td>n =  50</td></tr>\n",
       "\t<tr><td>-0.8346447</td><td>0.3599992</td><td>n =  50</td></tr>\n",
       "\t<tr><td>-0.8831188</td><td>0.3199457</td><td>n =  50</td></tr>\n",
       "\t<tr><td>-0.8363292</td><td>0.3400760</td><td>n =  50</td></tr>\n",
       "\t<tr><td>-0.8943927</td><td>0.3600071</td><td>n =  50</td></tr>\n",
       "\t<tr><td>-0.8338162</td><td>0.4399839</td><td>n =  50</td></tr>\n",
       "\t<tr><td>-0.8943927</td><td>0.3600071</td><td>n =  50</td></tr>\n",
       "\t<tr><td>-0.8369641</td><td>0.3799958</td><td>n =  50</td></tr>\n",
       "\t<tr><td>-0.8831188</td><td>0.3199457</td><td>n =  50</td></tr>\n",
       "\t<tr><td>-0.8420102</td><td>0.3800265</td><td>n =  50</td></tr>\n",
       "\t<tr><td>-0.8560342</td><td>0.5000868</td><td>n =  50</td></tr>\n",
       "\t<tr><td>-0.8975852</td><td>0.3400066</td><td>n =  50</td></tr>\n",
       "\t<tr><td>-0.8697284</td><td>0.4400688</td><td>n =  50</td></tr>\n",
       "\t<tr><td>-0.8560342</td><td>0.5000868</td><td>n =  50</td></tr>\n",
       "\t<tr><td>-0.8802547</td><td>0.3599991</td><td>n =  50</td></tr>\n",
       "\t<tr><td>-0.8415412</td><td>0.3000093</td><td>n =  50</td></tr>\n",
       "\t<tr><td>-0.9170031</td><td>0.2800061</td><td>n =  50</td></tr>\n",
       "\t<tr><td>-0.8578749</td><td>0.4200034</td><td>n =  50</td></tr>\n",
       "\t<tr><td>-0.8786198</td><td>0.3399295</td><td>n =  50</td></tr>\n",
       "\t<tr><td>-0.8310138</td><td>0.3599980</td><td>n =  50</td></tr>\n",
       "\t<tr><td>-0.8446424</td><td>0.3600645</td><td>n =  50</td></tr>\n",
       "\t<tr><td>-0.8855834</td><td>0.3999989</td><td>n =  50</td></tr>\n",
       "\t<tr><td>-0.8880180</td><td>0.3599994</td><td>n =  50</td></tr>\n",
       "\t<tr><td>-0.8832549</td><td>0.3799994</td><td>n =  50</td></tr>\n",
       "\t<tr><td>-0.8346447</td><td>0.3599992</td><td>n =  50</td></tr>\n",
       "\t<tr><td>-0.8406675</td><td>0.4799421</td><td>n =  50</td></tr>\n",
       "\t<tr><td>-0.8365010</td><td>0.4199724</td><td>n =  50</td></tr>\n",
       "\t<tr><td>⋮</td><td>⋮</td><td>⋮</td></tr>\n",
       "\t<tr><td>-0.9974609</td><td>0.4115647</td><td>n =  5000</td></tr>\n",
       "\t<tr><td>-0.9892040</td><td>0.3969505</td><td>n =  5000</td></tr>\n",
       "\t<tr><td>-1.0002795</td><td>0.3985638</td><td>n =  5000</td></tr>\n",
       "\t<tr><td>-0.9827875</td><td>0.4051464</td><td>n =  5000</td></tr>\n",
       "\t<tr><td>-1.0131526</td><td>0.4081801</td><td>n =  5000</td></tr>\n",
       "\t<tr><td>-1.0035651</td><td>0.3989675</td><td>n =  5000</td></tr>\n",
       "\t<tr><td>-0.8926350</td><td>0.3909997</td><td>n =  5000</td></tr>\n",
       "\t<tr><td>-1.0056087</td><td>0.4139738</td><td>n =  5000</td></tr>\n",
       "\t<tr><td>-0.9976703</td><td>0.4017628</td><td>n =  5000</td></tr>\n",
       "\t<tr><td>-1.0030712</td><td>0.3887608</td><td>n =  5000</td></tr>\n",
       "\t<tr><td>-0.9977913</td><td>0.3961598</td><td>n =  5000</td></tr>\n",
       "\t<tr><td>-0.9851465</td><td>0.4081489</td><td>n =  5000</td></tr>\n",
       "\t<tr><td>-0.9855536</td><td>0.4073502</td><td>n =  5000</td></tr>\n",
       "\t<tr><td>-0.9771601</td><td>0.4025384</td><td>n =  5000</td></tr>\n",
       "\t<tr><td>-1.0802087</td><td>0.3757942</td><td>n =  5000</td></tr>\n",
       "\t<tr><td>-1.0183056</td><td>0.4017816</td><td>n =  5000</td></tr>\n",
       "\t<tr><td>-0.9776603</td><td>0.4017388</td><td>n =  5000</td></tr>\n",
       "\t<tr><td>-1.0320551</td><td>0.4005887</td><td>n =  5000</td></tr>\n",
       "\t<tr><td>-0.9703704</td><td>0.3923251</td><td>n =  5000</td></tr>\n",
       "\t<tr><td>-0.9941899</td><td>0.4049603</td><td>n =  5000</td></tr>\n",
       "\t<tr><td>-0.9786892</td><td>0.4015400</td><td>n =  5000</td></tr>\n",
       "\t<tr><td>-0.9944004</td><td>0.3937545</td><td>n =  5000</td></tr>\n",
       "\t<tr><td>-1.0411982</td><td>0.3959909</td><td>n =  5000</td></tr>\n",
       "\t<tr><td>-0.9800155</td><td>0.3965392</td><td>n =  5000</td></tr>\n",
       "\t<tr><td>-0.9899476</td><td>0.4079561</td><td>n =  5000</td></tr>\n",
       "\t<tr><td>-1.0081568</td><td>0.4013732</td><td>n =  5000</td></tr>\n",
       "\t<tr><td>-1.0102416</td><td>0.4017752</td><td>n =  5000</td></tr>\n",
       "\t<tr><td>-1.0026767</td><td>0.4057699</td><td>n =  5000</td></tr>\n",
       "\t<tr><td>-1.0001474</td><td>0.4055672</td><td>n =  5000</td></tr>\n",
       "\t<tr><td>-0.9926267</td><td>0.4095594</td><td>n =  5000</td></tr>\n",
       "</tbody>\n",
       "</table>\n"
      ],
      "text/latex": [
       "A tibble: 5000 × 3\n",
       "\\begin{tabular}{lll}\n",
       " beta\\_hat & theta\\_hat & n\\\\\n",
       " <dbl> & <dbl> & <chr>\\\\\n",
       "\\hline\n",
       "\t -0.8462573 & 0.4799976 & n =  50\\\\\n",
       "\t -0.8482505 & 0.3800309 & n =  50\\\\\n",
       "\t -0.9081915 & 0.2799987 & n =  50\\\\\n",
       "\t -0.8799594 & 0.4999987 & n =  50\\\\\n",
       "\t -0.8346447 & 0.3599992 & n =  50\\\\\n",
       "\t -0.8831188 & 0.3199457 & n =  50\\\\\n",
       "\t -0.8363292 & 0.3400760 & n =  50\\\\\n",
       "\t -0.8943927 & 0.3600071 & n =  50\\\\\n",
       "\t -0.8338162 & 0.4399839 & n =  50\\\\\n",
       "\t -0.8943927 & 0.3600071 & n =  50\\\\\n",
       "\t -0.8369641 & 0.3799958 & n =  50\\\\\n",
       "\t -0.8831188 & 0.3199457 & n =  50\\\\\n",
       "\t -0.8420102 & 0.3800265 & n =  50\\\\\n",
       "\t -0.8560342 & 0.5000868 & n =  50\\\\\n",
       "\t -0.8975852 & 0.3400066 & n =  50\\\\\n",
       "\t -0.8697284 & 0.4400688 & n =  50\\\\\n",
       "\t -0.8560342 & 0.5000868 & n =  50\\\\\n",
       "\t -0.8802547 & 0.3599991 & n =  50\\\\\n",
       "\t -0.8415412 & 0.3000093 & n =  50\\\\\n",
       "\t -0.9170031 & 0.2800061 & n =  50\\\\\n",
       "\t -0.8578749 & 0.4200034 & n =  50\\\\\n",
       "\t -0.8786198 & 0.3399295 & n =  50\\\\\n",
       "\t -0.8310138 & 0.3599980 & n =  50\\\\\n",
       "\t -0.8446424 & 0.3600645 & n =  50\\\\\n",
       "\t -0.8855834 & 0.3999989 & n =  50\\\\\n",
       "\t -0.8880180 & 0.3599994 & n =  50\\\\\n",
       "\t -0.8832549 & 0.3799994 & n =  50\\\\\n",
       "\t -0.8346447 & 0.3599992 & n =  50\\\\\n",
       "\t -0.8406675 & 0.4799421 & n =  50\\\\\n",
       "\t -0.8365010 & 0.4199724 & n =  50\\\\\n",
       "\t ⋮ & ⋮ & ⋮\\\\\n",
       "\t -0.9974609 & 0.4115647 & n =  5000\\\\\n",
       "\t -0.9892040 & 0.3969505 & n =  5000\\\\\n",
       "\t -1.0002795 & 0.3985638 & n =  5000\\\\\n",
       "\t -0.9827875 & 0.4051464 & n =  5000\\\\\n",
       "\t -1.0131526 & 0.4081801 & n =  5000\\\\\n",
       "\t -1.0035651 & 0.3989675 & n =  5000\\\\\n",
       "\t -0.8926350 & 0.3909997 & n =  5000\\\\\n",
       "\t -1.0056087 & 0.4139738 & n =  5000\\\\\n",
       "\t -0.9976703 & 0.4017628 & n =  5000\\\\\n",
       "\t -1.0030712 & 0.3887608 & n =  5000\\\\\n",
       "\t -0.9977913 & 0.3961598 & n =  5000\\\\\n",
       "\t -0.9851465 & 0.4081489 & n =  5000\\\\\n",
       "\t -0.9855536 & 0.4073502 & n =  5000\\\\\n",
       "\t -0.9771601 & 0.4025384 & n =  5000\\\\\n",
       "\t -1.0802087 & 0.3757942 & n =  5000\\\\\n",
       "\t -1.0183056 & 0.4017816 & n =  5000\\\\\n",
       "\t -0.9776603 & 0.4017388 & n =  5000\\\\\n",
       "\t -1.0320551 & 0.4005887 & n =  5000\\\\\n",
       "\t -0.9703704 & 0.3923251 & n =  5000\\\\\n",
       "\t -0.9941899 & 0.4049603 & n =  5000\\\\\n",
       "\t -0.9786892 & 0.4015400 & n =  5000\\\\\n",
       "\t -0.9944004 & 0.3937545 & n =  5000\\\\\n",
       "\t -1.0411982 & 0.3959909 & n =  5000\\\\\n",
       "\t -0.9800155 & 0.3965392 & n =  5000\\\\\n",
       "\t -0.9899476 & 0.4079561 & n =  5000\\\\\n",
       "\t -1.0081568 & 0.4013732 & n =  5000\\\\\n",
       "\t -1.0102416 & 0.4017752 & n =  5000\\\\\n",
       "\t -1.0026767 & 0.4057699 & n =  5000\\\\\n",
       "\t -1.0001474 & 0.4055672 & n =  5000\\\\\n",
       "\t -0.9926267 & 0.4095594 & n =  5000\\\\\n",
       "\\end{tabular}\n"
      ],
      "text/markdown": [
       "\n",
       "A tibble: 5000 × 3\n",
       "\n",
       "| beta_hat &lt;dbl&gt; | theta_hat &lt;dbl&gt; | n &lt;chr&gt; |\n",
       "|---|---|---|\n",
       "| -0.8462573 | 0.4799976 | n =  50 |\n",
       "| -0.8482505 | 0.3800309 | n =  50 |\n",
       "| -0.9081915 | 0.2799987 | n =  50 |\n",
       "| -0.8799594 | 0.4999987 | n =  50 |\n",
       "| -0.8346447 | 0.3599992 | n =  50 |\n",
       "| -0.8831188 | 0.3199457 | n =  50 |\n",
       "| -0.8363292 | 0.3400760 | n =  50 |\n",
       "| -0.8943927 | 0.3600071 | n =  50 |\n",
       "| -0.8338162 | 0.4399839 | n =  50 |\n",
       "| -0.8943927 | 0.3600071 | n =  50 |\n",
       "| -0.8369641 | 0.3799958 | n =  50 |\n",
       "| -0.8831188 | 0.3199457 | n =  50 |\n",
       "| -0.8420102 | 0.3800265 | n =  50 |\n",
       "| -0.8560342 | 0.5000868 | n =  50 |\n",
       "| -0.8975852 | 0.3400066 | n =  50 |\n",
       "| -0.8697284 | 0.4400688 | n =  50 |\n",
       "| -0.8560342 | 0.5000868 | n =  50 |\n",
       "| -0.8802547 | 0.3599991 | n =  50 |\n",
       "| -0.8415412 | 0.3000093 | n =  50 |\n",
       "| -0.9170031 | 0.2800061 | n =  50 |\n",
       "| -0.8578749 | 0.4200034 | n =  50 |\n",
       "| -0.8786198 | 0.3399295 | n =  50 |\n",
       "| -0.8310138 | 0.3599980 | n =  50 |\n",
       "| -0.8446424 | 0.3600645 | n =  50 |\n",
       "| -0.8855834 | 0.3999989 | n =  50 |\n",
       "| -0.8880180 | 0.3599994 | n =  50 |\n",
       "| -0.8832549 | 0.3799994 | n =  50 |\n",
       "| -0.8346447 | 0.3599992 | n =  50 |\n",
       "| -0.8406675 | 0.4799421 | n =  50 |\n",
       "| -0.8365010 | 0.4199724 | n =  50 |\n",
       "| ⋮ | ⋮ | ⋮ |\n",
       "| -0.9974609 | 0.4115647 | n =  5000 |\n",
       "| -0.9892040 | 0.3969505 | n =  5000 |\n",
       "| -1.0002795 | 0.3985638 | n =  5000 |\n",
       "| -0.9827875 | 0.4051464 | n =  5000 |\n",
       "| -1.0131526 | 0.4081801 | n =  5000 |\n",
       "| -1.0035651 | 0.3989675 | n =  5000 |\n",
       "| -0.8926350 | 0.3909997 | n =  5000 |\n",
       "| -1.0056087 | 0.4139738 | n =  5000 |\n",
       "| -0.9976703 | 0.4017628 | n =  5000 |\n",
       "| -1.0030712 | 0.3887608 | n =  5000 |\n",
       "| -0.9977913 | 0.3961598 | n =  5000 |\n",
       "| -0.9851465 | 0.4081489 | n =  5000 |\n",
       "| -0.9855536 | 0.4073502 | n =  5000 |\n",
       "| -0.9771601 | 0.4025384 | n =  5000 |\n",
       "| -1.0802087 | 0.3757942 | n =  5000 |\n",
       "| -1.0183056 | 0.4017816 | n =  5000 |\n",
       "| -0.9776603 | 0.4017388 | n =  5000 |\n",
       "| -1.0320551 | 0.4005887 | n =  5000 |\n",
       "| -0.9703704 | 0.3923251 | n =  5000 |\n",
       "| -0.9941899 | 0.4049603 | n =  5000 |\n",
       "| -0.9786892 | 0.4015400 | n =  5000 |\n",
       "| -0.9944004 | 0.3937545 | n =  5000 |\n",
       "| -1.0411982 | 0.3959909 | n =  5000 |\n",
       "| -0.9800155 | 0.3965392 | n =  5000 |\n",
       "| -0.9899476 | 0.4079561 | n =  5000 |\n",
       "| -1.0081568 | 0.4013732 | n =  5000 |\n",
       "| -1.0102416 | 0.4017752 | n =  5000 |\n",
       "| -1.0026767 | 0.4057699 | n =  5000 |\n",
       "| -1.0001474 | 0.4055672 | n =  5000 |\n",
       "| -0.9926267 | 0.4095594 | n =  5000 |\n",
       "\n"
      ],
      "text/plain": [
       "     beta_hat   theta_hat n        \n",
       "1    -0.8462573 0.4799976 n =  50  \n",
       "2    -0.8482505 0.3800309 n =  50  \n",
       "3    -0.9081915 0.2799987 n =  50  \n",
       "4    -0.8799594 0.4999987 n =  50  \n",
       "5    -0.8346447 0.3599992 n =  50  \n",
       "6    -0.8831188 0.3199457 n =  50  \n",
       "7    -0.8363292 0.3400760 n =  50  \n",
       "8    -0.8943927 0.3600071 n =  50  \n",
       "9    -0.8338162 0.4399839 n =  50  \n",
       "10   -0.8943927 0.3600071 n =  50  \n",
       "11   -0.8369641 0.3799958 n =  50  \n",
       "12   -0.8831188 0.3199457 n =  50  \n",
       "13   -0.8420102 0.3800265 n =  50  \n",
       "14   -0.8560342 0.5000868 n =  50  \n",
       "15   -0.8975852 0.3400066 n =  50  \n",
       "16   -0.8697284 0.4400688 n =  50  \n",
       "17   -0.8560342 0.5000868 n =  50  \n",
       "18   -0.8802547 0.3599991 n =  50  \n",
       "19   -0.8415412 0.3000093 n =  50  \n",
       "20   -0.9170031 0.2800061 n =  50  \n",
       "21   -0.8578749 0.4200034 n =  50  \n",
       "22   -0.8786198 0.3399295 n =  50  \n",
       "23   -0.8310138 0.3599980 n =  50  \n",
       "24   -0.8446424 0.3600645 n =  50  \n",
       "25   -0.8855834 0.3999989 n =  50  \n",
       "26   -0.8880180 0.3599994 n =  50  \n",
       "27   -0.8832549 0.3799994 n =  50  \n",
       "28   -0.8346447 0.3599992 n =  50  \n",
       "29   -0.8406675 0.4799421 n =  50  \n",
       "30   -0.8365010 0.4199724 n =  50  \n",
       "⋮    ⋮          ⋮         ⋮        \n",
       "4971 -0.9974609 0.4115647 n =  5000\n",
       "4972 -0.9892040 0.3969505 n =  5000\n",
       "4973 -1.0002795 0.3985638 n =  5000\n",
       "4974 -0.9827875 0.4051464 n =  5000\n",
       "4975 -1.0131526 0.4081801 n =  5000\n",
       "4976 -1.0035651 0.3989675 n =  5000\n",
       "4977 -0.8926350 0.3909997 n =  5000\n",
       "4978 -1.0056087 0.4139738 n =  5000\n",
       "4979 -0.9976703 0.4017628 n =  5000\n",
       "4980 -1.0030712 0.3887608 n =  5000\n",
       "4981 -0.9977913 0.3961598 n =  5000\n",
       "4982 -0.9851465 0.4081489 n =  5000\n",
       "4983 -0.9855536 0.4073502 n =  5000\n",
       "4984 -0.9771601 0.4025384 n =  5000\n",
       "4985 -1.0802087 0.3757942 n =  5000\n",
       "4986 -1.0183056 0.4017816 n =  5000\n",
       "4987 -0.9776603 0.4017388 n =  5000\n",
       "4988 -1.0320551 0.4005887 n =  5000\n",
       "4989 -0.9703704 0.3923251 n =  5000\n",
       "4990 -0.9941899 0.4049603 n =  5000\n",
       "4991 -0.9786892 0.4015400 n =  5000\n",
       "4992 -0.9944004 0.3937545 n =  5000\n",
       "4993 -1.0411982 0.3959909 n =  5000\n",
       "4994 -0.9800155 0.3965392 n =  5000\n",
       "4995 -0.9899476 0.4079561 n =  5000\n",
       "4996 -1.0081568 0.4013732 n =  5000\n",
       "4997 -1.0102416 0.4017752 n =  5000\n",
       "4998 -1.0026767 0.4057699 n =  5000\n",
       "4999 -1.0001474 0.4055672 n =  5000\n",
       "5000 -0.9926267 0.4095594 n =  5000"
      ]
     },
     "metadata": {},
     "output_type": "display_data"
    }
   ],
   "source": [
    "# True parameter values\n",
    "true_alpha <- c(0, -0.5, 0, 1)\n",
    "true_beta <- -0.1  # some arbitrary value\n",
    "true_p <- c(0, 5, 10, 15)\n",
    "num_datasets <- 1000  # number of datasets to generate\n",
    "sample_sizes <- c(50, 100, 500, 1000, 5000)  # different sample sizes to test\n",
    "\n",
    "# Define the log likelihood function\n",
    "log_likelihood <- function(Y, alpha, beta, p) {\n",
    "  utilities <- alpha + beta * p\n",
    "  utilities <- utilities - max(utilities)  # for numerical stability\n",
    "  exp_utilities <- exp(utilities)\n",
    "  probabilities <- exp_utilities / sum(exp_utilities)\n",
    "  return(sum(log(probabilities[Y])))\n",
    "}\n",
    "\n",
    "# Optimization function to get the estimates\n",
    "optimize <- function(Y_i_sample, alpha, beta, p) {\n",
    "  # Define the objective function to be minimized (negative log-likelihood)\n",
    "  objective <- function(params) {\n",
    "    alpha <- params[1:4]  # first four parameters are alpha_j\n",
    "    beta <- params[5]  # last parameter is beta\n",
    "    return(-log_likelihood(Y_i_sample, alpha, beta, p))\n",
    "  }\n",
    "\n",
    "  # Initial guess for alpha and beta\n",
    "  initial_guess <- c(alpha, beta)\n",
    "\n",
    "  # Perform optimization\n",
    "  result <- optim(initial_guess, objective, method = \"BFGS\")\n",
    "\n",
    "  # Return the estimated alpha and beta\n",
    "  alpha_hat <- result$par[1:4]\n",
    "  beta_hat <- result$par[5]\n",
    "  return(list(alpha_hat = alpha_hat, beta_hat = beta_hat))\n",
    "}\n",
    "# Calculate theta hat function\n",
    "calculate_theta_hat <- function(alpha_hat, beta_hat, p) {\n",
    "  utilities <- alpha_hat + beta_hat * p\n",
    "  probabilities <- exp(utilities) / sum(exp(utilities))\n",
    "  return(probabilities[2])  # return the probability of option 1\n",
    "}\n",
    "\n",
    "simulation = function(n_size){\n",
    "    softmax <- function(x){\n",
    "        x / sum(x)\n",
    "    }\n",
    "    n_txt = paste(\"n = \", n_size)\n",
    "    sample_datasets = function(i){\n",
    "        Y_i_sample <- sample(c(0, 1, 2, 3), size = n_size, replace = TRUE, prob = softmax(true_alpha + true_beta * true_p))\n",
    "        opt = optimize(Y_i_sample, true_alpha, true_beta, true_p)\n",
    "        tibble(beta_hat = opt$beta_hat, theta_hat = calculate_theta_hat(opt$alpha_hat, opt$beta_hat, true_p), n = n_txt)\n",
    "    }\n",
    "    return(purrr::map_df(1:num_datasets, sample_datasets))\n",
    "}\n",
    "\n",
    "simulation_df = purrr::map_df(sample_sizes, simulation)\n",
    "simulation_df\n"
   ]
  },
  {
   "cell_type": "code",
   "execution_count": 18,
   "id": "7c9dbb09-1ed1-4413-8826-a64228b241be",
   "metadata": {
    "vscode": {
     "languageId": "r"
    }
   },
   "outputs": [
    {
     "data": {
      "image/png": "[encoded data removed]",
      "text/plain": [
       "plot without title"
      ]
     },
     "metadata": {
      "image/png": {
       "height": 420,
       "width": 420
      }
     },
     "output_type": "display_data"
    }
   ],
   "source": [
    "theme_set(theme_minimal())\n",
    "ggplot(simulation_df) +\n",
    "    aes(beta_hat / 10, fill = n) +\n",
    "    geom_histogram(position = 'jitter', alpha = .5, bins = 30) +\n",
    "    geom_vline(xintercept = true_beta, color = \"red\") + \n",
    "    labs(title = \"Distribution of beta_hat estimates\")"
   ]
  },
  {
   "cell_type": "code",
   "execution_count": 19,
   "id": "472ca125-7101-4964-84c0-9970cc5cfa40",
   "metadata": {
    "vscode": {
     "languageId": "r"
    }
   },
   "outputs": [
    {
     "data": {
      "image/png": "[encoded data removed]",
      "text/plain": [
       "plot without title"
      ]
     },
     "metadata": {
      "image/png": {
       "height": 420,
       "width": 420
      }
     },
     "output_type": "display_data"
    }
   ],
   "source": [
    "ggplot(simulation_df) +\n",
    "    aes(theta_hat, fill = n) +\n",
    "    geom_histogram(position = 'jitter', alpha = .5, bins = 30) +\n",
    "    labs(title = \"Distribution of theta_hat estimates\")"
   ]
  },
  {
   "attachments": {},
   "cell_type": "markdown",
   "id": "1879ffc7",
   "metadata": {},
   "source": [
    "## 6. Discuss how you would construct confidence intervals for $\\beta_{hat}$ and $\\theta_{hat}$"
   ]
  },
  {
   "attachments": {},
   "cell_type": "markdown",
   "id": "e72d3474",
   "metadata": {},
   "source": [
    "To construct confidence intervals for beta_hat and theta_hat, we can use the estimated standard errors of the estimates. In large samples, by the Central Limit Theorem, beta_hat and theta_hat are approximately normally distributed. Therefore, you can use the following formulas for the lower and upper limits of the 95% confidence interval: \n",
    "\n",
    "* lower_limit = estimate - 1.96 * standard_error\n",
    "* upper_limit = estimate + 1.96 * standard_error\n",
    "\n",
    "In this case, however, the standard errors of beta_hat and theta_hat are not readily available. We could estimate these by bootstrapping: resample the data with replacement, calculate beta_hat and theta_hat for each resampled dataset, and then calculate the standard deviation of these bootstrapped estimates.\n",
    "\n",
    "The following code implements a Monte Carlo study that checks whether these bootstrapped 95% confidence intervals cover the true parameter values 95% of the time."
   ]
  },
  {
   "cell_type": "code",
   "execution_count": null,
   "id": "4768c6ac-c380-452e-8415-348c3e7f85ba",
   "metadata": {
    "vscode": {
     "languageId": "r"
    }
   },
   "outputs": [
    {
     "name": "stdout",
     "output_type": "stream",
     "text": [
      "[1] \"n =  50\"\n"
     ]
    },
    {
     "name": "stderr",
     "output_type": "stream",
     "text": [
      " \u001b[32m■■■■■■■■■■■                     \u001b[39m  33% |  ETA:  2m\n"
     ]
    },
    {
     "name": "stdout",
     "output_type": "stream",
     "text": [
      "[1] \"n =  100\"\n"
     ]
    },
    {
     "name": "stderr",
     "output_type": "stream",
     "text": [
      " \u001b[32m■■■■■■■■■■■■■■■■■■■■■           \u001b[39m  67% |  ETA:  1m\n"
     ]
    }
   ],
   "source": [
    "sample_df = tibble(esti_hat = NA, value = NA, n = \"\", bt_bottom = 1, bt_upper = 1)\n",
    "sample_sizes <- c(50, 100, 500)\n",
    "num_bootstrap_samples = 50\n",
    "simulation_ci = function(n_size){\n",
    "    \n",
    "    softmax <- function(x){\n",
    "        x / sum(x)\n",
    "    }\n",
    "    n_txt = paste(\"n = \", n_size)\n",
    "    print(n_txt)\n",
    "    sample_datasets = function(i){\n",
    "        Y_i_sample <- sample(c(0, 1, 2, 3), size = n_size, replace = TRUE, prob = softmax(true_alpha + true_beta * true_p))\n",
    "        opt = optimize(Y_i_sample, true_alpha, true_beta, true_p)\n",
    "\n",
    "        alpha_hat = opt$alpha_hat\n",
    "        beta_hat = opt$beta_hat\n",
    "        theta_hat = calculate_theta_hat(opt$alpha_hat, opt$beta_hat, true_p)\n",
    "        bt_beta_hats = c()\n",
    "        bt_theta_hats = c()\n",
    "        \n",
    "        for(bt in 1:num_bootstrap_samples){\n",
    "            bootstrap_sample = sample(Y_i_sample, size = n_size, replace = T)\n",
    "            opt_bt = optimize(bootstrap_sample, alpha_hat, beta_hat, true_p)\n",
    "            bt_alpha_hat = opt_bt$alpha_hat\n",
    "            bt_beta_hat = opt_bt$beta_hat\n",
    "            bt_theta_hat = calculate_theta_hat(bt_alpha_hat, bt_beta_hat, true_p)\n",
    "    \n",
    "            bt_beta_hats = append(bt_beta_hats, bt_beta_hat)\n",
    "            bt_theta_hats = append(bt_theta_hats, bt_theta_hat)\n",
    "        }\n",
    "\n",
    "        bt_beta_ci = c(quantile(bt_beta_hats, probs = c(0.025, 0.975))) / 10\n",
    "        bt_theta_ci = c(quantile(bt_theta_hats, probs = c(0.025, 0.975))) / 10\n",
    "        \n",
    "        sample_df = sample_df |> add_row(esti_hat = \"beta\", value = beta_hat, n = n_txt, bt_bottom = bt_beta_ci[[1]], bt_upper = bt_beta_ci[[2]])\n",
    "        # sample_df = sample_df |> add_row(esti_hat = \"beta\", value = beta_hat, n = n_txt, bt_ci = list(bt_beta_hats))\n",
    "        sample_df = sample_df |> add_row(esti_hat = \"theta\", value = theta_hat, n = n_txt, bt_bottom = bt_theta_ci[[1]], bt_upper = bt_theta_ci[[2]])\n",
    "        # sample_df = sample_df |> add_row(esti_hat = \"theta\", value = theta_hat, n = n_txt, bt_ci = list(bt_theta_hats))\n",
    "        # list(bt_beta_hats, bt_theta_hats)\n",
    "    }\n",
    "    \n",
    "    return(purrr::map_df(1:num_datasets, sample_datasets)|> drop_na(value) )\n",
    "}\n",
    "simulation_df = purrr::map_df(sample_sizes, simulation_ci, .progress = T)\n",
    "simulation_df\n"
   ]
  },
  {
   "cell_type": "code",
   "execution_count": null,
   "id": "41af73b7-205a-450c-9cf1-60ca3af82000",
   "metadata": {
    "vscode": {
     "languageId": "r"
    }
   },
   "outputs": [],
   "source": [
    "simulation_df |> group_by(n, esti_hat) |> summarise(across(everything(), mean)) |> dplyr::select(!value)"
   ]
  },
  {
   "cell_type": "code",
   "execution_count": null,
   "id": "ae6e9b7f-c112-41a4-ac67-92bb485ae612",
   "metadata": {
    "vscode": {
     "languageId": "r"
    }
   },
   "outputs": [],
   "source": [
    "print(\"done\")"
   ]
  }
 ],
 "metadata": {
  "kernelspec": {
   "display_name": "R",
   "language": "R",
   "name": "ir"
  },
  "language_info": {
   "codemirror_mode": "r",
   "file_extension": ".r",
   "mimetype": "text/x-r-source",
   "name": "R",
   "pygments_lexer": "r",
   "version": "4.2.3"
  }
 },
 "nbformat": 4,
 "nbformat_minor": 5
}
