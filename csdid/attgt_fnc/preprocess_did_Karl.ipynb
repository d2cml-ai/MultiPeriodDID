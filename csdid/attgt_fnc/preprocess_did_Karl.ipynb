{
 "cells": [
  {
   "cell_type": "code",
   "execution_count": null,
   "metadata": {},
   "outputs": [],
   "source": [
    "pip install csdid"
   ]
  },
  {
   "cell_type": "code",
   "execution_count": 2,
   "metadata": {},
   "outputs": [],
   "source": [
    "import pandas as pd, numpy as np\n",
    "import patsy \n",
    "from csdid.utils.bmisc import makeBalancedPanel"
   ]
  },
  {
   "cell_type": "code",
   "execution_count": 5,
   "metadata": {},
   "outputs": [],
   "source": [
    "fml = patsy.dmatrices # Matriz de diseño \n",
    "def pre_process_did(yname, tname, idname, gname, data: pd.DataFrame, \n",
    "  control_group = ['nevertreated', 'notyettreated'], \n",
    "  anticipation = 0, xformla : str = None,\n",
    "  panel = True, allow_unbalanced_panel = True, cband = False,\n",
    "  clustervar = None,  weights_name = None\n",
    "  ) -> dict:\n",
    "\n",
    "    # yname: Nombre de la variable dependiente (Y).\n",
    "    # tname: Nombre de la variable de tiempo.\n",
    "    # idname: Nombre de la variable identificadora.\n",
    "    # gname: Variable que indica el grupo de tratamiento.\n",
    "    # data: El DataFrame que contiene los datos a procesar.\n",
    "    # Otros parámetros: Controlan aspectos como grupos de control,\n",
    "    # anticipación de tratamiento, si los datos forman un panel balanceado o no,\n",
    "    # entre otros.\n",
    "\n",
    "\n",
    "  n, t = data.shape # Dimensión de los datos, n filas y t columnas\n",
    "  control_group = control_group[0] # Primer grupo de control por defecto \n",
    "  \n",
    "  columns = [idname, tname, yname, gname] # Se seleccionan las columnas clave que contienen las variables relevantes.\n",
    "  if clustervar is not None: # Si hay clustering o de pesos \n",
    "    columns += [clustervar] \n",
    "  if weights_name is not None: # Se añaden a las columnas y se ajustan los pesos.\n",
    "    columns += [weights_name]\n",
    "    w = data[weights_name]\n",
    "  else:\n",
    "    w = np.ones(n)\n",
    "\n",
    "\n",
    "  if xformla is None: # Si no se especificó la fórmula de covariables xformula\n",
    "    xformla = f'{yname} ~ 1' # entonces se utiliza la básica regresión\n",
    "\n",
    "  return columns\n"
   ]
  }
 ],
 "metadata": {
  "kernelspec": {
   "display_name": "Python 3",
   "language": "python",
   "name": "python3"
  },
  "language_info": {
   "codemirror_mode": {
    "name": "ipython",
    "version": 3
   },
   "file_extension": ".py",
   "mimetype": "text/x-python",
   "name": "python",
   "nbconvert_exporter": "python",
   "pygments_lexer": "ipython3",
   "version": "3.11.9"
  }
 },
 "nbformat": 4,
 "nbformat_minor": 2
}
