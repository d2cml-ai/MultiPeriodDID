{
 "cells": [
  {
   "cell_type": "code",
   "execution_count": 18,
   "metadata": {},
   "outputs": [],
   "source": [
    "import sys\n",
    "sys.path.append('C:/Users/Lenovo/Documents/GitHub/csdid/csdid/attgt_fnc')\n",
    "\n",
    "from compute_att_gt import compute_att_gt"
   ]
  },
  {
   "cell_type": "code",
   "execution_count": 19,
   "metadata": {},
   "outputs": [],
   "source": [
    "import numpy as np, pandas as pd"
   ]
  },
  {
   "cell_type": "code",
   "execution_count": 20,
   "metadata": {},
   "outputs": [],
   "source": [
    "# Leer los datos\n",
    "data = pd.read_csv(\"https://raw.githubusercontent.com/d2cml-ai/csdid/main/data/sim_data.csv\")"
   ]
  },
  {
   "cell_type": "code",
   "execution_count": 22,
   "metadata": {},
   "outputs": [
    {
     "data": {
      "text/plain": [
       "{'yname': 'Y',\n",
       " 'tname': 'treat',\n",
       " 'idname': 'id',\n",
       " 'xformla': 'X',\n",
       " 'data':        G         X    id  cluster  period         Y  treat\n",
       " 0      3 -0.876233     1        5       1  5.562556      1\n",
       " 1      3 -0.876233     1        5       2  4.349213      1\n",
       " 2      3 -0.876233     1        5       3  7.134037      1\n",
       " 3      3 -0.876233     1        5       4  6.243056      1\n",
       " 4      2 -0.873848     2       36       1 -3.659387      1\n",
       " ...   ..       ...   ...      ...     ...       ...    ...\n",
       " 15911  0  1.760185  4999       17       4  8.503466      0\n",
       " 15912  0 -2.313316  5000       40       1 -0.294177      0\n",
       " 15913  0 -2.313316  5000       40       2 -3.896103      0\n",
       " 15914  0 -2.313316  5000       40       3 -4.910720      0\n",
       " 15915  0 -2.313316  5000       40       4 -5.340062      0\n",
       " \n",
       " [15916 rows x 7 columns],\n",
       " 'weights_name': None,\n",
       " 'panel': True,\n",
       " 'true_rep_cross_section': False,\n",
       " 'control_group': 'notyettreated',\n",
       " 'anticipation': 0,\n",
       " 'gname': 'G',\n",
       " 'n': 15916,\n",
       " 'nT': 4,\n",
       " 'nG': 4,\n",
       " 'tlist': [1, 2, 3, 4],\n",
       " 'glist': [0, 2, 3, 4]}"
      ]
     },
     "execution_count": 22,
     "metadata": {},
     "output_type": "execute_result"
    }
   ],
   "source": [
    "# Prepara el diccionario con los parámetros\n",
    "dp = {\n",
    "    'yname': 'Y',\n",
    "    'tname': 'treat',\n",
    "    'idname': 'id',\n",
    "    'xformla': 'X',\n",
    "    'data': data,\n",
    "    'weights_name': None,  # Si no tienes pesos\n",
    "    'panel': True,  # Si es un panel de datos\n",
    "    'true_rep_cross_section': False,  # Suponiendo que no es una muestra representativa\n",
    "    'control_group': 'notyettreated',  # Grupo de control\n",
    "    'anticipation': 0,  # Sin anticipación\n",
    "    'gname': 'G',  # Nombre del grupo\n",
    "    'n': len(data),\n",
    "    'nT': data['period'].nunique(),  # Número de periodos\n",
    "    'nG': data['G'].nunique(),  # Número de grupos\n",
    "    'tlist': sorted(data['period'].unique()),  # Lista de periodos\n",
    "    'glist': sorted(data['G'].unique())  # Lista de grupos\n",
    "}\n",
    "\n",
    "# Ejecuta tu función\n",
    "compute_att_gt(dp)\n"
   ]
  }
 ],
 "metadata": {
  "kernelspec": {
   "display_name": "Python 3",
   "language": "python",
   "name": "python3"
  },
  "language_info": {
   "codemirror_mode": {
    "name": "ipython",
    "version": 3
   },
   "file_extension": ".py",
   "mimetype": "text/x-python",
   "name": "python",
   "nbconvert_exporter": "python",
   "pygments_lexer": "ipython3",
   "version": "3.11.9"
  }
 },
 "nbformat": 4,
 "nbformat_minor": 2
}
