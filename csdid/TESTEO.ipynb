{
 "cells": [
  {
   "cell_type": "code",
   "execution_count": 23,
   "metadata": {},
   "outputs": [],
   "source": [
    "import sys\n",
    "sys.path.append('C:/Users/Lenovo/Documents/GitHub/csdid/csdid')\n",
    "\n",
    "# Asegúrate que ATTgt existe en el archivo 'att_gt_test.py'\n",
    "from att_gt import ATTgt\n",
    "\n",
    "\n",
    "\n"
   ]
  },
  {
   "cell_type": "code",
   "execution_count": 24,
   "metadata": {},
   "outputs": [],
   "source": [
    "import pandas as pd, numpy as np"
   ]
  },
  {
   "cell_type": "code",
   "execution_count": 25,
   "metadata": {},
   "outputs": [],
   "source": [
    "# Leer los datos\n",
    "data = pd.read_csv(\"https://raw.githubusercontent.com/d2cml-ai/csdid/main/data/sim_data.csv\")"
   ]
  },
  {
   "cell_type": "code",
   "execution_count": 26,
   "metadata": {},
   "outputs": [
    {
     "data": {
      "text/plain": [
       "{'yname': 'Y',\n",
       " 'tname': 'period',\n",
       " 'idname': 'id',\n",
       " 'gname': 'G',\n",
       " 'xformla': 'Y ~ 1',\n",
       " 'data':          id  period         Y  G  Intercept    w  rowid   w1\n",
       " 0         1       1  5.562556  3        1.0  1.0      1  1.0\n",
       " 1         1       2  4.349213  3        1.0  1.0      1  1.0\n",
       " 2         1       3  7.134037  3        1.0  1.0      1  1.0\n",
       " 3         1       4  6.243056  3        1.0  1.0      1  1.0\n",
       " 4         2       1 -3.659387  2        1.0  1.0      2  1.0\n",
       " ...     ...     ...       ... ..        ...  ...    ...  ...\n",
       " 15911  4999       4  8.503466  0        1.0  1.0   4999  1.0\n",
       " 15912  5000       1 -0.294177  0        1.0  1.0   5000  1.0\n",
       " 15913  5000       2 -3.896103  0        1.0  1.0   5000  1.0\n",
       " 15914  5000       3 -4.910720  0        1.0  1.0   5000  1.0\n",
       " 15915  5000       4 -5.340062  0        1.0  1.0   5000  1.0\n",
       " \n",
       " [15916 rows x 8 columns],\n",
       " 'tlist': array([1, 2, 3, 4], dtype=int64),\n",
       " 'glist': array([2, 3, 4], dtype=int64),\n",
       " 'n': 3979,\n",
       " 'nG': 3,\n",
       " 'nT': 4,\n",
       " 'control_group': 'nevertreated',\n",
       " 'anticipation': 0,\n",
       " 'weights_name': None,\n",
       " 'panel': True,\n",
       " 'true_rep_cross_section': False,\n",
       " 'clustervars': None,\n",
       " 'biters': 1000,\n",
       " 'alp': 0.05,\n",
       " 'true_repeated_cross_sections': False,\n",
       " 'cband': False}"
      ]
     },
     "execution_count": 26,
     "metadata": {},
     "output_type": "execute_result"
    }
   ],
   "source": [
    "attgt = ATTgt(\n",
    "    yname=\"Y\",\n",
    "    tname=\"period\",\n",
    "    idname=\"id\",\n",
    "    gname=\"G\",\n",
    "    xformla=\"Y~X\",\n",
    "    data=data\n",
    ")\n",
    "\n",
    "attgt.fit()"
   ]
  },
  {
   "cell_type": "code",
   "execution_count": 27,
   "metadata": {},
   "outputs": [
    {
     "ename": "IndexError",
     "evalue": "index 3 is out of bounds for axis 0 with size 3",
     "output_type": "error",
     "traceback": [
      "\u001b[1;31m---------------------------------------------------------------------------\u001b[0m",
      "\u001b[1;31mIndexError\u001b[0m                                Traceback (most recent call last)",
      "Cell \u001b[1;32mIn[27], line 11\u001b[0m\n\u001b[0;32m      1\u001b[0m attgt \u001b[38;5;241m=\u001b[39m ATTgt(\n\u001b[0;32m      2\u001b[0m     yname\u001b[38;5;241m=\u001b[39m\u001b[38;5;124m\"\u001b[39m\u001b[38;5;124mY\u001b[39m\u001b[38;5;124m\"\u001b[39m,\n\u001b[0;32m      3\u001b[0m     tname\u001b[38;5;241m=\u001b[39m\u001b[38;5;124m\"\u001b[39m\u001b[38;5;124mperiod\u001b[39m\u001b[38;5;124m\"\u001b[39m,\n\u001b[1;32m   (...)\u001b[0m\n\u001b[0;32m      8\u001b[0m     data\u001b[38;5;241m=\u001b[39mdata\n\u001b[0;32m      9\u001b[0m )\n\u001b[1;32m---> 11\u001b[0m \u001b[43mattgt\u001b[49m\u001b[38;5;241;43m.\u001b[39;49m\u001b[43mfit\u001b[49m\u001b[43m(\u001b[49m\u001b[43m)\u001b[49m\n",
      "File \u001b[1;32mc:\\Users\\Lenovo\\Documents\\GitHub\\csdid\\csdid\\att_gt.py:40\u001b[0m, in \u001b[0;36mATTgt.fit\u001b[1;34m(self, est_method, base_period, bstrap)\u001b[0m\n\u001b[0;32m     37\u001b[0m \u001b[38;5;28;01mdef\u001b[39;00m \u001b[38;5;21mfit\u001b[39m(\u001b[38;5;28mself\u001b[39m, est_method \u001b[38;5;241m=\u001b[39m \u001b[38;5;124m'\u001b[39m\u001b[38;5;124mdr\u001b[39m\u001b[38;5;124m'\u001b[39m, base_period \u001b[38;5;241m=\u001b[39m \u001b[38;5;124m'\u001b[39m\u001b[38;5;124mvarying\u001b[39m\u001b[38;5;124m'\u001b[39m, bstrap \u001b[38;5;241m=\u001b[39m \u001b[38;5;28;01mTrue\u001b[39;00m):\n\u001b[0;32m     38\u001b[0m   \u001b[38;5;66;03m# print(self.dp)\u001b[39;00m\n\u001b[0;32m     39\u001b[0m   dp \u001b[38;5;241m=\u001b[39m \u001b[38;5;28mself\u001b[39m\u001b[38;5;241m.\u001b[39mdp\n\u001b[1;32m---> 40\u001b[0m   result, inffunc \u001b[38;5;241m=\u001b[39m \u001b[43mcompute_att_gt\u001b[49m\u001b[43m(\u001b[49m\u001b[43mdp\u001b[49m\u001b[43m,\u001b[49m\u001b[43m \u001b[49m\u001b[43mest_method\u001b[49m\u001b[43m \u001b[49m\u001b[38;5;241;43m=\u001b[39;49m\u001b[43m \u001b[49m\u001b[43mest_method\u001b[49m\u001b[43m,\u001b[49m\u001b[43m \u001b[49m\u001b[43mbase_period\u001b[49m\u001b[43m \u001b[49m\u001b[38;5;241;43m=\u001b[39;49m\u001b[43m \u001b[49m\u001b[43mbase_period\u001b[49m\u001b[43m)\u001b[49m\n\u001b[0;32m     41\u001b[0m   att \u001b[38;5;241m=\u001b[39m result[\u001b[38;5;124m'\u001b[39m\u001b[38;5;124matt\u001b[39m\u001b[38;5;124m'\u001b[39m]\n\u001b[0;32m     42\u001b[0m   n_len \u001b[38;5;241m=\u001b[39m \u001b[38;5;28mlist\u001b[39m(\u001b[38;5;28mmap\u001b[39m(\u001b[38;5;28mlen\u001b[39m, inffunc))\n",
      "File \u001b[1;32m~\\AppData\\Roaming\\Python\\Python311\\site-packages\\csdid\\attgt_fnc\\compute_att_gt.py:83\u001b[0m, in \u001b[0;36mcompute_att_gt\u001b[1;34m(dp, est_method, base_period)\u001b[0m\n\u001b[0;32m     81\u001b[0m n1 \u001b[38;5;241m=\u001b[39m data[gname] \u001b[38;5;241m==\u001b[39m \u001b[38;5;241m0\u001b[39m\n\u001b[0;32m     82\u001b[0m n2 \u001b[38;5;241m=\u001b[39m (data[gname] \u001b[38;5;241m>\u001b[39m (tlist[np\u001b[38;5;241m.\u001b[39mmax([t_i, pret]) \u001b[38;5;241m+\u001b[39m tfac]) \u001b[38;5;241m+\u001b[39m anticipation)\n\u001b[1;32m---> 83\u001b[0m n3 \u001b[38;5;241m=\u001b[39m np\u001b[38;5;241m.\u001b[39mwhere(data[gname] \u001b[38;5;241m!=\u001b[39m \u001b[43mglist\u001b[49m\u001b[43m[\u001b[49m\u001b[43mg\u001b[49m\u001b[43m]\u001b[49m, \u001b[38;5;28;01mTrue\u001b[39;00m, \u001b[38;5;28;01mFalse\u001b[39;00m)\n\u001b[0;32m     84\u001b[0m row_eval \u001b[38;5;241m=\u001b[39m n1 \u001b[38;5;241m|\u001b[39m n2 \u001b[38;5;241m&\u001b[39m n3\n\u001b[0;32m     85\u001b[0m data \u001b[38;5;241m=\u001b[39m data\u001b[38;5;241m.\u001b[39massign(C \u001b[38;5;241m=\u001b[39m \u001b[38;5;241m1\u001b[39m \u001b[38;5;241m*\u001b[39m row_eval)\n",
      "\u001b[1;31mIndexError\u001b[0m: index 3 is out of bounds for axis 0 with size 3"
     ]
    }
   ],
   "source": [
    "attgt = ATTgt(\n",
    "    yname=\"Y\",\n",
    "    tname=\"period\",\n",
    "    idname=\"id\",\n",
    "    gname=\"G\",\n",
    "    xformla=\"Y~X\",\n",
    "    control_group = \"notyettreated\",\n",
    "    data=data\n",
    ")\n",
    "\n",
    "attgt.fit()"
   ]
  }
 ],
 "metadata": {
  "kernelspec": {
   "display_name": "Python 3",
   "language": "python",
   "name": "python3"
  },
  "language_info": {
   "codemirror_mode": {
    "name": "ipython",
    "version": 3
   },
   "file_extension": ".py",
   "mimetype": "text/x-python",
   "name": "python",
   "nbconvert_exporter": "python",
   "pygments_lexer": "ipython3",
   "version": "3.11.9"
  }
 },
 "nbformat": 4,
 "nbformat_minor": 2
}
