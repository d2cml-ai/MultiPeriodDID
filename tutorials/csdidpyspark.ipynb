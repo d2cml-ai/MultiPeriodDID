{
 "cells": [
  {
   "cell_type": "markdown",
   "id": "775e6ebb-efe0-48ae-a77a-a87b473272d9",
   "metadata": {},
   "source": [
    "# CSDID usage Tutorial\n",
    "\n",
    "## Example 1: Base\n",
    "\n",
    "### Initialization"
   ]
  },
  {
   "cell_type": "code",
   "execution_count": 1,
   "id": "1dc17930-fa1e-4666-b591-3c5518a23f96",
   "metadata": {},
   "outputs": [
    {
     "data": {
      "text/html": [
       "<div>\n",
       "<style scoped>\n",
       "    .dataframe tbody tr th:only-of-type {\n",
       "        vertical-align: middle;\n",
       "    }\n",
       "\n",
       "    .dataframe tbody tr th {\n",
       "        vertical-align: top;\n",
       "    }\n",
       "\n",
       "    .dataframe thead th {\n",
       "        text-align: right;\n",
       "    }\n",
       "</style>\n",
       "<table border=\"1\" class=\"dataframe\">\n",
       "  <thead>\n",
       "    <tr style=\"text-align: right;\">\n",
       "      <th></th>\n",
       "      <th>year</th>\n",
       "      <th>countyreal</th>\n",
       "      <th>lpop</th>\n",
       "      <th>lemp</th>\n",
       "      <th>first.treat</th>\n",
       "      <th>treat</th>\n",
       "    </tr>\n",
       "  </thead>\n",
       "  <tbody>\n",
       "    <tr>\n",
       "      <th>0</th>\n",
       "      <td>2003</td>\n",
       "      <td>8001</td>\n",
       "      <td>5.896761</td>\n",
       "      <td>8.461469</td>\n",
       "      <td>2007</td>\n",
       "      <td>1</td>\n",
       "    </tr>\n",
       "    <tr>\n",
       "      <th>1</th>\n",
       "      <td>2004</td>\n",
       "      <td>8001</td>\n",
       "      <td>5.896761</td>\n",
       "      <td>8.336870</td>\n",
       "      <td>2007</td>\n",
       "      <td>1</td>\n",
       "    </tr>\n",
       "    <tr>\n",
       "      <th>2</th>\n",
       "      <td>2005</td>\n",
       "      <td>8001</td>\n",
       "      <td>5.896761</td>\n",
       "      <td>8.340217</td>\n",
       "      <td>2007</td>\n",
       "      <td>1</td>\n",
       "    </tr>\n",
       "    <tr>\n",
       "      <th>3</th>\n",
       "      <td>2006</td>\n",
       "      <td>8001</td>\n",
       "      <td>5.896761</td>\n",
       "      <td>8.378161</td>\n",
       "      <td>2007</td>\n",
       "      <td>1</td>\n",
       "    </tr>\n",
       "    <tr>\n",
       "      <th>4</th>\n",
       "      <td>2007</td>\n",
       "      <td>8001</td>\n",
       "      <td>5.896761</td>\n",
       "      <td>8.487352</td>\n",
       "      <td>2007</td>\n",
       "      <td>1</td>\n",
       "    </tr>\n",
       "  </tbody>\n",
       "</table>\n",
       "</div>"
      ],
      "text/plain": [
       "   year  countyreal      lpop      lemp  first.treat  treat\n",
       "0  2003        8001  5.896761  8.461469         2007      1\n",
       "1  2004        8001  5.896761  8.336870         2007      1\n",
       "2  2005        8001  5.896761  8.340217         2007      1\n",
       "3  2006        8001  5.896761  8.378161         2007      1\n",
       "4  2007        8001  5.896761  8.487352         2007      1"
      ]
     },
     "execution_count": 1,
     "metadata": {},
     "output_type": "execute_result"
    }
   ],
   "source": [
    "from csdid.att_gt import ATTgt\n",
    "import pandas as pd\n",
    "data = pd.read_csv(\"https://raw.githubusercontent.com/d2cml-ai/csdid/function-aggte/data/mpdta.csv\")\n",
    "data.head()"
   ]
  },
  {
   "cell_type": "code",
   "execution_count": 2,
   "id": "26372b03-da18-424b-8a47-3842a3f14c44",
   "metadata": {},
   "outputs": [
    {
     "data": {
      "text/plain": [
       "pandas.core.frame.DataFrame"
      ]
     },
     "execution_count": 2,
     "metadata": {},
     "output_type": "execute_result"
    }
   ],
   "source": [
    "type(data)"
   ]
  },
  {
   "cell_type": "markdown",
   "id": "eee5578b-0aa2-456d-bf1c-8de92dd0fadd",
   "metadata": {},
   "source": [
    "### Estimation"
   ]
  },
  {
   "cell_type": "code",
   "execution_count": 3,
   "id": "118e23af-d877-41a0-8f69-2e2439ab142a",
   "metadata": {},
   "outputs": [
    {
     "name": "stdout",
     "output_type": "stream",
     "text": [
      "CPU times: total: 156 ms\n",
      "Wall time: 159 ms\n"
     ]
    },
    {
     "data": {
      "text/html": [
       "<div>\n",
       "<style scoped>\n",
       "    .dataframe tbody tr th:only-of-type {\n",
       "        vertical-align: middle;\n",
       "    }\n",
       "\n",
       "    .dataframe tbody tr th {\n",
       "        vertical-align: top;\n",
       "    }\n",
       "\n",
       "    .dataframe thead th {\n",
       "        text-align: right;\n",
       "    }\n",
       "</style>\n",
       "<table border=\"1\" class=\"dataframe\">\n",
       "  <thead>\n",
       "    <tr style=\"text-align: right;\">\n",
       "      <th></th>\n",
       "      <th>Group</th>\n",
       "      <th>Time</th>\n",
       "      <th>ATT(g, t)</th>\n",
       "      <th>Post</th>\n",
       "      <th>Std. Error</th>\n",
       "      <th>[95% Pointwise</th>\n",
       "      <th>Conf. Band]</th>\n",
       "      <th></th>\n",
       "    </tr>\n",
       "  </thead>\n",
       "  <tbody>\n",
       "    <tr>\n",
       "      <th>0</th>\n",
       "      <td>2004</td>\n",
       "      <td>2004</td>\n",
       "      <td>-0.0105</td>\n",
       "      <td>1</td>\n",
       "      <td>0.0346</td>\n",
       "      <td>-0.1000</td>\n",
       "      <td>0.0790</td>\n",
       "      <td></td>\n",
       "    </tr>\n",
       "    <tr>\n",
       "      <th>1</th>\n",
       "      <td>2004</td>\n",
       "      <td>2005</td>\n",
       "      <td>-0.0704</td>\n",
       "      <td>1</td>\n",
       "      <td>0.0439</td>\n",
       "      <td>-0.1838</td>\n",
       "      <td>0.0429</td>\n",
       "      <td></td>\n",
       "    </tr>\n",
       "    <tr>\n",
       "      <th>2</th>\n",
       "      <td>2004</td>\n",
       "      <td>2006</td>\n",
       "      <td>-0.1373</td>\n",
       "      <td>1</td>\n",
       "      <td>0.0538</td>\n",
       "      <td>-0.2763</td>\n",
       "      <td>0.0018</td>\n",
       "      <td></td>\n",
       "    </tr>\n",
       "    <tr>\n",
       "      <th>3</th>\n",
       "      <td>2004</td>\n",
       "      <td>2007</td>\n",
       "      <td>-0.1008</td>\n",
       "      <td>1</td>\n",
       "      <td>0.0454</td>\n",
       "      <td>-0.2181</td>\n",
       "      <td>0.0165</td>\n",
       "      <td></td>\n",
       "    </tr>\n",
       "    <tr>\n",
       "      <th>4</th>\n",
       "      <td>2006</td>\n",
       "      <td>2004</td>\n",
       "      <td>0.0065</td>\n",
       "      <td>0</td>\n",
       "      <td>0.0348</td>\n",
       "      <td>-0.0834</td>\n",
       "      <td>0.0965</td>\n",
       "      <td></td>\n",
       "    </tr>\n",
       "    <tr>\n",
       "      <th>5</th>\n",
       "      <td>2006</td>\n",
       "      <td>2005</td>\n",
       "      <td>-0.0028</td>\n",
       "      <td>0</td>\n",
       "      <td>0.0267</td>\n",
       "      <td>-0.0717</td>\n",
       "      <td>0.0662</td>\n",
       "      <td></td>\n",
       "    </tr>\n",
       "    <tr>\n",
       "      <th>6</th>\n",
       "      <td>2006</td>\n",
       "      <td>2006</td>\n",
       "      <td>-0.0046</td>\n",
       "      <td>1</td>\n",
       "      <td>0.0253</td>\n",
       "      <td>-0.0700</td>\n",
       "      <td>0.0608</td>\n",
       "      <td></td>\n",
       "    </tr>\n",
       "    <tr>\n",
       "      <th>7</th>\n",
       "      <td>2006</td>\n",
       "      <td>2007</td>\n",
       "      <td>-0.0412</td>\n",
       "      <td>1</td>\n",
       "      <td>0.0295</td>\n",
       "      <td>-0.1174</td>\n",
       "      <td>0.0350</td>\n",
       "      <td></td>\n",
       "    </tr>\n",
       "    <tr>\n",
       "      <th>8</th>\n",
       "      <td>2007</td>\n",
       "      <td>2004</td>\n",
       "      <td>0.0305</td>\n",
       "      <td>0</td>\n",
       "      <td>0.0276</td>\n",
       "      <td>-0.0409</td>\n",
       "      <td>0.1019</td>\n",
       "      <td></td>\n",
       "    </tr>\n",
       "    <tr>\n",
       "      <th>9</th>\n",
       "      <td>2007</td>\n",
       "      <td>2005</td>\n",
       "      <td>-0.0027</td>\n",
       "      <td>0</td>\n",
       "      <td>0.0301</td>\n",
       "      <td>-0.0805</td>\n",
       "      <td>0.0750</td>\n",
       "      <td></td>\n",
       "    </tr>\n",
       "    <tr>\n",
       "      <th>10</th>\n",
       "      <td>2007</td>\n",
       "      <td>2006</td>\n",
       "      <td>-0.0311</td>\n",
       "      <td>0</td>\n",
       "      <td>0.0327</td>\n",
       "      <td>-0.1155</td>\n",
       "      <td>0.0533</td>\n",
       "      <td></td>\n",
       "    </tr>\n",
       "    <tr>\n",
       "      <th>11</th>\n",
       "      <td>2007</td>\n",
       "      <td>2007</td>\n",
       "      <td>-0.0261</td>\n",
       "      <td>1</td>\n",
       "      <td>0.0315</td>\n",
       "      <td>-0.1075</td>\n",
       "      <td>0.0553</td>\n",
       "      <td></td>\n",
       "    </tr>\n",
       "  </tbody>\n",
       "</table>\n",
       "</div>"
      ],
      "text/plain": [
       "    Group  Time  ATT(g, t)  Post  Std. Error  [95% Pointwise  Conf. Band]  \n",
       "0    2004  2004    -0.0105     1      0.0346         -0.1000       0.0790  \n",
       "1    2004  2005    -0.0704     1      0.0439         -0.1838       0.0429  \n",
       "2    2004  2006    -0.1373     1      0.0538         -0.2763       0.0018  \n",
       "3    2004  2007    -0.1008     1      0.0454         -0.2181       0.0165  \n",
       "4    2006  2004     0.0065     0      0.0348         -0.0834       0.0965  \n",
       "5    2006  2005    -0.0028     0      0.0267         -0.0717       0.0662  \n",
       "6    2006  2006    -0.0046     1      0.0253         -0.0700       0.0608  \n",
       "7    2006  2007    -0.0412     1      0.0295         -0.1174       0.0350  \n",
       "8    2007  2004     0.0305     0      0.0276         -0.0409       0.1019  \n",
       "9    2007  2005    -0.0027     0      0.0301         -0.0805       0.0750  \n",
       "10   2007  2006    -0.0311     0      0.0327         -0.1155       0.0533  \n",
       "11   2007  2007    -0.0261     1      0.0315         -0.1075       0.0553  "
      ]
     },
     "execution_count": 3,
     "metadata": {},
     "output_type": "execute_result"
    }
   ],
   "source": [
    "%%time\n",
    "out = ATTgt(yname = \"lemp\",\n",
    "              gname = \"first.treat\",\n",
    "              idname = \"countyreal\",\n",
    "              tname = \"year\",\n",
    "              xformla = f\"lemp~1\",\n",
    "              data = data,\n",
    "              ).fit(est_method = 'dr')\n",
    "out.summ_attgt().summary2"
   ]
  },
  {
   "cell_type": "markdown",
   "id": "e00b37b0-c3f2-441e-8b05-0525a53494ab",
   "metadata": {},
   "source": [
    "### Agregation"
   ]
  },
  {
   "cell_type": "code",
   "execution_count": 4,
   "id": "2e8d9720-5e82-42e0-bb80-7cf3e1d503f6",
   "metadata": {},
   "outputs": [
    {
     "name": "stdout",
     "output_type": "stream",
     "text": [
      "\n",
      "\n",
      "Overall summary of ATT's based on calendar time aggregation:\n",
      "    ATT Std. Error  [95.0%  Conf. Int.] \n",
      "-0.0417     0.0223 -0.0855       0.0021 \n",
      "\n",
      "\n",
      "Time Effects (calendar):\n",
      "   Time  Estimate  Std. Error  [95.0% Simult.   Conf. Band  \n",
      "0  2004   -0.0105      0.0328          -0.0749      0.0539  \n",
      "1  2005   -0.0704      0.0414          -0.1515      0.0106  \n",
      "2  2006   -0.0488      0.0276          -0.1029      0.0053  \n",
      "3  2007   -0.0371      0.0238          -0.0837      0.0096  \n",
      "---\n",
      "Signif. codes: `*' confidence band does not cover 0\n",
      "Control Group:  Never Treated , \n",
      "Anticipation Periods:  0\n",
      "Estimation Method:  Doubly Robust\n",
      "\n",
      "\n"
     ]
    }
   ],
   "source": [
    "\n",
    "out.aggte(typec='calendar');"
   ]
  },
  {
   "cell_type": "markdown",
   "id": "8a73f389-fbba-4740-b233-bbdb702e5193",
   "metadata": {},
   "source": [
    "### Plots"
   ]
  },
  {
   "cell_type": "code",
   "execution_count": 5,
   "id": "db9d120e-e9aa-4878-9041-f95aa112a879",
   "metadata": {},
   "outputs": [
    {
     "data": {
      "image/png": "[encoded data removed]",
      "text/plain": [
       "<Figure size 1000x500 with 3 Axes>"
      ]
     },
     "metadata": {},
     "output_type": "display_data"
    }
   ],
   "source": [
    "out.plot_attgt();"
   ]
  },
  {
   "cell_type": "code",
   "execution_count": 6,
   "id": "1ca12c4c-f39f-41d7-a675-71ab503de37e",
   "metadata": {},
   "outputs": [
    {
     "data": {
      "image/png": "[encoded data removed]",
      "text/plain": [
       "<Figure size 1000x500 with 1 Axes>"
      ]
     },
     "metadata": {},
     "output_type": "display_data"
    }
   ],
   "source": [
    "out.plot_aggte();"
   ]
  },
  {
   "cell_type": "markdown",
   "id": "6bb316fb-a843-4602-a140-eb5c278a0bf7",
   "metadata": {},
   "source": [
    "## Example 2: With PySpark (Pandas API) \n",
    "### Initialization"
   ]
  },
  {
   "cell_type": "code",
   "execution_count": 7,
   "id": "5d817bdc-3d70-43ff-ae2f-05c10442a3ba",
   "metadata": {},
   "outputs": [],
   "source": [
    "import findspark\n",
    "from pyspark.sql import SparkSession\n",
    "findspark.init()"
   ]
  },
  {
   "cell_type": "code",
   "execution_count": 8,
   "id": "95498d23-48c0-40e3-9cab-d1e15b495af4",
   "metadata": {},
   "outputs": [
    {
     "name": "stderr",
     "output_type": "stream",
     "text": [
      "c:\\users\\jhon\\appdata\\roaming\\pypoetry\\venv\\lib\\site-packages\\pyspark\\pandas\\__init__.py:50: UserWarning: 'PYARROW_IGNORE_TIMEZONE' environment variable was not set. It is required to set this environment variable to '1' in both driver and executor sides if you use pyarrow>=2.0.0. pandas-on-Spark will set it for you but it does not work if there is a Spark context already launched.\n",
      "  warnings.warn(\n"
     ]
    }
   ],
   "source": [
    "from csdid.att_gt import ATTgt\n",
    "import pandas as pd\n",
    "import pandas as pd\n",
    "import numpy as np\n",
    "import pyspark.pandas as ps\n",
    "import warnings\n",
    "warnings.filterwarnings('ignore')\n",
    "from pyspark.sql import SparkSession\n",
    "data = pd.read_csv(\"https://raw.githubusercontent.com/d2cml-ai/csdid/function-aggte/data/mpdta.csv\")"
   ]
  },
  {
   "cell_type": "code",
   "execution_count": 9,
   "id": "c68ca6b2-7075-4ffb-8935-c0e9913cb701",
   "metadata": {},
   "outputs": [
    {
     "data": {
      "text/html": [
       "<div>\n",
       "<style scoped>\n",
       "    .dataframe tbody tr th:only-of-type {\n",
       "        vertical-align: middle;\n",
       "    }\n",
       "\n",
       "    .dataframe tbody tr th {\n",
       "        vertical-align: top;\n",
       "    }\n",
       "\n",
       "    .dataframe thead th {\n",
       "        text-align: right;\n",
       "    }\n",
       "</style>\n",
       "<table border=\"1\" class=\"dataframe\">\n",
       "  <thead>\n",
       "    <tr style=\"text-align: right;\">\n",
       "      <th></th>\n",
       "      <th>year</th>\n",
       "      <th>countyreal</th>\n",
       "      <th>lpop</th>\n",
       "      <th>lemp</th>\n",
       "      <th>first.treat</th>\n",
       "      <th>treat</th>\n",
       "    </tr>\n",
       "  </thead>\n",
       "  <tbody>\n",
       "    <tr>\n",
       "      <th>0</th>\n",
       "      <td>2003</td>\n",
       "      <td>8001</td>\n",
       "      <td>5.896761</td>\n",
       "      <td>8.461469</td>\n",
       "      <td>2007</td>\n",
       "      <td>1</td>\n",
       "    </tr>\n",
       "    <tr>\n",
       "      <th>1</th>\n",
       "      <td>2004</td>\n",
       "      <td>8001</td>\n",
       "      <td>5.896761</td>\n",
       "      <td>8.336870</td>\n",
       "      <td>2007</td>\n",
       "      <td>1</td>\n",
       "    </tr>\n",
       "    <tr>\n",
       "      <th>2</th>\n",
       "      <td>2005</td>\n",
       "      <td>8001</td>\n",
       "      <td>5.896761</td>\n",
       "      <td>8.340217</td>\n",
       "      <td>2007</td>\n",
       "      <td>1</td>\n",
       "    </tr>\n",
       "    <tr>\n",
       "      <th>3</th>\n",
       "      <td>2006</td>\n",
       "      <td>8001</td>\n",
       "      <td>5.896761</td>\n",
       "      <td>8.378161</td>\n",
       "      <td>2007</td>\n",
       "      <td>1</td>\n",
       "    </tr>\n",
       "    <tr>\n",
       "      <th>4</th>\n",
       "      <td>2007</td>\n",
       "      <td>8001</td>\n",
       "      <td>5.896761</td>\n",
       "      <td>8.487352</td>\n",
       "      <td>2007</td>\n",
       "      <td>1</td>\n",
       "    </tr>\n",
       "  </tbody>\n",
       "</table>\n",
       "</div>"
      ],
      "text/plain": [
       "   year  countyreal      lpop      lemp  first.treat  treat\n",
       "0  2003        8001  5.896761  8.461469         2007      1\n",
       "1  2004        8001  5.896761  8.336870         2007      1\n",
       "2  2005        8001  5.896761  8.340217         2007      1\n",
       "3  2006        8001  5.896761  8.378161         2007      1\n",
       "4  2007        8001  5.896761  8.487352         2007      1"
      ]
     },
     "execution_count": 9,
     "metadata": {},
     "output_type": "execute_result"
    }
   ],
   "source": [
    "data.head()"
   ]
  },
  {
   "cell_type": "code",
   "execution_count": 10,
   "id": "d35375cc-3f6e-471f-8a54-22fe5ea6f6db",
   "metadata": {},
   "outputs": [
    {
     "name": "stdout",
     "output_type": "stream",
     "text": [
      "CPU times: total: 15.6 ms\n",
      "Wall time: 4.22 s\n"
     ]
    },
    {
     "data": {
      "text/html": [
       "<div>\n",
       "<style scoped>\n",
       "    .dataframe tbody tr th:only-of-type {\n",
       "        vertical-align: middle;\n",
       "    }\n",
       "\n",
       "    .dataframe tbody tr th {\n",
       "        vertical-align: top;\n",
       "    }\n",
       "\n",
       "    .dataframe thead th {\n",
       "        text-align: right;\n",
       "    }\n",
       "</style>\n",
       "<table border=\"1\" class=\"dataframe\">\n",
       "  <thead>\n",
       "    <tr style=\"text-align: right;\">\n",
       "      <th></th>\n",
       "      <th>year</th>\n",
       "      <th>countyreal</th>\n",
       "      <th>lpop</th>\n",
       "      <th>lemp</th>\n",
       "      <th>first.treat</th>\n",
       "      <th>treat</th>\n",
       "    </tr>\n",
       "  </thead>\n",
       "  <tbody>\n",
       "    <tr>\n",
       "      <th>0</th>\n",
       "      <td>2003</td>\n",
       "      <td>8001</td>\n",
       "      <td>5.896761</td>\n",
       "      <td>8.461469</td>\n",
       "      <td>2007</td>\n",
       "      <td>1</td>\n",
       "    </tr>\n",
       "    <tr>\n",
       "      <th>1</th>\n",
       "      <td>2004</td>\n",
       "      <td>8001</td>\n",
       "      <td>5.896761</td>\n",
       "      <td>8.336870</td>\n",
       "      <td>2007</td>\n",
       "      <td>1</td>\n",
       "    </tr>\n",
       "    <tr>\n",
       "      <th>2</th>\n",
       "      <td>2005</td>\n",
       "      <td>8001</td>\n",
       "      <td>5.896761</td>\n",
       "      <td>8.340217</td>\n",
       "      <td>2007</td>\n",
       "      <td>1</td>\n",
       "    </tr>\n",
       "    <tr>\n",
       "      <th>3</th>\n",
       "      <td>2006</td>\n",
       "      <td>8001</td>\n",
       "      <td>5.896761</td>\n",
       "      <td>8.378161</td>\n",
       "      <td>2007</td>\n",
       "      <td>1</td>\n",
       "    </tr>\n",
       "    <tr>\n",
       "      <th>4</th>\n",
       "      <td>2007</td>\n",
       "      <td>8001</td>\n",
       "      <td>5.896761</td>\n",
       "      <td>8.487352</td>\n",
       "      <td>2007</td>\n",
       "      <td>1</td>\n",
       "    </tr>\n",
       "  </tbody>\n",
       "</table>\n",
       "</div>"
      ],
      "text/plain": [
       "   year  countyreal      lpop      lemp  first.treat  treat\n",
       "0  2003        8001  5.896761  8.461469         2007      1\n",
       "1  2004        8001  5.896761  8.336870         2007      1\n",
       "2  2005        8001  5.896761  8.340217         2007      1\n",
       "3  2006        8001  5.896761  8.378161         2007      1\n",
       "4  2007        8001  5.896761  8.487352         2007      1"
      ]
     },
     "execution_count": 10,
     "metadata": {},
     "output_type": "execute_result"
    }
   ],
   "source": [
    "%%time\n",
    "psdata = ps.DataFrame(data)\n",
    "psdata.head()"
   ]
  },
  {
   "cell_type": "markdown",
   "id": "d00b4d46-97a8-41f0-902c-55b19e10c752",
   "metadata": {},
   "source": [
    "### Estimation"
   ]
  },
  {
   "cell_type": "code",
   "execution_count": 11,
   "id": "fae0b2ef-6b8f-4a0f-b1e0-e28714c4bd7d",
   "metadata": {},
   "outputs": [
    {
     "name": "stdout",
     "output_type": "stream",
     "text": [
      "CPU times: total: 141 ms\n",
      "Wall time: 148 ms\n"
     ]
    },
    {
     "data": {
      "text/html": [
       "<div>\n",
       "<style scoped>\n",
       "    .dataframe tbody tr th:only-of-type {\n",
       "        vertical-align: middle;\n",
       "    }\n",
       "\n",
       "    .dataframe tbody tr th {\n",
       "        vertical-align: top;\n",
       "    }\n",
       "\n",
       "    .dataframe thead th {\n",
       "        text-align: right;\n",
       "    }\n",
       "</style>\n",
       "<table border=\"1\" class=\"dataframe\">\n",
       "  <thead>\n",
       "    <tr style=\"text-align: right;\">\n",
       "      <th></th>\n",
       "      <th>Group</th>\n",
       "      <th>Time</th>\n",
       "      <th>ATT(g, t)</th>\n",
       "      <th>Post</th>\n",
       "      <th>Std. Error</th>\n",
       "      <th>[95% Pointwise</th>\n",
       "      <th>Conf. Band]</th>\n",
       "      <th></th>\n",
       "    </tr>\n",
       "  </thead>\n",
       "  <tbody>\n",
       "    <tr>\n",
       "      <th>0</th>\n",
       "      <td>2004</td>\n",
       "      <td>2004</td>\n",
       "      <td>-0.0105</td>\n",
       "      <td>1</td>\n",
       "      <td>0.0337</td>\n",
       "      <td>-0.0998</td>\n",
       "      <td>0.0788</td>\n",
       "      <td></td>\n",
       "    </tr>\n",
       "    <tr>\n",
       "      <th>1</th>\n",
       "      <td>2004</td>\n",
       "      <td>2005</td>\n",
       "      <td>-0.0704</td>\n",
       "      <td>1</td>\n",
       "      <td>0.0443</td>\n",
       "      <td>-0.1880</td>\n",
       "      <td>0.0472</td>\n",
       "      <td></td>\n",
       "    </tr>\n",
       "    <tr>\n",
       "      <th>2</th>\n",
       "      <td>2004</td>\n",
       "      <td>2006</td>\n",
       "      <td>-0.1373</td>\n",
       "      <td>1</td>\n",
       "      <td>0.0519</td>\n",
       "      <td>-0.2751</td>\n",
       "      <td>0.0006</td>\n",
       "      <td></td>\n",
       "    </tr>\n",
       "    <tr>\n",
       "      <th>3</th>\n",
       "      <td>2004</td>\n",
       "      <td>2007</td>\n",
       "      <td>-0.1008</td>\n",
       "      <td>1</td>\n",
       "      <td>0.0453</td>\n",
       "      <td>-0.2210</td>\n",
       "      <td>0.0194</td>\n",
       "      <td></td>\n",
       "    </tr>\n",
       "    <tr>\n",
       "      <th>4</th>\n",
       "      <td>2006</td>\n",
       "      <td>2004</td>\n",
       "      <td>0.0065</td>\n",
       "      <td>0</td>\n",
       "      <td>0.0338</td>\n",
       "      <td>-0.0831</td>\n",
       "      <td>0.0962</td>\n",
       "      <td></td>\n",
       "    </tr>\n",
       "    <tr>\n",
       "      <th>5</th>\n",
       "      <td>2006</td>\n",
       "      <td>2005</td>\n",
       "      <td>-0.0028</td>\n",
       "      <td>0</td>\n",
       "      <td>0.0270</td>\n",
       "      <td>-0.0745</td>\n",
       "      <td>0.0690</td>\n",
       "      <td></td>\n",
       "    </tr>\n",
       "    <tr>\n",
       "      <th>6</th>\n",
       "      <td>2006</td>\n",
       "      <td>2006</td>\n",
       "      <td>-0.0046</td>\n",
       "      <td>1</td>\n",
       "      <td>0.0228</td>\n",
       "      <td>-0.0650</td>\n",
       "      <td>0.0558</td>\n",
       "      <td></td>\n",
       "    </tr>\n",
       "    <tr>\n",
       "      <th>7</th>\n",
       "      <td>2006</td>\n",
       "      <td>2007</td>\n",
       "      <td>-0.0412</td>\n",
       "      <td>1</td>\n",
       "      <td>0.0277</td>\n",
       "      <td>-0.1147</td>\n",
       "      <td>0.0323</td>\n",
       "      <td></td>\n",
       "    </tr>\n",
       "    <tr>\n",
       "      <th>8</th>\n",
       "      <td>2007</td>\n",
       "      <td>2004</td>\n",
       "      <td>0.0305</td>\n",
       "      <td>0</td>\n",
       "      <td>0.0280</td>\n",
       "      <td>-0.0437</td>\n",
       "      <td>0.1048</td>\n",
       "      <td></td>\n",
       "    </tr>\n",
       "    <tr>\n",
       "      <th>9</th>\n",
       "      <td>2007</td>\n",
       "      <td>2005</td>\n",
       "      <td>-0.0027</td>\n",
       "      <td>0</td>\n",
       "      <td>0.0274</td>\n",
       "      <td>-0.0753</td>\n",
       "      <td>0.0699</td>\n",
       "      <td></td>\n",
       "    </tr>\n",
       "    <tr>\n",
       "      <th>10</th>\n",
       "      <td>2007</td>\n",
       "      <td>2006</td>\n",
       "      <td>-0.0311</td>\n",
       "      <td>0</td>\n",
       "      <td>0.0327</td>\n",
       "      <td>-0.1179</td>\n",
       "      <td>0.0557</td>\n",
       "      <td></td>\n",
       "    </tr>\n",
       "    <tr>\n",
       "      <th>11</th>\n",
       "      <td>2007</td>\n",
       "      <td>2007</td>\n",
       "      <td>-0.0261</td>\n",
       "      <td>1</td>\n",
       "      <td>0.0282</td>\n",
       "      <td>-0.1010</td>\n",
       "      <td>0.0489</td>\n",
       "      <td></td>\n",
       "    </tr>\n",
       "  </tbody>\n",
       "</table>\n",
       "</div>"
      ],
      "text/plain": [
       "    Group  Time  ATT(g, t)  Post  Std. Error  [95% Pointwise  Conf. Band]  \n",
       "0    2004  2004    -0.0105     1      0.0337         -0.0998       0.0788  \n",
       "1    2004  2005    -0.0704     1      0.0443         -0.1880       0.0472  \n",
       "2    2004  2006    -0.1373     1      0.0519         -0.2751       0.0006  \n",
       "3    2004  2007    -0.1008     1      0.0453         -0.2210       0.0194  \n",
       "4    2006  2004     0.0065     0      0.0338         -0.0831       0.0962  \n",
       "5    2006  2005    -0.0028     0      0.0270         -0.0745       0.0690  \n",
       "6    2006  2006    -0.0046     1      0.0228         -0.0650       0.0558  \n",
       "7    2006  2007    -0.0412     1      0.0277         -0.1147       0.0323  \n",
       "8    2007  2004     0.0305     0      0.0280         -0.0437       0.1048  \n",
       "9    2007  2005    -0.0027     0      0.0274         -0.0753       0.0699  \n",
       "10   2007  2006    -0.0311     0      0.0327         -0.1179       0.0557  \n",
       "11   2007  2007    -0.0261     1      0.0282         -0.1010       0.0489  "
      ]
     },
     "execution_count": 11,
     "metadata": {},
     "output_type": "execute_result"
    }
   ],
   "source": [
    "%%time\n",
    "out = ATTgt(yname = \"lemp\",\n",
    "              gname = \"first.treat\",\n",
    "              idname = \"countyreal\",\n",
    "              tname = \"year\",\n",
    "              data = data,\n",
    "              ).fit(est_method = 'dr', bstrap = True);\n",
    "out.summ_attgt().summary2\n"
   ]
  },
  {
   "cell_type": "markdown",
   "id": "7e0aab1a-e101-4f80-8c57-b6ce0b9ef45c",
   "metadata": {},
   "source": [
    "### Agregation"
   ]
  },
  {
   "cell_type": "code",
   "execution_count": 12,
   "id": "b66ee75c-5301-4944-9a91-502eb8d65f41",
   "metadata": {},
   "outputs": [
    {
     "name": "stdout",
     "output_type": "stream",
     "text": [
      "\n",
      "\n",
      "Overall summary of ATT's based on calendar time aggregation:\n",
      "    ATT Std. Error  [95.0%  Conf. Int.] \n",
      "-0.0417     0.0243 -0.0894        0.006 \n",
      "\n",
      "\n",
      "Time Effects (calendar):\n",
      "   Time  Estimate  Std. Error  [95.0% Simult.   Conf. Band  \n",
      "0  2004   -0.0105      0.0318          -0.0728      0.0518  \n",
      "1  2005   -0.0704      0.0437          -0.1561      0.0152  \n",
      "2  2006   -0.0488      0.0268          -0.1014      0.0037  \n",
      "3  2007   -0.0371      0.0234          -0.0829      0.0088  \n",
      "---\n",
      "Signif. codes: `*' confidence band does not cover 0\n",
      "Control Group:  Never Treated , \n",
      "Anticipation Periods:  0\n",
      "Estimation Method:  Doubly Robust\n",
      "\n",
      "\n",
      "CPU times: total: 141 ms\n",
      "Wall time: 128 ms\n"
     ]
    }
   ],
   "source": [
    "%%time\n",
    "out.aggte(typec='calendar');"
   ]
  },
  {
   "cell_type": "markdown",
   "id": "174a2eef-6f0a-4f1b-83ac-e2b27e28d9f2",
   "metadata": {},
   "source": [
    "### Plots"
   ]
  },
  {
   "cell_type": "code",
   "execution_count": 13,
   "id": "e3f1bf06-47c9-475c-a180-cc19dde48caf",
   "metadata": {},
   "outputs": [
    {
     "data": {
      "image/png": "[encoded data removed]",
      "text/plain": [
       "<Figure size 1000x500 with 3 Axes>"
      ]
     },
     "metadata": {},
     "output_type": "display_data"
    }
   ],
   "source": [
    "out.plot_attgt();"
   ]
  },
  {
   "cell_type": "code",
   "execution_count": 14,
   "id": "bfa56af9-4abc-4db0-9c26-e14b5e676252",
   "metadata": {},
   "outputs": [
    {
     "data": {
      "image/png": "[encoded data removed]",
      "text/plain": [
       "<Figure size 1000x500 with 1 Axes>"
      ]
     },
     "metadata": {},
     "output_type": "display_data"
    }
   ],
   "source": [
    "out.plot_aggte();"
   ]
  },
  {
   "cell_type": "markdown",
   "id": "0df80c4a-5d54-4bc1-9a83-aa5c1ba32a0d",
   "metadata": {},
   "source": [
    "# Difference"
   ]
  },
  {
   "cell_type": "markdown",
   "id": "2153f9a8-6049-4697-bc24-0e818770ea20",
   "metadata": {},
   "source": [
    "### without pyspark\n",
    "\n",
    "- CPU times: total: 156 ms\r",
    "- \n",
    "Wall time: 159 m\n",
    "### with pyspark\n",
    "- CPU times: total: 141 ms\r",
    "- \n",
    "Wall time: 148 mss"
   ]
  }
 ],
 "metadata": {
  "kernelspec": {
   "display_name": "Python 3 (ipykernel)",
   "language": "python",
   "name": "python3"
  },
  "language_info": {
   "codemirror_mode": {
    "name": "ipython",
    "version": 3
   },
   "file_extension": ".py",
   "mimetype": "text/x-python",
   "name": "python",
   "nbconvert_exporter": "python",
   "pygments_lexer": "ipython3",
   "version": "3.8.10"
  }
 },
 "nbformat": 4,
 "nbformat_minor": 5
}
