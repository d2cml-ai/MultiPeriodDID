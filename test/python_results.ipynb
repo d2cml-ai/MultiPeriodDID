{
 "cells": [
  {
   "cell_type": "code",
   "execution_count": 1,
   "metadata": {},
   "outputs": [
    {
     "data": {
      "text/html": [
       "<div>\n",
       "<style scoped>\n",
       "    .dataframe tbody tr th:only-of-type {\n",
       "        vertical-align: middle;\n",
       "    }\n",
       "\n",
       "    .dataframe tbody tr th {\n",
       "        vertical-align: top;\n",
       "    }\n",
       "\n",
       "    .dataframe thead th {\n",
       "        text-align: right;\n",
       "    }\n",
       "</style>\n",
       "<table border=\"1\" class=\"dataframe\">\n",
       "  <thead>\n",
       "    <tr style=\"text-align: right;\">\n",
       "      <th></th>\n",
       "      <th>customer_id</th>\n",
       "      <th>ttm_gms</th>\n",
       "      <th>wplus</th>\n",
       "      <th>prime</th>\n",
       "      <th>time_period</th>\n",
       "      <th>treatment</th>\n",
       "      <th>ln_gms</th>\n",
       "      <th>first.treat</th>\n",
       "      <th>cohort</th>\n",
       "      <th>customer_id_num</th>\n",
       "      <th>post</th>\n",
       "      <th>treat</th>\n",
       "    </tr>\n",
       "  </thead>\n",
       "  <tbody>\n",
       "    <tr>\n",
       "      <th>0</th>\n",
       "      <td>Pa0jpC-Dv2fTYelpx8erNpaYw</td>\n",
       "      <td>1643.55</td>\n",
       "      <td>wp_never</td>\n",
       "      <td>npa</td>\n",
       "      <td>1</td>\n",
       "      <td>0</td>\n",
       "      <td>7.404614</td>\n",
       "      <td>0</td>\n",
       "      <td>0</td>\n",
       "      <td>8681</td>\n",
       "      <td>0</td>\n",
       "      <td>0</td>\n",
       "    </tr>\n",
       "    <tr>\n",
       "      <th>1</th>\n",
       "      <td>Pa0E0tPLH1dQ6qalsrWJ8lpxA</td>\n",
       "      <td>1405.19</td>\n",
       "      <td>wp_never</td>\n",
       "      <td>npa</td>\n",
       "      <td>1</td>\n",
       "      <td>0</td>\n",
       "      <td>7.247928</td>\n",
       "      <td>0</td>\n",
       "      <td>0</td>\n",
       "      <td>5683</td>\n",
       "      <td>0</td>\n",
       "      <td>0</td>\n",
       "    </tr>\n",
       "    <tr>\n",
       "      <th>2</th>\n",
       "      <td>Pa0mRRL9DhSRqOah4yOYKMpaw</td>\n",
       "      <td>46839.30</td>\n",
       "      <td>wp_never</td>\n",
       "      <td>npa</td>\n",
       "      <td>1</td>\n",
       "      <td>0</td>\n",
       "      <td>10.754478</td>\n",
       "      <td>0</td>\n",
       "      <td>0</td>\n",
       "      <td>10307</td>\n",
       "      <td>0</td>\n",
       "      <td>0</td>\n",
       "    </tr>\n",
       "    <tr>\n",
       "      <th>3</th>\n",
       "      <td>Pa0_dznuzjsRv6GDlIw1pLTsQ</td>\n",
       "      <td>631.88</td>\n",
       "      <td>wp_never</td>\n",
       "      <td>npa</td>\n",
       "      <td>1</td>\n",
       "      <td>0</td>\n",
       "      <td>6.448700</td>\n",
       "      <td>0</td>\n",
       "      <td>0</td>\n",
       "      <td>367</td>\n",
       "      <td>0</td>\n",
       "      <td>0</td>\n",
       "    </tr>\n",
       "    <tr>\n",
       "      <th>4</th>\n",
       "      <td>Pa05HYdf_XvTb-aN6Mx2ws4iA</td>\n",
       "      <td>134.95</td>\n",
       "      <td>wp_never</td>\n",
       "      <td>npa</td>\n",
       "      <td>1</td>\n",
       "      <td>0</td>\n",
       "      <td>4.904904</td>\n",
       "      <td>0</td>\n",
       "      <td>0</td>\n",
       "      <td>2128</td>\n",
       "      <td>0</td>\n",
       "      <td>0</td>\n",
       "    </tr>\n",
       "  </tbody>\n",
       "</table>\n",
       "</div>"
      ],
      "text/plain": [
       "                 customer_id   ttm_gms     wplus prime  time_period  \\\n",
       "0  Pa0jpC-Dv2fTYelpx8erNpaYw   1643.55  wp_never   npa            1   \n",
       "1  Pa0E0tPLH1dQ6qalsrWJ8lpxA   1405.19  wp_never   npa            1   \n",
       "2  Pa0mRRL9DhSRqOah4yOYKMpaw  46839.30  wp_never   npa            1   \n",
       "3  Pa0_dznuzjsRv6GDlIw1pLTsQ    631.88  wp_never   npa            1   \n",
       "4  Pa05HYdf_XvTb-aN6Mx2ws4iA    134.95  wp_never   npa            1   \n",
       "\n",
       "   treatment     ln_gms  first.treat  cohort  customer_id_num  post  treat  \n",
       "0          0   7.404614            0       0             8681     0      0  \n",
       "1          0   7.247928            0       0             5683     0      0  \n",
       "2          0  10.754478            0       0            10307     0      0  \n",
       "3          0   6.448700            0       0              367     0      0  \n",
       "4          0   4.904904            0       0             2128     0      0  "
      ]
     },
     "execution_count": 1,
     "metadata": {},
     "output_type": "execute_result"
    }
   ],
   "source": [
    "import pandas as pd, matplotlib.pyplot as plt, numpy as np\n",
    "import statsmodels.api as sm\n",
    "lm = sm.WLS\n",
    "from csdid.att_gt import ATTgt\n",
    "df = pd.read_csv('../data/r_cohort.csv')\n",
    "r_inf = pd.read_csv('../data/r_inf.csv')\n",
    "df.head()"
   ]
  },
  {
   "cell_type": "code",
   "execution_count": 2,
   "metadata": {},
   "outputs": [],
   "source": [
    "def reg_did_panel(y1, y0, D, covariates, i_weights=None):\n",
    "    D = np.asarray(D).flatten()\n",
    "    n = len(D)\n",
    "    deltaY = np.asarray(y1 - y0).flatten()\n",
    "    int_cov = np.ones((n, 1))\n",
    "    \n",
    "    if covariates is not None:\n",
    "        covariates = np.asarray(covariates)\n",
    "        if np.all(covariates[:, 0] == 1):\n",
    "            int_cov = covariates\n",
    "        else:\n",
    "            int_cov = np.column_stack((np.ones(n), covariates))\n",
    "    \n",
    "    if i_weights is None:\n",
    "        i_weights = np.ones(n)\n",
    "    elif np.min(i_weights) < 0:\n",
    "        raise ValueError(\"i_weights must be non-negative\")\n",
    "    \n",
    "    i_weights = i_weights / np.mean(i_weights)\n",
    "    \n",
    "    mask = D == 0\n",
    "    X = int_cov[mask]\n",
    "    y = deltaY[mask]\n",
    "    w = i_weights[mask]\n",
    "    \n",
    "    # reg_coeff = np.linalg.lstsq(X * w[:, np.newaxis], y * w, rcond=None)[0]\n",
    "    reg_coeff = lm(y, X, weights=w).fit().params\n",
    "    print(reg_coeff)\n",
    "    \n",
    "    if np.any(np.isnan(reg_coeff)):\n",
    "        raise ValueError(\"Outcome regression model coefficients have NA components. \\n Multicollinearity (or lack of variation) of covariates is probably the reason for it.\")\n",
    "    \n",
    "    out_delta = np.dot(int_cov, reg_coeff)\n",
    "    w_treat = i_weights * D\n",
    "    w_cont = i_weights * (1 - D)\n",
    "    reg_att_treat = w_treat * deltaY\n",
    "    reg_att_cont = w_cont * out_delta\n",
    "    eta_treat = np.mean(reg_att_treat) / np.mean(w_treat)\n",
    "    eta_cont = np.mean(reg_att_cont) / np.mean(w_cont)\n",
    "    reg_att = eta_treat - eta_cont\n",
    "    \n",
    "    weights_ols = i_weights * (1 - D)\n",
    "    wols_x = weights_ols[:, np.newaxis] * int_cov\n",
    "    wols_eX = weights_ols[:, np.newaxis] * (deltaY - out_delta)[:, np.newaxis] * int_cov\n",
    "    XpX_inv = np.linalg.inv(np.dot(wols_x.T, int_cov) / n)\n",
    "    asy_lin_rep_ols = np.dot(wols_eX, XpX_inv)\n",
    "    \n",
    "    inf_treat = (reg_att_treat - w_treat * eta_treat) / np.mean(w_treat)\n",
    "    # print(np.sum(w_treat * eta_treat))\n",
    "    \n",
    "    inf_cont_1 = (reg_att_cont - w_cont * eta_cont)\n",
    "    M1 = np.mean(w_cont[:, np.newaxis] * int_cov, axis=0)\n",
    "    inf_cont_2 = np.dot(asy_lin_rep_ols, M1)\n",
    "    inf_control = (inf_cont_1 + inf_cont_2) / np.mean(w_cont)\n",
    "    \n",
    "    reg_att_inf_func = (inf_treat - inf_control)\n",
    "    se_reg_att = np.std(reg_att_inf_func) / np.sqrt(n)\n",
    "    \n",
    "    return reg_att, reg_att_inf_func\n"
   ]
  },
  {
   "cell_type": "code",
   "execution_count": 3,
   "metadata": {},
   "outputs": [
    {
     "name": "stdout",
     "output_type": "stream",
     "text": [
      "[-0.07668271]\n"
     ]
    },
    {
     "data": {
      "text/html": [
       "<div>\n",
       "<style scoped>\n",
       "    .dataframe tbody tr th:only-of-type {\n",
       "        vertical-align: middle;\n",
       "    }\n",
       "\n",
       "    .dataframe tbody tr th {\n",
       "        vertical-align: top;\n",
       "    }\n",
       "\n",
       "    .dataframe thead th {\n",
       "        text-align: right;\n",
       "    }\n",
       "</style>\n",
       "<table border=\"1\" class=\"dataframe\">\n",
       "  <thead>\n",
       "    <tr style=\"text-align: right;\">\n",
       "      <th></th>\n",
       "      <th>Group</th>\n",
       "      <th>Time</th>\n",
       "      <th>ATT(g, t)</th>\n",
       "      <th>Post</th>\n",
       "      <th>Std. Error</th>\n",
       "      <th>[95% Pointwise</th>\n",
       "      <th>Conf. Band]</th>\n",
       "      <th></th>\n",
       "    </tr>\n",
       "  </thead>\n",
       "  <tbody>\n",
       "    <tr>\n",
       "      <th>0</th>\n",
       "      <td>2</td>\n",
       "      <td>2</td>\n",
       "      <td>-0.0746</td>\n",
       "      <td>0</td>\n",
       "      <td>0.0316</td>\n",
       "      <td>-0.134</td>\n",
       "      <td>-0.0153</td>\n",
       "      <td>*</td>\n",
       "    </tr>\n",
       "  </tbody>\n",
       "</table>\n",
       "</div>"
      ],
      "text/plain": [
       "   Group  Time  ATT(g, t)  Post  Std. Error  [95% Pointwise  Conf. Band]   \n",
       "0      2     2    -0.0746     0      0.0316          -0.134      -0.0153  *"
      ]
     },
     "execution_count": 3,
     "metadata": {},
     "output_type": "execute_result"
    }
   ],
   "source": [
    "out = ATTgt(yname=\"ln_gms\",gname=\"first.treat\", idname=\"customer_id_num\",\n",
    "     tname=\"time_period\", data=df).fit(est_method=reg_did_panel)\n",
    "# Display the results\n",
    "out.summ_attgt().summary2"
   ]
  },
  {
   "cell_type": "code",
   "execution_count": 4,
   "metadata": {},
   "outputs": [],
   "source": [
    "inf_py = out.inf_f[0]\n",
    "# len(r_inf), len(inf_py)\n",
    "r_inf['py'] = inf_py\n",
    "r_inf['diff_2'] = r_inf['inf1'] / r_inf['py']"
   ]
  },
  {
   "cell_type": "code",
   "execution_count": 5,
   "metadata": {},
   "outputs": [
    {
     "data": {
      "text/plain": [
       "(17497, 3)"
      ]
     },
     "execution_count": 5,
     "metadata": {},
     "output_type": "execute_result"
    }
   ],
   "source": [
    "r_inf.shape"
   ]
  },
  {
   "cell_type": "code",
   "execution_count": 6,
   "metadata": {},
   "outputs": [
    {
     "data": {
      "text/plain": [
       "<matplotlib.collections.PathCollection at 0x234cb706fb0>"
      ]
     },
     "execution_count": 6,
     "metadata": {},
     "output_type": "execute_result"
    },
    {
     "data": {
      "image/png": "[encoded data removed]",
      "text/plain": [
       "<Figure size 640x480 with 1 Axes>"
      ]
     },
     "metadata": {},
     "output_type": "display_data"
    }
   ],
   "source": [
    "r = r_inf['inf1'].values\n",
    "py = out.inf_f[0]\n",
    "plt.scatter(r, py)"
   ]
  },
  {
   "cell_type": "code",
   "execution_count": 7,
   "metadata": {},
   "outputs": [
    {
     "data": {
      "image/png": "[encoded data removed]",
      "text/plain": [
       "<Figure size 640x480 with 1 Axes>"
      ]
     },
     "metadata": {},
     "output_type": "display_data"
    }
   ],
   "source": [
    "plt.hist(r, label=\"r\", alpha = 0.5, bins = 1000)\n",
    "plt.hist(py, label=\"r\", alpha = 0.5, bins = 1000)\n",
    "plt.show()"
   ]
  },
  {
   "cell_type": "code",
   "execution_count": 10,
   "metadata": {},
   "outputs": [
    {
     "data": {
      "text/plain": [
       "count    1.749700e+04\n",
       "mean     1.000000e+00\n",
       "std      3.329477e-14\n",
       "min      1.000000e+00\n",
       "25%      1.000000e+00\n",
       "50%      1.000000e+00\n",
       "75%      1.000000e+00\n",
       "max      1.000000e+00\n",
       "Name: diff_2, dtype: float64"
      ]
     },
     "execution_count": 10,
     "metadata": {},
     "output_type": "execute_result"
    }
   ],
   "source": [
    "r_inf['diff_2'].describe()"
   ]
  }
 ],
 "metadata": {
  "kernelspec": {
   "display_name": "Python 3",
   "language": "python",
   "name": "python3"
  },
  "language_info": {
   "codemirror_mode": {
    "name": "ipython",
    "version": 3
   },
   "file_extension": ".py",
   "mimetype": "text/x-python",
   "name": "python",
   "nbconvert_exporter": "python",
   "pygments_lexer": "ipython3",
   "version": "3.10.9"
  }
 },
 "nbformat": 4,
 "nbformat_minor": 2
}
